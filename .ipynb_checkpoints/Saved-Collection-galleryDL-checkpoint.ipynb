{
 "cells": [
  {
   "cell_type": "code",
   "execution_count": 1,
   "id": "5191bd8d",
   "metadata": {},
   "outputs": [
    {
     "name": "stdout",
     "output_type": "stream",
     "text": [
      "0\tDress\t\t\t134\n",
      "1\tFood\t\t\t378\n",
      "2\tJob\t\t\t478\n",
      "3\tMoney\t\t\t671\n",
      "4\tReal estate \t\t\t752\n",
      "5\tMumbai\t\t\t773\n",
      "6\tNyc\t\t\t950\n",
      "7\tStudy\t\t\t1008\n",
      "8\tBody\t\t\t1142\n",
      "9\tRuby dhal\t\t\t1412\n",
      "10\tTravel\t\t\t1413\n",
      "11\tDC\t\t\t1414\n",
      "12\tTattoo\t\t\t1438\n",
      "13\tQuotes\t\t\t1530\n",
      "14\tLucknow \t\t\t1533\n",
      "15\tIndia\t\t\t1539\n",
      "16\tChicks\t\t\t1671\n",
      "17\tGageds\t\t\t1697\n",
      "18\tPhilly\t\t\t1718\n",
      "19\tEssentials\t\t\t1724\n",
      "20\tA&amp;S\t\t\t1793\n",
      "21\tHealth\t\t\t1794\n",
      "22\tWhenever we are bored\t\t\t1805\n",
      "23\tPhoto ideas\t\t\t1811\n",
      "24\t\t\t\t1811\n"
     ]
    }
   ],
   "source": [
    "from bs4 import BeautifulSoup \n",
    "import re\n",
    "import os\n",
    "import sys\n",
    "from instaloader import Profile, Post\n",
    "import instaloader\n",
    "HTMLFile = open(\"saved_collections.html\", \"r\") \n",
    "index = HTMLFile.read() \n",
    "collectionString = '<div class=\"_3-95 _2pim _a6-h _a6-i\">Collection</div><div class=\"_a6-p\"><table style=\"table-layout: fixed;\"><tr><td colspan=\"2\" class=\"_2pin _a6_q\">'\n",
    "test_str = index\n",
    "test_sub = collectionString\n",
    "coll_res = [i.start() for i in re.finditer(test_sub, test_str)]\n",
    "dummy = 0\n",
    "allLinks = []\n",
    "for dummy in range (0, len(coll_res)):\n",
    "    endindex = dummy+1\n",
    "    if dummy == len(coll_res)-1:\n",
    "        endindex = len(coll_res)-1\n",
    "    collIndex = index[coll_res[dummy]+index[coll_res[dummy]:].index('Name<div><div>')+len('Name<div><div>'):coll_res[endindex]]\n",
    "    # print(collIndex[:collIndex.find('<')])\n",
    "    test_str = collIndex\n",
    "    test_sub = \"https://www.instagram.com\"\n",
    "    res = [i.start() for i in re.finditer(test_sub, test_str)]\n",
    "    revres = []\n",
    "    for i in res:\n",
    "        revres.append(i+(collIndex[i:].find('\"')))\n",
    "#     newLinks = []\n",
    "    collectionName = collIndex[:collIndex.find('<')]\n",
    "    for i in range (0, len(res)):\n",
    "        allLinks.append(collectionName + '/' +collIndex[res[i]:revres[i]])\n",
    "    print(str(dummy) + '\\t' + collIndex[:collIndex.find('<')] + \"\\t\\t\\t\" + str(len(allLinks)))\n"
   ]
  },
  {
   "cell_type": "code",
   "execution_count": 2,
   "id": "8b57937b",
   "metadata": {},
   "outputs": [
    {
     "data": {
      "text/plain": [
       "1811"
      ]
     },
     "execution_count": 2,
     "metadata": {},
     "output_type": "execute_result"
    }
   ],
   "source": [
    "len(allLinks)"
   ]
  },
  {
   "cell_type": "code",
   "execution_count": null,
   "id": "44a36be4",
   "metadata": {
    "scrolled": true
   },
   "outputs": [
    {
     "name": "stdout",
     "output_type": "stream",
     "text": [
      "Dress/https://www.instagram.com/p/C1r2NoyrJ5j/\n",
      "Downloading : 1/1811\n",
      "\u001b[H\u001b[2J"
     ]
    },
    {
     "name": "stderr",
     "output_type": "stream",
     "text": [
      "[cookies][info] Extracted 2316 cookies from Firefox\n"
     ]
    },
    {
     "name": "stdout",
     "output_type": "stream",
     "text": [
      "./GalDL/Dress/3272947985879440995_3272947982138172672.jpg\n",
      "./GalDL/Dress/3272947985879440995_3272947982113089327.jpg\n",
      "./GalDL/Dress/3272947985879440995_3272947982163483713.jpg\n",
      "Dress/https://www.instagram.com/reel/C24V_NNB0e7/\n",
      "Downloading : 2/1811\n",
      "\u001b[H\u001b[2J"
     ]
    },
    {
     "name": "stderr",
     "output_type": "stream",
     "text": [
      "[cookies][info] Extracted 2316 cookies from Firefox\n"
     ]
    },
    {
     "name": "stdout",
     "output_type": "stream",
     "text": [
      "./GalDL/Dress/3294479829902510011.mp4\n",
      "Dress/https://www.instagram.com/reel/C1esSEKSLXH/\n",
      "Downloading : 3/1811\n",
      "\u001b[H\u001b[2J"
     ]
    },
    {
     "name": "stderr",
     "output_type": "stream",
     "text": [
      "[cookies][info] Extracted 2316 cookies from Firefox\n"
     ]
    },
    {
     "name": "stdout",
     "output_type": "stream",
     "text": [
      "./GalDL/Dress/3269245134982133191.mp4\n",
      "Dress/https://www.instagram.com/p/C2_FOx-sEWQ/\n",
      "Downloading : 4/1811\n",
      "\u001b[H\u001b[2J"
     ]
    },
    {
     "name": "stderr",
     "output_type": "stream",
     "text": [
      "[cookies][info] Extracted 2316 cookies from Firefox\n"
     ]
    },
    {
     "name": "stdout",
     "output_type": "stream",
     "text": [
      "./GalDL/Dress/3296376458228811152_3296376453615193379.jpg\n",
      "./GalDL/Dress/3296376458228811152_3296376453615273838.jpg\n",
      "./GalDL/Dress/3296376458228811152_3296376453615124360.jpg\n",
      "./GalDL/Dress/3296376458228811152_3296376453824811963.jpg\n",
      "./GalDL/Dress/3296376458228811152_3296376453648844596.jpg\n",
      "./GalDL/Dress/3296376458228811152_3296376453615168023.jpg\n",
      "./GalDL/Dress/3296376458228811152_3296376453623554246.jpg\n",
      "./GalDL/Dress/3296376458228811152_3296376453615267703.jpg\n",
      "./GalDL/Dress/3296376458228811152_3296376453623448477.jpg\n",
      "./GalDL/Dress/3296376458228811152_3296376453606919570.jpg\n",
      "Dress/https://www.instagram.com/p/C2pw3eoNOYI/\n",
      "Downloading : 5/1811\n",
      "\u001b[H\u001b[2J"
     ]
    },
    {
     "name": "stderr",
     "output_type": "stream",
     "text": [
      "[cookies][info] Extracted 2316 cookies from Firefox\n"
     ]
    },
    {
     "name": "stdout",
     "output_type": "stream",
     "text": [
      "./GalDL/Dress/3290375921461421576_3290375916243733624.jpg\n",
      "./GalDL/Dress/3290375921461421576_3290375916294204616.jpg\n",
      "./GalDL/Dress/3290375921461421576_3290375916319390613.jpg\n",
      "./GalDL/Dress/3290375921461421576_3290375916176633537.jpg\n",
      "./GalDL/Dress/3290375921461421576_3290375916151601009.jpg\n",
      "./GalDL/Dress/3290375921461421576_3290375916151524338.jpg\n",
      "Dress/https://www.instagram.com/reel/C2uGjp4o5tP/\n",
      "Downloading : 6/1811\n",
      "\u001b[H\u001b[2J"
     ]
    },
    {
     "name": "stderr",
     "output_type": "stream",
     "text": [
      "[cookies][info] Extracted 2316 cookies from Firefox\n"
     ]
    },
    {
     "name": "stdout",
     "output_type": "stream",
     "text": [
      "./GalDL/Dress/3291597216088824655.mp4\n",
      "Dress/https://www.instagram.com/reel/C0uU0WlunJU/\n",
      "Downloading : 7/1811\n",
      "\u001b[H\u001b[2J"
     ]
    },
    {
     "name": "stderr",
     "output_type": "stream",
     "text": [
      "[cookies][info] Extracted 2316 cookies from Firefox\n"
     ]
    },
    {
     "name": "stdout",
     "output_type": "stream",
     "text": [
      "./GalDL/Dress/3255631139233755732.mp4\n",
      "Dress/https://www.instagram.com/p/C1mzbg2u5Pz/\n",
      "Downloading : 8/1811\n",
      "\u001b[H\u001b[2J"
     ]
    },
    {
     "name": "stderr",
     "output_type": "stream",
     "text": [
      "[cookies][info] Extracted 2316 cookies from Firefox\n"
     ]
    },
    {
     "name": "stdout",
     "output_type": "stream",
     "text": [
      "./GalDL/Dress/3271528370407183347.jpg\n",
      "Dress/https://www.instagram.com/reel/C2cPlzEq-5h/\n",
      "Downloading : 9/1811\n",
      "\u001b[H\u001b[2J"
     ]
    },
    {
     "name": "stderr",
     "output_type": "stream",
     "text": [
      "[cookies][info] Extracted 2316 cookies from Firefox\n",
      "[instagram][error] HttpError: '400 Bad Request' for 'https://www.instagram.com/api/v1/media/3286570396231134817/info/'\n"
     ]
    },
    {
     "name": "stdout",
     "output_type": "stream",
     "text": [
      "Dress/https://www.instagram.com/reel/C2SlHRGsZe6/\n",
      "Downloading : 10/1811\n",
      "\u001b[H\u001b[2J"
     ]
    },
    {
     "name": "stderr",
     "output_type": "stream",
     "text": [
      "[cookies][info] Extracted 2308 cookies from Firefox\n"
     ]
    },
    {
     "name": "stdout",
     "output_type": "stream",
     "text": [
      "./GalDL/Dress/3283850305429673914.mp4\n",
      "Dress/https://www.instagram.com/reel/C2sATV6ubzv/\n",
      "Downloading : 11/1811\n",
      "\u001b[H\u001b[2J"
     ]
    },
    {
     "name": "stderr",
     "output_type": "stream",
     "text": [
      "[cookies][info] Extracted 2308 cookies from Firefox\n"
     ]
    },
    {
     "name": "stdout",
     "output_type": "stream",
     "text": [
      "./GalDL/Dress/3291006756904877295.mp4\n",
      "Dress/https://www.instagram.com/reel/C2ZrBHmJxbZ/\n",
      "Downloading : 12/1811\n",
      "\u001b[H\u001b[2J"
     ]
    },
    {
     "name": "stderr",
     "output_type": "stream",
     "text": [
      "[cookies][info] Extracted 2308 cookies from Firefox\n"
     ]
    },
    {
     "name": "stdout",
     "output_type": "stream",
     "text": [
      "./GalDL/Dress/3285846596019230425.mp4\n",
      "Dress/https://www.instagram.com/reel/C2GBoYPAN9g/\n",
      "Downloading : 13/1811\n",
      "\u001b[H\u001b[2J"
     ]
    },
    {
     "name": "stderr",
     "output_type": "stream",
     "text": [
      "[cookies][info] Extracted 2308 cookies from Firefox\n"
     ]
    },
    {
     "name": "stdout",
     "output_type": "stream",
     "text": [
      "./GalDL/Dress/3280316551433084768.mp4\n",
      "Dress/https://www.instagram.com/p/C1-JqMsRVtc/\n",
      "Downloading : 14/1811\n",
      "\u001b[H\u001b[2J"
     ]
    },
    {
     "name": "stderr",
     "output_type": "stream",
     "text": [
      "[cookies][info] Extracted 2308 cookies from Firefox\n"
     ]
    },
    {
     "name": "stdout",
     "output_type": "stream",
     "text": [
      "./GalDL/Dress/3278100061036567388_3278100057303658354.jpg\n",
      "./GalDL/Dress/3278100061036567388_3278100057295184102.jpg\n",
      "Dress/https://www.instagram.com/p/CzbQrrrI24O/\n",
      "Downloading : 15/1811\n",
      "\u001b[H\u001b[2J"
     ]
    },
    {
     "name": "stderr",
     "output_type": "stream",
     "text": [
      "[cookies][info] Extracted 2308 cookies from Firefox\n"
     ]
    },
    {
     "name": "stdout",
     "output_type": "stream",
     "text": [
      "./GalDL/Dress/3232250528144780814_3232250519546289962.jpg\n",
      "./GalDL/Dress/3232250528144780814_3232250519865107324.jpg\n",
      "./GalDL/Dress/3232250528144780814_3232250519546387275.jpg\n",
      "Dress/https://www.instagram.com/reel/C1wj2FpMwYz/\n",
      "Downloading : 16/1811\n",
      "\u001b[H\u001b[2J"
     ]
    },
    {
     "name": "stderr",
     "output_type": "stream",
     "text": [
      "[cookies][info] Extracted 2308 cookies from Firefox\n"
     ]
    },
    {
     "name": "stdout",
     "output_type": "stream",
     "text": [
      "./GalDL/Dress/3274274577637901875.mp4\n",
      "Dress/https://www.instagram.com/reel/C0rdt8ahrDG/\n",
      "Downloading : 17/1811\n",
      "\u001b[H\u001b[2J"
     ]
    },
    {
     "name": "stderr",
     "output_type": "stream",
     "text": [
      "[cookies][info] Extracted 2307 cookies from Firefox\n"
     ]
    },
    {
     "name": "stdout",
     "output_type": "stream",
     "text": [
      "./GalDL/Dress/3254825856300134598.mp4\n",
      "Dress/https://www.instagram.com/reel/CwazPpEPtdo/\n",
      "Downloading : 18/1811\n",
      "\u001b[H\u001b[2J"
     ]
    },
    {
     "name": "stderr",
     "output_type": "stream",
     "text": [
      "[cookies][info] Extracted 2308 cookies from Firefox\n"
     ]
    },
    {
     "name": "stdout",
     "output_type": "stream",
     "text": [
      "./GalDL/Dress/3178077862322165608.mp4\n",
      "Dress/https://www.instagram.com/reel/C18lud1yy0v/\n",
      "Downloading : 19/1811\n",
      "\u001b[H\u001b[2J"
     ]
    },
    {
     "name": "stderr",
     "output_type": "stream",
     "text": [
      "[cookies][info] Extracted 2307 cookies from Firefox\n"
     ]
    },
    {
     "name": "stdout",
     "output_type": "stream",
     "text": [
      "./GalDL/Dress/3277660549676739887.mp4\n",
      "Dress/https://www.instagram.com/reel/CyenSMGgAZe/\n",
      "Downloading : 20/1811\n",
      "\u001b[H\u001b[2J"
     ]
    },
    {
     "name": "stderr",
     "output_type": "stream",
     "text": [
      "[cookies][info] Extracted 2307 cookies from Firefox\n"
     ]
    },
    {
     "name": "stdout",
     "output_type": "stream",
     "text": [
      "./GalDL/Dress/3215179957747582558.mp4\n",
      "Dress/https://www.instagram.com/reel/C2ZzwG0y3Qi/\n",
      "Downloading : 21/1811\n",
      "\u001b[H\u001b[2J"
     ]
    },
    {
     "name": "stderr",
     "output_type": "stream",
     "text": [
      "[cookies][info] Extracted 2307 cookies from Firefox\n"
     ]
    },
    {
     "name": "stdout",
     "output_type": "stream",
     "text": [
      "./GalDL/Dress/3285885009378636834.mp4\n",
      "Dress/https://www.instagram.com/reel/C2k4HeaOPr5/\n",
      "Downloading : 22/1811\n",
      "\u001b[H\u001b[2J"
     ]
    },
    {
     "name": "stderr",
     "output_type": "stream",
     "text": [
      "[cookies][info] Extracted 2309 cookies from Firefox\n"
     ]
    },
    {
     "name": "stdout",
     "output_type": "stream",
     "text": [
      "./GalDL/Dress/3289000432180460281.mp4\n",
      "Dress/https://www.instagram.com/reel/C2U_5WiLxAJ/\n",
      "Downloading : 23/1811\n",
      "\u001b[H\u001b[2J"
     ]
    },
    {
     "name": "stderr",
     "output_type": "stream",
     "text": [
      "[cookies][info] Extracted 2309 cookies from Firefox\n"
     ]
    },
    {
     "name": "stdout",
     "output_type": "stream",
     "text": [
      "./GalDL/Dress/3284531046396137481.mp4\n",
      "Dress/https://www.instagram.com/reel/C164pYbrxCB/\n",
      "Downloading : 24/1811\n",
      "\u001b[H\u001b[2J"
     ]
    },
    {
     "name": "stderr",
     "output_type": "stream",
     "text": [
      "[cookies][info] Extracted 2309 cookies from Firefox\n"
     ]
    },
    {
     "name": "stdout",
     "output_type": "stream",
     "text": [
      "./GalDL/Dress/3277180813202886785.mp4\n",
      "Dress/https://www.instagram.com/reel/C0hBhQkubHv/\n",
      "Downloading : 25/1811\n",
      "\u001b[H\u001b[2J"
     ]
    },
    {
     "name": "stderr",
     "output_type": "stream",
     "text": [
      "[cookies][info] Extracted 2309 cookies from Firefox\n"
     ]
    },
    {
     "name": "stdout",
     "output_type": "stream",
     "text": [
      "./GalDL/Dress/3251887089523470831.mp4\n",
      "Dress/https://www.instagram.com/reel/C2coaXUp5Q6/\n",
      "Downloading : 26/1811\n",
      "\u001b[H\u001b[2J"
     ]
    },
    {
     "name": "stderr",
     "output_type": "stream",
     "text": [
      "[cookies][info] Extracted 2309 cookies from Firefox\n"
     ]
    },
    {
     "name": "stdout",
     "output_type": "stream",
     "text": [
      "./GalDL/Dress/3286679561683047482.mp4\n",
      "Dress/https://www.instagram.com/reel/C1n9gJ4ONGs/\n",
      "Downloading : 27/1811\n",
      "\u001b[H\u001b[2J"
     ]
    },
    {
     "name": "stderr",
     "output_type": "stream",
     "text": [
      "[cookies][info] Extracted 2309 cookies from Firefox\n"
     ]
    },
    {
     "name": "stdout",
     "output_type": "stream",
     "text": [
      "./GalDL/Dress/3271854144775311788.mp4\n",
      "Dress/https://www.instagram.com/reel/C1m7K1qs2Vv/\n",
      "Downloading : 28/1811\n",
      "\u001b[H\u001b[2J"
     ]
    },
    {
     "name": "stderr",
     "output_type": "stream",
     "text": [
      "[cookies][info] Extracted 2309 cookies from Firefox\n"
     ]
    },
    {
     "name": "stdout",
     "output_type": "stream",
     "text": [
      "./GalDL/Dress/3271562408894883183.mp4\n",
      "Dress/https://www.instagram.com/reel/C2UaFfjvJjz/\n",
      "Downloading : 29/1811\n",
      "\u001b[H\u001b[2J"
     ]
    },
    {
     "name": "stderr",
     "output_type": "stream",
     "text": [
      "[cookies][info] Extracted 2309 cookies from Firefox\n"
     ]
    },
    {
     "name": "stdout",
     "output_type": "stream",
     "text": [
      "./GalDL/Dress/3284364754952165619.mp4\n",
      "Dress/https://www.instagram.com/reel/C0wuAEVgoHg/\n",
      "Downloading : 30/1811\n",
      "\u001b[H\u001b[2J"
     ]
    },
    {
     "name": "stderr",
     "output_type": "stream",
     "text": [
      "[cookies][info] Extracted 2309 cookies from Firefox\n"
     ]
    },
    {
     "name": "stdout",
     "output_type": "stream",
     "text": [
      "./GalDL/Dress/3256304845384221152.mp4\n",
      "Dress/https://www.instagram.com/reel/C1p2Hytg9op/\n",
      "Downloading : 31/1811\n",
      "\u001b[H\u001b[2J"
     ]
    },
    {
     "name": "stderr",
     "output_type": "stream",
     "text": [
      "[cookies][info] Extracted 2309 cookies from Firefox\n"
     ]
    },
    {
     "name": "stdout",
     "output_type": "stream",
     "text": [
      "./GalDL/Dress/3272384634260019753.mp4\n",
      "Dress/https://www.instagram.com/reel/C14Hi0ioAb_/\n",
      "Downloading : 32/1811\n",
      "\u001b[H\u001b[2J"
     ]
    },
    {
     "name": "stderr",
     "output_type": "stream",
     "text": [
      "[cookies][info] Extracted 2309 cookies from Firefox\n"
     ]
    },
    {
     "name": "stdout",
     "output_type": "stream",
     "text": [
      "./GalDL/Dress/3276401908115310335.mp4\n",
      "Dress/https://www.instagram.com/reel/C1z6XK0I5IS/\n",
      "Downloading : 33/1811\n",
      "\u001b[H\u001b[2J"
     ]
    },
    {
     "name": "stderr",
     "output_type": "stream",
     "text": [
      "[cookies][info] Extracted 2309 cookies from Firefox\n"
     ]
    },
    {
     "name": "stdout",
     "output_type": "stream",
     "text": [
      "./GalDL/Dress/3275218032886256146.mp4\n",
      "Dress/https://www.instagram.com/reel/C2VIWS0N6x7/\n",
      "Downloading : 34/1811\n",
      "\u001b[H\u001b[2J"
     ]
    },
    {
     "name": "stderr",
     "output_type": "stream",
     "text": [
      "[cookies][info] Extracted 2309 cookies from Firefox\n",
      "[instagram][error] HttpError: '400 Bad Request' for 'https://www.instagram.com/api/v1/media/3284568219640638587/info/'\n"
     ]
    },
    {
     "name": "stdout",
     "output_type": "stream",
     "text": [
      "Dress/https://www.instagram.com/reel/C2PzM6FIPGD/\n",
      "Downloading : 35/1811\n",
      "\u001b[H\u001b[2J"
     ]
    },
    {
     "name": "stderr",
     "output_type": "stream",
     "text": [
      "[cookies][info] Extracted 2309 cookies from Firefox\n"
     ]
    },
    {
     "name": "stdout",
     "output_type": "stream",
     "text": [
      "./GalDL/Dress/3283067840745238915.mp4\n",
      "Dress/https://www.instagram.com/p/CzsjkS7I2BH/\n",
      "Downloading : 36/1811\n",
      "\u001b[H\u001b[2J"
     ]
    },
    {
     "name": "stderr",
     "output_type": "stream",
     "text": [
      "[cookies][info] Extracted 2309 cookies from Firefox\n"
     ]
    },
    {
     "name": "stdout",
     "output_type": "stream",
     "text": [
      "./GalDL/Dress/3237118658021122119_3237118648306983728.jpg\n",
      "./GalDL/Dress/3237118658021122119_3237118648298629479.jpg\n",
      "./GalDL/Dress/3237118658021122119_3237118648298645630.jpg\n",
      "Dress/https://www.instagram.com/p/C2CzDuQycTB/\n",
      "Downloading : 37/1811\n",
      "\u001b[H\u001b[2J"
     ]
    },
    {
     "name": "stderr",
     "output_type": "stream",
     "text": [
      "[cookies][info] Extracted 2309 cookies from Firefox\n"
     ]
    },
    {
     "name": "stdout",
     "output_type": "stream",
     "text": [
      "./GalDL/Dress/3279408034883421377_3279408030487742183.jpg\n",
      "./GalDL/Dress/3279408034883421377_3279408030622010460.jpg\n",
      "./GalDL/Dress/3279408034883421377_3279408030504603475.jpg\n",
      "./GalDL/Dress/3279408034883421377_3279408030621990832.jpg\n",
      "./GalDL/Dress/3279408034883421377_3279408030705833253.jpg\n",
      "Dress/https://www.instagram.com/p/CzZtZGoOneX/\n",
      "Downloading : 38/1811\n",
      "\u001b[H\u001b[2J"
     ]
    },
    {
     "name": "stderr",
     "output_type": "stream",
     "text": [
      "[cookies][info] Extracted 2309 cookies from Firefox\n"
     ]
    },
    {
     "name": "stdout",
     "output_type": "stream",
     "text": [
      "./GalDL/Dress/3231813844812330903_3231813841179997557.jpg\n",
      "./GalDL/Dress/3231813844812330903_3231813841163315256.jpg\n",
      "./GalDL/Dress/3231813844812330903_3231813841180040695.jpg\n",
      "./GalDL/Dress/3231813844812330903_3231813841180120654.jpg\n",
      "./GalDL/Dress/3231813844812330903_3231813841255576306.jpg\n",
      "./GalDL/Dress/3231813844812330903_3231813841171592289.jpg\n",
      "./GalDL/Dress/3231813844812330903_3231813841213470047.jpg\n",
      "./GalDL/Dress/3231813844812330903_3231813841188502395.jpg\n",
      "./GalDL/Dress/3231813844812330903_3231813841188409478.jpg\n",
      "./GalDL/Dress/3231813844812330903_3231813841171649578.jpg\n",
      "Dress/https://www.instagram.com/p/C1IR-sKMWOd/\n",
      "Downloading : 39/1811\n",
      "\u001b[H\u001b[2J"
     ]
    },
    {
     "name": "stderr",
     "output_type": "stream",
     "text": [
      "[cookies][info] Extracted 2309 cookies from Firefox\n"
     ]
    },
    {
     "name": "stdout",
     "output_type": "stream",
     "text": [
      "./GalDL/Dress/3262937004843819933.jpg\n",
      "Dress/https://www.instagram.com/p/CljOuXiJQVC/\n",
      "Downloading : 40/1811\n",
      "\u001b[H\u001b[2J"
     ]
    },
    {
     "name": "stderr",
     "output_type": "stream",
     "text": [
      "[cookies][info] Extracted 2309 cookies from Firefox\n"
     ]
    },
    {
     "name": "stdout",
     "output_type": "stream",
     "text": [
      "./GalDL/Dress/2982292137265399106.jpg\n",
      "Dress/https://www.instagram.com/reel/C2SNwrFMFFK/\n",
      "Downloading : 41/1811\n",
      "\u001b[H\u001b[2J"
     ]
    },
    {
     "name": "stderr",
     "output_type": "stream",
     "text": [
      "[cookies][info] Extracted 2309 cookies from Firefox\n"
     ]
    },
    {
     "name": "stdout",
     "output_type": "stream",
     "text": [
      "./GalDL/Dress/3283747597703991626.mp4\n",
      "Dress/https://www.instagram.com/p/C0POSUzSNM3/\n",
      "Downloading : 42/1811\n",
      "\u001b[H\u001b[2J"
     ]
    },
    {
     "name": "stderr",
     "output_type": "stream",
     "text": [
      "[cookies][info] Extracted 2309 cookies from Firefox\n"
     ]
    },
    {
     "name": "stdout",
     "output_type": "stream",
     "text": [
      "./GalDL/Dress/3246876688294400823.jpg\n",
      "Dress/https://www.instagram.com/p/Czji2ruyeEf/\n",
      "Downloading : 43/1811\n",
      "\u001b[H\u001b[2J"
     ]
    },
    {
     "name": "stderr",
     "output_type": "stream",
     "text": [
      "[cookies][info] Extracted 2309 cookies from Firefox\n"
     ]
    },
    {
     "name": "stdout",
     "output_type": "stream",
     "text": [
      "./GalDL/Dress/3234582248771150111_3234582242177634713.jpg\n",
      "./GalDL/Dress/3234582248771150111_3234582242353960367.jpg\n",
      "Dress/https://www.instagram.com/reel/C2JwdbqPcOg/\n",
      "Downloading : 44/1811\n",
      "\u001b[H\u001b[2J"
     ]
    },
    {
     "name": "stderr",
     "output_type": "stream",
     "text": [
      "[cookies][info] Extracted 2309 cookies from Firefox\n"
     ]
    },
    {
     "name": "stdout",
     "output_type": "stream",
     "text": [
      "./GalDL/Dress/3281366932313195424.mp4\n",
      "Dress/https://www.instagram.com/reel/C2W4DhjOx30/\n",
      "Downloading : 45/1811\n",
      "\u001b[H\u001b[2J"
     ]
    },
    {
     "name": "stderr",
     "output_type": "stream",
     "text": [
      "[cookies][info] Extracted 2309 cookies from Firefox\n"
     ]
    },
    {
     "name": "stdout",
     "output_type": "stream",
     "text": [
      "./GalDL/Dress/3285059511000964596.mp4\n",
      "Dress/https://www.instagram.com/reel/C2CZ_uiJsB2/\n",
      "Downloading : 46/1811\n",
      "\u001b[H\u001b[2J"
     ]
    },
    {
     "name": "stderr",
     "output_type": "stream",
     "text": [
      "[cookies][info] Extracted 2309 cookies from Firefox\n"
     ]
    },
    {
     "name": "stdout",
     "output_type": "stream",
     "text": [
      "./GalDL/Dress/3279297809134043254.mp4\n",
      "Dress/https://www.instagram.com/p/Cvmsigxvl2q/\n",
      "Downloading : 47/1811\n",
      "\u001b[H\u001b[2J"
     ]
    },
    {
     "name": "stderr",
     "output_type": "stream",
     "text": [
      "[cookies][info] Extracted 2309 cookies from Firefox\n"
     ]
    },
    {
     "name": "stdout",
     "output_type": "stream",
     "text": [
      "./GalDL/Dress/3163411673977347498_3163411668994614288.jpg\n",
      "./GalDL/Dress/3163411673977347498_3163411669195931157.jpg\n",
      "./GalDL/Dress/3163411673977347498_3163411668994600238.jpg\n",
      "./GalDL/Dress/3163411673977347498_3163411669237705977.jpg\n",
      "Dress/https://www.instagram.com/reel/CxZ9lJOqVsU/\n",
      "Downloading : 48/1811\n",
      "\u001b[H\u001b[2J"
     ]
    },
    {
     "name": "stderr",
     "output_type": "stream",
     "text": [
      "[cookies][info] Extracted 2308 cookies from Firefox\n"
     ]
    },
    {
     "name": "stdout",
     "output_type": "stream",
     "text": [
      "./GalDL/Dress/3195856243963550484.mp4\n",
      "Dress/https://www.instagram.com/p/C1vWaTRyRjb/\n",
      "Downloading : 49/1811\n",
      "\u001b[H\u001b[2J"
     ]
    },
    {
     "name": "stderr",
     "output_type": "stream",
     "text": [
      "[cookies][info] Extracted 2308 cookies from Firefox\n"
     ]
    },
    {
     "name": "stdout",
     "output_type": "stream",
     "text": [
      "./GalDL/Dress/3273934018550765787_3273934014247548674.jpg\n",
      "./GalDL/Dress/3273934018550765787_3273934014239075435.jpg\n",
      "./GalDL/Dress/3273934018550765787_3273934014364975231.jpg\n",
      "Dress/https://www.instagram.com/reel/C1dlCdwoE6C/\n",
      "Downloading : 50/1811\n",
      "\u001b[H\u001b[2J"
     ]
    },
    {
     "name": "stderr",
     "output_type": "stream",
     "text": [
      "[cookies][info] Extracted 2308 cookies from Firefox\n"
     ]
    },
    {
     "name": "stdout",
     "output_type": "stream",
     "text": [
      "./GalDL/Dress/3268931801655037570.mp4\n",
      "Dress/https://www.instagram.com/p/CyJPW2CuDrj/\n",
      "Downloading : 51/1811\n",
      "\u001b[H\u001b[2J"
     ]
    },
    {
     "name": "stderr",
     "output_type": "stream",
     "text": [
      "[cookies][info] Extracted 2308 cookies from Firefox\n"
     ]
    },
    {
     "name": "stdout",
     "output_type": "stream",
     "text": [
      "./GalDL/Dress/3209163750032030435_3209163743572914792.jpg\n",
      "./GalDL/Dress/3209163750032030435_3209163743774320468.jpg\n",
      "./GalDL/Dress/3209163750032030435_3209163743598102207.jpg\n",
      "Dress/https://www.instagram.com/p/CytKtRrhkLm/\n",
      "Downloading : 52/1811\n",
      "\u001b[H\u001b[2J"
     ]
    },
    {
     "name": "stderr",
     "output_type": "stream",
     "text": [
      "[cookies][info] Extracted 2308 cookies from Firefox\n"
     ]
    },
    {
     "name": "stdout",
     "output_type": "stream",
     "text": [
      "./GalDL/Dress/3219276400465167078_3219276394064545635.jpg\n",
      "./GalDL/Dress/3219276400465167078_3219276394073057511.jpg\n",
      "./GalDL/Dress/3219276400465167078_3219276394064590345.jpg\n",
      "./GalDL/Dress/3219276400465167078_3219276394073134686.jpg\n",
      "./GalDL/Dress/3219276400465167078_3219276394073101314.jpg\n",
      "Dress/https://www.instagram.com/reel/C14YQifoa0c/\n",
      "Downloading : 53/1811\n",
      "\u001b[H\u001b[2J"
     ]
    },
    {
     "name": "stderr",
     "output_type": "stream",
     "text": [
      "[cookies][info] Extracted 2308 cookies from Firefox\n"
     ]
    },
    {
     "name": "stdout",
     "output_type": "stream",
     "text": [
      "./GalDL/Dress/3276475418577841436.mp4\n",
      "Dress/https://www.instagram.com/reel/C0x4OF9oj9W/\n",
      "Downloading : 54/1811\n",
      "\u001b[H\u001b[2J"
     ]
    },
    {
     "name": "stderr",
     "output_type": "stream",
     "text": [
      "[cookies][info] Extracted 2309 cookies from Firefox\n"
     ]
    },
    {
     "name": "stdout",
     "output_type": "stream",
     "text": [
      "./GalDL/Dress/3256631264645627734.mp4\n",
      "Dress/https://www.instagram.com/reel/C14F6iaJ7Qx/\n",
      "Downloading : 55/1811\n",
      "\u001b[H\u001b[2J"
     ]
    },
    {
     "name": "stderr",
     "output_type": "stream",
     "text": [
      "[cookies][info] Extracted 2309 cookies from Firefox\n"
     ]
    },
    {
     "name": "stdout",
     "output_type": "stream",
     "text": [
      "./GalDL/Dress/3276394741820273713.mp4\n",
      "Dress/https://www.instagram.com/reel/C1_uRH6RjOn/\n",
      "Downloading : 56/1811\n",
      "\u001b[H\u001b[2J"
     ]
    },
    {
     "name": "stderr",
     "output_type": "stream",
     "text": [
      "[cookies][info] Extracted 2309 cookies from Firefox\n"
     ]
    },
    {
     "name": "stdout",
     "output_type": "stream",
     "text": [
      "./GalDL/Dress/3278542540613497767.mp4\n",
      "Dress/https://www.instagram.com/reel/C1v7lklr4S1/\n",
      "Downloading : 57/1811\n",
      "\u001b[H\u001b[2J"
     ]
    },
    {
     "name": "stderr",
     "output_type": "stream",
     "text": [
      "[cookies][info] Extracted 2309 cookies from Firefox\n"
     ]
    },
    {
     "name": "stdout",
     "output_type": "stream",
     "text": [
      "./GalDL/Dress/3274097520773399733.mp4\n",
      "Dress/https://www.instagram.com/reel/C2DouEjig4_/\n",
      "Downloading : 58/1811\n",
      "\u001b[H\u001b[2J"
     ]
    },
    {
     "name": "stderr",
     "output_type": "stream",
     "text": [
      "[cookies][info] Extracted 2309 cookies from Firefox\n"
     ]
    },
    {
     "name": "stdout",
     "output_type": "stream",
     "text": [
      "./GalDL/Dress/3279644041503444543.mp4\n",
      "Dress/https://www.instagram.com/reel/C0zauW9OF2K/\n",
      "Downloading : 59/1811\n",
      "\u001b[H\u001b[2J"
     ]
    },
    {
     "name": "stderr",
     "output_type": "stream",
     "text": [
      "[cookies][info] Extracted 2308 cookies from Firefox\n"
     ]
    },
    {
     "name": "stdout",
     "output_type": "stream",
     "text": [
      "./GalDL/Dress/3257064490473643402.mp4\n",
      "Dress/https://www.instagram.com/reel/C1op7mCpwjJ/\n",
      "Downloading : 60/1811\n",
      "\u001b[H\u001b[2J"
     ]
    },
    {
     "name": "stderr",
     "output_type": "stream",
     "text": [
      "[cookies][info] Extracted 2308 cookies from Firefox\n"
     ]
    },
    {
     "name": "stdout",
     "output_type": "stream",
     "text": [
      "./GalDL/Dress/3272049544487438537.mp4\n",
      "Dress/https://www.instagram.com/reel/C1fMQwdSubr/\n",
      "Downloading : 61/1811\n",
      "\u001b[H\u001b[2J"
     ]
    },
    {
     "name": "stderr",
     "output_type": "stream",
     "text": [
      "[cookies][info] Extracted 2308 cookies from Firefox\n"
     ]
    },
    {
     "name": "stdout",
     "output_type": "stream",
     "text": [
      "./GalDL/Dress/3269385782595086059.mp4\n",
      "Dress/https://www.instagram.com/reel/C0uLZ_8IP9Y/\n",
      "Downloading : 62/1811\n",
      "\u001b[H\u001b[2J"
     ]
    },
    {
     "name": "stderr",
     "output_type": "stream",
     "text": [
      "[cookies][info] Extracted 2308 cookies from Firefox\n"
     ]
    },
    {
     "name": "stdout",
     "output_type": "stream",
     "text": [
      "./GalDL/Dress/3255589745788518232.mp4\n",
      "Dress/https://www.instagram.com/reel/C1Pw-Z_pBvM/\n",
      "Downloading : 63/1811\n",
      "\u001b[H\u001b[2J"
     ]
    },
    {
     "name": "stderr",
     "output_type": "stream",
     "text": [
      "[cookies][info] Extracted 2308 cookies from Firefox\n"
     ]
    },
    {
     "name": "stdout",
     "output_type": "stream",
     "text": [
      "./GalDL/Dress/3265043649618254796.mp4\n",
      "Dress/https://www.instagram.com/p/Cy9x--ZOgI2/\n",
      "Downloading : 64/1811\n",
      "\u001b[H\u001b[2J"
     ]
    },
    {
     "name": "stderr",
     "output_type": "stream",
     "text": [
      "[cookies][info] Extracted 2309 cookies from Firefox\n"
     ]
    },
    {
     "name": "stdout",
     "output_type": "stream",
     "text": [
      "./GalDL/Dress/3223952740148970038_3223952733731696791.jpg\n",
      "./GalDL/Dress/3223952740148970038_3223952733731633646.jpg\n",
      "./GalDL/Dress/3223952740148970038_3223952733740100944.jpg\n",
      "./GalDL/Dress/3223952740148970038_3223952733723387672.jpg\n",
      "./GalDL/Dress/3223952740148970038_3223952733790317551.jpg\n",
      "./GalDL/Dress/3223952740148970038_3223952733740160982.jpg\n",
      "./GalDL/Dress/3223952740148970038_3223952733748538570.jpg\n",
      "./GalDL/Dress/3223952740148970038_3223952733723412343.jpg\n",
      "Dress/https://www.instagram.com/reel/C1zhS3StS0L/\n",
      "Downloading : 65/1811\n",
      "\u001b[H\u001b[2J"
     ]
    },
    {
     "name": "stderr",
     "output_type": "stream",
     "text": [
      "[cookies][info] Extracted 2309 cookies from Firefox\n"
     ]
    },
    {
     "name": "stdout",
     "output_type": "stream",
     "text": [
      "./GalDL/Dress/3275107785883593995.mp4\n",
      "Dress/https://www.instagram.com/reel/Cz_VOKWolAF/\n",
      "Downloading : 66/1811\n",
      "\u001b[H\u001b[2J"
     ]
    },
    {
     "name": "stderr",
     "output_type": "stream",
     "text": [
      "[cookies][info] Extracted 2308 cookies from Firefox\n"
     ]
    },
    {
     "name": "stdout",
     "output_type": "stream",
     "text": [
      "./GalDL/Dress/3242403588896608261.mp4\n",
      "Dress/https://www.instagram.com/reel/C2HhG9uoCh9/\n",
      "Downloading : 67/1811\n",
      "\u001b[H\u001b[2J"
     ]
    },
    {
     "name": "stderr",
     "output_type": "stream",
     "text": [
      "[cookies][info] Extracted 2308 cookies from Firefox\n"
     ]
    },
    {
     "name": "stdout",
     "output_type": "stream",
     "text": [
      "./GalDL/Dress/3280736467694921853.mp4\n",
      "Dress/https://www.instagram.com/p/C0bwd98JVin/\n",
      "Downloading : 68/1811\n",
      "\u001b[H\u001b[2J"
     ]
    },
    {
     "name": "stderr",
     "output_type": "stream",
     "text": [
      "[cookies][info] Extracted 2308 cookies from Firefox\n"
     ]
    },
    {
     "name": "stdout",
     "output_type": "stream",
     "text": [
      "./GalDL/Dress/3250404721682634919.jpg\n",
      "Dress/https://www.instagram.com/reel/C1M7nhWOD8I/\n",
      "Downloading : 69/1811\n",
      "\u001b[H\u001b[2J"
     ]
    },
    {
     "name": "stderr",
     "output_type": "stream",
     "text": [
      "[cookies][info] Extracted 2308 cookies from Firefox\n"
     ]
    },
    {
     "name": "stdout",
     "output_type": "stream",
     "text": [
      "./GalDL/Dress/3264246030546779912.mp4\n",
      "Dress/https://www.instagram.com/reel/C0qoEq-vsNz/\n",
      "Downloading : 70/1811\n",
      "\u001b[H\u001b[2J"
     ]
    },
    {
     "name": "stderr",
     "output_type": "stream",
     "text": [
      "[cookies][info] Extracted 2308 cookies from Firefox\n"
     ]
    },
    {
     "name": "stdout",
     "output_type": "stream",
     "text": [
      "./GalDL/Dress/3254589923616801651.mp4\n",
      "Dress/https://www.instagram.com/p/Cs1fYy7uZQF/\n",
      "Downloading : 71/1811\n",
      "\u001b[H\u001b[2J"
     ]
    },
    {
     "name": "stderr",
     "output_type": "stream",
     "text": [
      "[cookies][info] Extracted 2309 cookies from Firefox\n"
     ]
    },
    {
     "name": "stdout",
     "output_type": "stream",
     "text": [
      "./GalDL/Dress/3113532760794960901.jpg\n",
      "Dress/https://www.instagram.com/p/CwVZHSMOFJ3/\n",
      "Downloading : 72/1811\n",
      "\u001b[H\u001b[2J"
     ]
    },
    {
     "name": "stderr",
     "output_type": "stream",
     "text": [
      "[cookies][info] Extracted 2309 cookies from Firefox\n"
     ]
    },
    {
     "name": "stdout",
     "output_type": "stream",
     "text": [
      "./GalDL/Dress/3176555563911238263_3176555557141634497.jpg\n",
      "./GalDL/Dress/3176555563911238263_3176555557158567679.jpg\n",
      "Dress/https://www.instagram.com/reel/CzgwjRENIQ4/\n",
      "Downloading : 73/1811\n",
      "\u001b[H\u001b[2J"
     ]
    },
    {
     "name": "stderr",
     "output_type": "stream",
     "text": [
      "[cookies][info] Extracted 2309 cookies from Firefox\n"
     ]
    },
    {
     "name": "stdout",
     "output_type": "stream",
     "text": [
      "./GalDL/Dress/3233798062190396472.mp4\n",
      "Dress/https://www.instagram.com/reel/C17KDRfvoXQ/\n",
      "Downloading : 74/1811\n",
      "\u001b[H\u001b[2J"
     ]
    },
    {
     "name": "stderr",
     "output_type": "stream",
     "text": [
      "[cookies][info] Extracted 2309 cookies from Firefox\n"
     ]
    },
    {
     "name": "stdout",
     "output_type": "stream",
     "text": [
      "./GalDL/Dress/3277257359251899856.mp4\n",
      "Dress/https://www.instagram.com/reel/CzoUXeZsrsB/\n",
      "Downloading : 75/1811\n",
      "\u001b[H\u001b[2J"
     ]
    },
    {
     "name": "stderr",
     "output_type": "stream",
     "text": [
      "[cookies][info] Extracted 2309 cookies from Firefox\n"
     ]
    },
    {
     "name": "stdout",
     "output_type": "stream",
     "text": [
      "./GalDL/Dress/3235925906387286785.mp4\n",
      "Dress/https://www.instagram.com/p/CsgfdHTM6Y9/\n",
      "Downloading : 76/1811\n",
      "\u001b[H\u001b[2J"
     ]
    },
    {
     "name": "stderr",
     "output_type": "stream",
     "text": [
      "[cookies][info] Extracted 2309 cookies from Firefox\n"
     ]
    },
    {
     "name": "stdout",
     "output_type": "stream",
     "text": [
      "./GalDL/Dress/3107622083030656573_3107622077636720472.jpg\n",
      "./GalDL/Dress/3107622083030656573_3107622077661920773.jpg\n",
      "./GalDL/Dress/3107622083030656573_3107622077854734033.jpg\n",
      "./GalDL/Dress/3107622083030656573_3107622077645047267.jpg\n",
      "./GalDL/Dress/3107622083030656573_3107622077636543475.jpg\n",
      "Dress/https://www.instagram.com/p/C13mqHFSL7X/\n",
      "Downloading : 77/1811\n",
      "\u001b[H\u001b[2J"
     ]
    },
    {
     "name": "stderr",
     "output_type": "stream",
     "text": [
      "[cookies][info] Extracted 2309 cookies from Firefox\n"
     ]
    },
    {
     "name": "stdout",
     "output_type": "stream",
     "text": [
      "./GalDL/Dress/3276257273525616343_3276257268660426482.jpg\n",
      "./GalDL/Dress/3276257273525616343_3276257268660362708.jpg\n",
      "./GalDL/Dress/3276257273525616343_3276257268668705635.jpg\n",
      "./GalDL/Dress/3276257273525616343_3276257268794539152.jpg\n",
      "./GalDL/Dress/3276257273525616343_3276257268786157839.jpg\n",
      "./GalDL/Dress/3276257273525616343_3276257268660371644.jpg\n",
      "Dress/https://www.instagram.com/reel/C2ATe7QRwc6/\n",
      "Downloading : 78/1811\n",
      "\u001b[H\u001b[2J"
     ]
    },
    {
     "name": "stderr",
     "output_type": "stream",
     "text": [
      "[cookies][info] Extracted 2309 cookies from Firefox\n"
     ]
    },
    {
     "name": "stdout",
     "output_type": "stream",
     "text": [
      "./GalDL/Dress/3278706216817592122.mp4\n",
      "Dress/https://www.instagram.com/reel/C14d803xjZ-/\n",
      "Downloading : 79/1811\n",
      "\u001b[H\u001b[2J"
     ]
    },
    {
     "name": "stderr",
     "output_type": "stream",
     "text": [
      "[cookies][info] Extracted 2309 cookies from Firefox\n"
     ]
    },
    {
     "name": "stdout",
     "output_type": "stream",
     "text": [
      "./GalDL/Dress/3276500452199773822.mp4\n",
      "Dress/https://www.instagram.com/reel/CzX796eygSd/\n",
      "Downloading : 80/1811\n",
      "\u001b[H\u001b[2J"
     ]
    },
    {
     "name": "stderr",
     "output_type": "stream",
     "text": [
      "[cookies][info] Extracted 2309 cookies from Firefox\n"
     ]
    },
    {
     "name": "stdout",
     "output_type": "stream",
     "text": [
      "./GalDL/Dress/3231314997087437981.mp4\n",
      "Dress/https://www.instagram.com/reel/Cz8IQNfNpWY/\n",
      "Downloading : 81/1811\n",
      "\u001b[H\u001b[2J"
     ]
    },
    {
     "name": "stderr",
     "output_type": "stream",
     "text": [
      "[cookies][info] Extracted 2309 cookies from Firefox\n"
     ]
    },
    {
     "name": "stdout",
     "output_type": "stream",
     "text": [
      "./GalDL/Dress/3241502130165945752.mp4\n",
      "Dress/https://www.instagram.com/p/CzfEEMWMYas/\n",
      "Downloading : 82/1811\n",
      "\u001b[H\u001b[2J"
     ]
    },
    {
     "name": "stderr",
     "output_type": "stream",
     "text": [
      "[cookies][info] Extracted 2309 cookies from Firefox\n"
     ]
    },
    {
     "name": "stdout",
     "output_type": "stream",
     "text": [
      "./GalDL/Dress/3233320937796503212_3233320930884346284.jpg\n",
      "./GalDL/Dress/3233320937796503212_3233320930884280600.jpg\n",
      "./GalDL/Dress/3233320937796503212_3233320930892754813.jpg\n",
      "./GalDL/Dress/3233320937796503212_3233320930892820613.jpg\n",
      "./GalDL/Dress/3233320937796503212_3233320930892609861.jpg\n",
      "./GalDL/Dress/3233320937796503212_3233320930892731512.jpg\n",
      "./GalDL/Dress/3233320937796503212_3233320930901099066.jpg\n",
      "./GalDL/Dress/3233320937796503212_3233320930892800706.jpg\n",
      "./GalDL/Dress/3233320937796503212_3233320930892638045.jpg\n",
      "./GalDL/Dress/3233320937796503212_3233320930892834359.jpg\n",
      "Dress/https://www.instagram.com/p/CvYWRhVsuMg/\n",
      "Downloading : 83/1811\n",
      "\u001b[H\u001b[2J"
     ]
    },
    {
     "name": "stderr",
     "output_type": "stream",
     "text": [
      "[cookies][info] Extracted 2309 cookies from Firefox\n"
     ]
    },
    {
     "name": "stdout",
     "output_type": "stream",
     "text": [
      "./GalDL/Dress/3159373099652277024_3159373093419471470.jpg\n",
      "./GalDL/Dress/3159373099652277024_3159373093436326530.jpg\n",
      "./GalDL/Dress/3159373099652277024_3159373093696414082.jpg\n",
      "./GalDL/Dress/3159373099652277024_3159373093645858430.jpg\n",
      "./GalDL/Dress/3159373099652277024_3159373093436292111.jpg\n",
      "./GalDL/Dress/3159373099652277024_3159373093436265806.jpg\n",
      "./GalDL/Dress/3159373099652277024_3159373093637667271.jpg\n",
      "./GalDL/Dress/3159373099652277024_3159373093436143864.jpg\n",
      "./GalDL/Dress/3159373099652277024_3159373093427815697.jpg\n",
      "./GalDL/Dress/3159373099652277024_3159373093436254440.jpg\n",
      "Dress/https://www.instagram.com/p/C08CntuoRXw/\n",
      "Downloading : 84/1811\n",
      "\u001b[H\u001b[2J"
     ]
    },
    {
     "name": "stderr",
     "output_type": "stream",
     "text": [
      "[cookies][info] Extracted 2309 cookies from Firefox\n"
     ]
    },
    {
     "name": "stdout",
     "output_type": "stream",
     "text": [
      "./GalDL/Dress/3259491755562702320_3259491746997982813.jpg\n",
      "./GalDL/Dress/3259491755562702320_3259491746997912476.jpg\n",
      "./GalDL/Dress/3259491755562702320_3259491746956052630.jpg\n",
      "./GalDL/Dress/3259491755562702320_3259491746998115148.jpg\n",
      "./GalDL/Dress/3259491755562702320_3259491746997980256.jpg\n",
      "./GalDL/Dress/3259491755562702320_3259491746997962211.jpg\n",
      "./GalDL/Dress/3259491755562702320_3259491746997947434.jpg\n",
      "Dress/https://www.instagram.com/reel/CylJGKGpnXi/\n",
      "Downloading : 85/1811\n",
      "\u001b[H\u001b[2J"
     ]
    },
    {
     "name": "stderr",
     "output_type": "stream",
     "text": [
      "[cookies][info] Extracted 2309 cookies from Firefox\n"
     ]
    },
    {
     "name": "stdout",
     "output_type": "stream",
     "text": [
      "./GalDL/Dress/3217017514410538466.mp4\n",
      "Dress/https://www.instagram.com/reel/CzWfFM8hHG7/\n",
      "Downloading : 86/1811\n",
      "\u001b[H\u001b[2J"
     ]
    },
    {
     "name": "stderr",
     "output_type": "stream",
     "text": [
      "[cookies][info] Extracted 2309 cookies from Firefox\n"
     ]
    },
    {
     "name": "stdout",
     "output_type": "stream",
     "text": [
      "./GalDL/Dress/3230906479624352187.mp4\n",
      "Dress/https://www.instagram.com/p/C07nzblyukX/\n",
      "Downloading : 87/1811\n",
      "\u001b[H\u001b[2J"
     ]
    },
    {
     "name": "stderr",
     "output_type": "stream",
     "text": [
      "[cookies][info] Extracted 2309 cookies from Firefox\n"
     ]
    },
    {
     "name": "stdout",
     "output_type": "stream",
     "text": [
      "./GalDL/Dress/3259373813465016599_3259373808096359243.jpg\n",
      "./GalDL/Dress/3259373813465016599_3259373807970505212.jpg\n",
      "./GalDL/Dress/3259373813465016599_3259373807962046086.jpg\n",
      "Dress/https://www.instagram.com/p/Cf9BG9gJtnN/\n",
      "Downloading : 88/1811\n",
      "\u001b[H\u001b[2J"
     ]
    },
    {
     "name": "stderr",
     "output_type": "stream",
     "text": [
      "[cookies][info] Extracted 2309 cookies from Firefox\n"
     ]
    },
    {
     "name": "stdout",
     "output_type": "stream",
     "text": [
      "./GalDL/Dress/2881464212988025293_2881464209095684171.jpg\n",
      "./GalDL/Dress/2881464212988025293_2881464209112468200.jpg\n",
      "./GalDL/Dress/2881464212988025293_2881464209095604751.jpg\n",
      "Dress/https://www.instagram.com/reel/C1q_YsGO3fW/\n",
      "Downloading : 89/1811\n",
      "\u001b[H\u001b[2J"
     ]
    },
    {
     "name": "stderr",
     "output_type": "stream",
     "text": [
      "[cookies][info] Extracted 2309 cookies from Firefox\n"
     ]
    },
    {
     "name": "stdout",
     "output_type": "stream",
     "text": [
      "./GalDL/Dress/3272706852784928726.mp4\n",
      "Dress/https://www.instagram.com/p/Cz_bYHgp-q4/\n",
      "Downloading : 90/1811\n",
      "\u001b[H\u001b[2J"
     ]
    },
    {
     "name": "stderr",
     "output_type": "stream",
     "text": [
      "[cookies][info] Extracted 2309 cookies from Firefox\n"
     ]
    },
    {
     "name": "stdout",
     "output_type": "stream",
     "text": [
      "./GalDL/Dress/3242430661317356216_3242430655881493833.jpg\n",
      "./GalDL/Dress/3242430661317356216_3242430655881406651.jpg\n",
      "./GalDL/Dress/3242430661317356216_3242430655881438116.jpg\n",
      "./GalDL/Dress/3242430661317356216_3242430655881382977.jpg\n",
      "./GalDL/Dress/3242430661317356216_3242430655881347766.jpg\n",
      "./GalDL/Dress/3242430661317356216_3242430655881444173.jpg\n",
      "./GalDL/Dress/3242430661317356216_3242430655864536436.jpg\n",
      "Dress/https://www.instagram.com/p/CzdLD0Tv_nE/\n",
      "Downloading : 91/1811\n",
      "\u001b[H\u001b[2J"
     ]
    },
    {
     "name": "stderr",
     "output_type": "stream",
     "text": [
      "[cookies][info] Extracted 2309 cookies from Firefox\n"
     ]
    },
    {
     "name": "stdout",
     "output_type": "stream",
     "text": [
      "./GalDL/Dress/3232788748357859780_3232788744650085113.jpg\n",
      "./GalDL/Dress/3232788748357859780_3232788744649946552.jpg\n",
      "./GalDL/Dress/3232788748357859780_3232788744515751216.jpg\n",
      "Dress/https://www.instagram.com/reel/CzyOQ4zR1RI/\n",
      "Downloading : 92/1811\n",
      "\u001b[H\u001b[2J"
     ]
    },
    {
     "name": "stderr",
     "output_type": "stream",
     "text": [
      "[cookies][info] Extracted 2309 cookies from Firefox\n"
     ]
    },
    {
     "name": "stdout",
     "output_type": "stream",
     "text": [
      "./GalDL/Dress/3238713815185445960.mp4\n",
      "Dress/https://www.instagram.com/reel/C16uE5yIv9Q/\n",
      "Downloading : 93/1811\n",
      "\u001b[H\u001b[2J"
     ]
    },
    {
     "name": "stderr",
     "output_type": "stream",
     "text": [
      "[cookies][info] Extracted 2309 cookies from Firefox\n"
     ]
    },
    {
     "name": "stdout",
     "output_type": "stream",
     "text": [
      "./GalDL/Dress/3277134325927313232.mp4\n",
      "Dress/https://www.instagram.com/reel/C1bqxwqsq-7/\n",
      "Downloading : 94/1811\n",
      "\u001b[H\u001b[2J"
     ]
    },
    {
     "name": "stderr",
     "output_type": "stream",
     "text": [
      "[cookies][info] Extracted 2309 cookies from Firefox\n"
     ]
    },
    {
     "name": "stdout",
     "output_type": "stream",
     "text": [
      "./GalDL/Dress/3268394092051214267.mp4\n",
      "Dress/https://www.instagram.com/reel/C0zdQzwywef/\n",
      "Downloading : 95/1811\n",
      "\u001b[H\u001b[2J"
     ]
    },
    {
     "name": "stderr",
     "output_type": "stream",
     "text": [
      "[cookies][info] Extracted 2309 cookies from Firefox\n"
     ]
    },
    {
     "name": "stdout",
     "output_type": "stream",
     "text": [
      "./GalDL/Dress/3257075653958895519.mp4\n",
      "Dress/https://www.instagram.com/reel/C116cwzLbCW/\n",
      "Downloading : 96/1811\n",
      "\u001b[H\u001b[2J"
     ]
    },
    {
     "name": "stderr",
     "output_type": "stream",
     "text": [
      "[cookies][info] Extracted 2309 cookies from Firefox\n"
     ]
    },
    {
     "name": "stdout",
     "output_type": "stream",
     "text": [
      "./GalDL/Dress/3275781367223136406.mp4\n",
      "Dress/https://www.instagram.com/reel/C0EoAQRrTvO/\n",
      "Downloading : 97/1811\n",
      "\u001b[H\u001b[2J"
     ]
    },
    {
     "name": "stderr",
     "output_type": "stream",
     "text": [
      "[cookies][info] Extracted 2309 cookies from Firefox\n"
     ]
    },
    {
     "name": "stdout",
     "output_type": "stream",
     "text": [
      "./GalDL/Dress/3243893570950478798.mp4\n",
      "Dress/https://www.instagram.com/reel/C1Pwddcyx61/\n",
      "Downloading : 98/1811\n",
      "\u001b[H\u001b[2J"
     ]
    },
    {
     "name": "stderr",
     "output_type": "stream",
     "text": [
      "[cookies][info] Extracted 2309 cookies from Firefox\n"
     ]
    },
    {
     "name": "stdout",
     "output_type": "stream",
     "text": [
      "./GalDL/Dress/3265041385585843893.mp4\n",
      "Dress/https://www.instagram.com/reel/CydZM4XrOVe/\n",
      "Downloading : 99/1811\n",
      "\u001b[H\u001b[2J"
     ]
    },
    {
     "name": "stderr",
     "output_type": "stream",
     "text": [
      "[cookies][info] Extracted 2309 cookies from Firefox\n"
     ]
    },
    {
     "name": "stdout",
     "output_type": "stream",
     "text": [
      "./GalDL/Dress/3214836545335649630.mp4\n",
      "Dress/https://www.instagram.com/p/Ct9BeEeyVsZ/\n",
      "Downloading : 100/1811\n",
      "\u001b[H\u001b[2J"
     ]
    },
    {
     "name": "stderr",
     "output_type": "stream",
     "text": [
      "[cookies][info] Extracted 2309 cookies from Firefox\n"
     ]
    },
    {
     "name": "stdout",
     "output_type": "stream",
     "text": [
      "./GalDL/Dress/3133667380162026265_3133667371773519804.jpg\n",
      "./GalDL/Dress/3133667380162026265_3133667371773376140.jpg\n",
      "./GalDL/Dress/3133667380162026265_3133667371899160646.jpg\n",
      "./GalDL/Dress/3133667380162026265_3133667371764996237.jpg\n",
      "./GalDL/Dress/3133667380162026265_3133667371781931538.jpg\n",
      "./GalDL/Dress/3133667380162026265_3133667371773457834.jpg\n",
      "./GalDL/Dress/3133667380162026265_3133667371773414188.jpg\n",
      "./GalDL/Dress/3133667380162026265_3133667371773502715.jpg\n",
      "Dress/https://www.instagram.com/reel/C1wQRI4J2Hj/\n",
      "Downloading : 101/1811\n",
      "\u001b[H\u001b[2J"
     ]
    },
    {
     "name": "stderr",
     "output_type": "stream",
     "text": [
      "[cookies][info] Extracted 2309 cookies from Firefox\n"
     ]
    },
    {
     "name": "stdout",
     "output_type": "stream",
     "text": [
      "./GalDL/Dress/3274188475605672419.mp4\n",
      "Dress/https://www.instagram.com/p/Cyz8auEPLgN/\n",
      "Downloading : 102/1811\n",
      "\u001b[H\u001b[2J"
     ]
    },
    {
     "name": "stderr",
     "output_type": "stream",
     "text": [
      "[cookies][info] Extracted 2309 cookies from Firefox\n"
     ]
    },
    {
     "name": "stdout",
     "output_type": "stream",
     "text": [
      "./GalDL/Dress/3221183877460310029_3221183871051414867.jpg\n",
      "./GalDL/Dress/3221183877460310029_3221183871034608303.jpg\n",
      "./GalDL/Dress/3221183877460310029_3221183871043213460.jpg\n",
      "./GalDL/Dress/3221183877460310029_3221183871043022928.jpg\n",
      "./GalDL/Dress/3221183877460310029_3221183871043031016.jpg\n",
      "./GalDL/Dress/3221183877460310029_3221183871160666443.jpg\n",
      "./GalDL/Dress/3221183877460310029_3221183871361924484.jpg\n",
      "Dress/https://www.instagram.com/p/Cz6OISKJQ4z/\n",
      "Downloading : 103/1811\n",
      "\u001b[H\u001b[2J"
     ]
    },
    {
     "name": "stderr",
     "output_type": "stream",
     "text": [
      "[cookies][info] Extracted 2309 cookies from Firefox\n"
     ]
    },
    {
     "name": "stdout",
     "output_type": "stream",
     "text": [
      "./GalDL/Dress/3240965023751015987_3240965020320263650.jpg\n",
      "./GalDL/Dress/3240965023751015987_3240965020328415101.jpg\n",
      "./GalDL/Dress/3240965023751015987_3240965020320261371.jpg\n",
      "./GalDL/Dress/3240965023751015987_3240965020328546336.jpg\n",
      "Dress/https://www.instagram.com/reel/C0BesuLhR6L/\n",
      "Downloading : 104/1811\n",
      "\u001b[H\u001b[2J"
     ]
    },
    {
     "name": "stderr",
     "output_type": "stream",
     "text": [
      "[cookies][info] Extracted 2309 cookies from Firefox\n"
     ]
    },
    {
     "name": "stdout",
     "output_type": "stream",
     "text": [
      "./GalDL/Dress/3243008221321174667.mp4\n",
      "Dress/https://www.instagram.com/reel/C0fdr0Qu9y3/\n",
      "Downloading : 105/1811\n",
      "\u001b[H\u001b[2J"
     ]
    },
    {
     "name": "stderr",
     "output_type": "stream",
     "text": [
      "[cookies][info] Extracted 2307 cookies from Firefox\n"
     ]
    },
    {
     "name": "stdout",
     "output_type": "stream",
     "text": [
      "./GalDL/Dress/3251448010386431159.mp4\n",
      "Dress/https://www.instagram.com/p/C1TAnFZMFFT/\n",
      "Downloading : 106/1811\n",
      "\u001b[H\u001b[2J"
     ]
    },
    {
     "name": "stderr",
     "output_type": "stream",
     "text": [
      "[cookies][info] Extracted 2307 cookies from Firefox\n"
     ]
    },
    {
     "name": "stdout",
     "output_type": "stream",
     "text": [
      "./GalDL/Dress/3265956840624640339_3265956832823305208.jpg\n",
      "./GalDL/Dress/3265956840624640339_3265956831732775330.jpg\n",
      "./GalDL/Dress/3265956840624640339_3265956833536320927.jpg\n",
      "Dress/https://www.instagram.com/reel/C1W9EOuorVE/\n",
      "Downloading : 107/1811\n",
      "\u001b[H\u001b[2J"
     ]
    },
    {
     "name": "stderr",
     "output_type": "stream",
     "text": [
      "[cookies][info] Extracted 2307 cookies from Firefox\n"
     ]
    },
    {
     "name": "stdout",
     "output_type": "stream",
     "text": [
      "./GalDL/Dress/3267067151233758532.mp4\n",
      "Dress/https://www.instagram.com/p/Cwo7ne2JyRG/\n",
      "Downloading : 108/1811\n",
      "\u001b[H\u001b[2J"
     ]
    },
    {
     "name": "stderr",
     "output_type": "stream",
     "text": [
      "[cookies][info] Extracted 2307 cookies from Firefox\n"
     ]
    },
    {
     "name": "stdout",
     "output_type": "stream",
     "text": [
      "./GalDL/Dress/3182055334661792838_3182055329813112167.jpg\n",
      "./GalDL/Dress/3182055334661792838_3182055329813223898.jpg\n",
      "./GalDL/Dress/3182055334661792838_3182055329804843229.jpg\n",
      "./GalDL/Dress/3182055334661792838_3182055329804757017.jpg\n",
      "./GalDL/Dress/3182055334661792838_3182055329813145567.jpg\n",
      "Dress/https://www.instagram.com/p/C1jo_kavk8q/\n",
      "Downloading : 109/1811\n",
      "\u001b[H\u001b[2J"
     ]
    },
    {
     "name": "stderr",
     "output_type": "stream",
     "text": [
      "[cookies][info] Extracted 2307 cookies from Firefox\n"
     ]
    },
    {
     "name": "stdout",
     "output_type": "stream",
     "text": [
      "./GalDL/Dress/3270638044691975978_3270638041034566833.jpg\n",
      "./GalDL/Dress/3270638044691975978_3270638041160431295.jpg\n",
      "./GalDL/Dress/3270638044691975978_3270638041160425573.jpg\n",
      "./GalDL/Dress/3270638044691975978_3270638041034574322.jpg\n",
      "./GalDL/Dress/3270638044691975978_3270638041034584541.jpg\n",
      "Dress/https://www.instagram.com/reel/C0Q5aF-vr4R/\n",
      "Downloading : 110/1811\n",
      "\u001b[H\u001b[2J"
     ]
    },
    {
     "name": "stderr",
     "output_type": "stream",
     "text": [
      "[cookies][info] Extracted 2307 cookies from Firefox\n"
     ]
    },
    {
     "name": "stdout",
     "output_type": "stream",
     "text": [
      "./GalDL/Dress/3247347813113052689.mp4\n",
      "Dress/https://www.instagram.com/p/C1EnDIZBBFe/\n",
      "Downloading : 111/1811\n",
      "\u001b[H\u001b[2J"
     ]
    },
    {
     "name": "stderr",
     "output_type": "stream",
     "text": [
      "[cookies][info] Extracted 2307 cookies from Firefox\n"
     ]
    },
    {
     "name": "stdout",
     "output_type": "stream",
     "text": [
      "./GalDL/Dress/3261903769105076574_3261903764717910858.jpg\n",
      "./GalDL/Dress/3261903769105076574_3261903764726381385.jpg\n",
      "Dress/https://www.instagram.com/reel/C1XdtM4SUgY/\n",
      "Downloading : 112/1811\n",
      "\u001b[H\u001b[2J"
     ]
    },
    {
     "name": "stderr",
     "output_type": "stream",
     "text": [
      "[cookies][info] Extracted 2307 cookies from Firefox\n"
     ]
    },
    {
     "name": "stdout",
     "output_type": "stream",
     "text": [
      "./GalDL/Dress/3267210704235087896.mp4\n",
      "Dress/https://www.instagram.com/reel/C0N6SHIPn86/\n",
      "Downloading : 113/1811\n",
      "\u001b[H\u001b[2J"
     ]
    },
    {
     "name": "stderr",
     "output_type": "stream",
     "text": [
      "[cookies][info] Extracted 2307 cookies from Firefox\n"
     ]
    },
    {
     "name": "stdout",
     "output_type": "stream",
     "text": [
      "./GalDL/Dress/3246507237706727226.mp4\n",
      "Dress/https://www.instagram.com/reel/C133GtSPuZL/\n",
      "Downloading : 114/1811\n",
      "\u001b[H\u001b[2J"
     ]
    },
    {
     "name": "stderr",
     "output_type": "stream",
     "text": [
      "[cookies][info] Extracted 2306 cookies from Firefox\n"
     ]
    },
    {
     "name": "stdout",
     "output_type": "stream",
     "text": [
      "./GalDL/Dress/3276329607434790475.mp4\n",
      "Dress/https://www.instagram.com/reel/C0_4RpAoaOt/\n",
      "Downloading : 115/1811\n",
      "\u001b[H\u001b[2J"
     ]
    },
    {
     "name": "stderr",
     "output_type": "stream",
     "text": [
      "[cookies][info] Extracted 2315 cookies from Firefox\n"
     ]
    },
    {
     "name": "stdout",
     "output_type": "stream",
     "text": [
      "./GalDL/Dress/3260572158109262765.mp4\n",
      "Dress/https://www.instagram.com/reel/C0Zc32PIpAe/\n",
      "Downloading : 116/1811\n",
      "\u001b[H\u001b[2J"
     ]
    },
    {
     "name": "stderr",
     "output_type": "stream",
     "text": [
      "[cookies][info] Extracted 2315 cookies from Firefox\n"
     ]
    },
    {
     "name": "stdout",
     "output_type": "stream",
     "text": [
      "./GalDL/Dress/3249755589234036766.mp4\n",
      "Dress/https://www.instagram.com/p/Cz6YXtVBcNA/\n",
      "Downloading : 117/1811\n",
      "\u001b[H\u001b[2J"
     ]
    },
    {
     "name": "stderr",
     "output_type": "stream",
     "text": [
      "[cookies][info] Extracted 2318 cookies from Firefox\n"
     ]
    },
    {
     "name": "stdout",
     "output_type": "stream",
     "text": [
      "./GalDL/Dress/3241010064181805888_3241010060264254165.jpg\n",
      "./GalDL/Dress/3241010064181805888_3241010060256025995.jpg\n",
      "./GalDL/Dress/3241010064181805888_3241010060423836518.jpg\n",
      "Dress/https://www.instagram.com/reel/C1KYcy-s4ES/\n",
      "Downloading : 118/1811\n",
      "\u001b[H\u001b[2J"
     ]
    },
    {
     "name": "stderr",
     "output_type": "stream",
     "text": [
      "[cookies][info] Extracted 2318 cookies from Firefox\n"
     ]
    },
    {
     "name": "stdout",
     "output_type": "stream",
     "text": [
      "./GalDL/Dress/3263528411984003346.mp4\n",
      "Dress/https://www.instagram.com/p/C11FsHxPn-d/\n",
      "Downloading : 119/1811\n",
      "\u001b[H\u001b[2J"
     ]
    },
    {
     "name": "stderr",
     "output_type": "stream",
     "text": [
      "[cookies][info] Extracted 2318 cookies from Firefox\n"
     ]
    },
    {
     "name": "stdout",
     "output_type": "stream",
     "text": [
      "./GalDL/Dress/3275549326213808029_3275549322094962625.jpg\n",
      "./GalDL/Dress/3275549326213808029_3275549322095025090.jpg\n",
      "./GalDL/Dress/3275549326213808029_3275549322095057279.jpg\n",
      "./GalDL/Dress/3275549326213808029_3275549322094926990.jpg\n",
      "./GalDL/Dress/3275549326213808029_3275549322262766462.jpg\n",
      "Dress/https://www.instagram.com/p/Cvh3SJPyh-8/\n",
      "Downloading : 120/1811\n",
      "\u001b[H\u001b[2J"
     ]
    },
    {
     "name": "stderr",
     "output_type": "stream",
     "text": [
      "[cookies][info] Extracted 2317 cookies from Firefox\n"
     ]
    },
    {
     "name": "stdout",
     "output_type": "stream",
     "text": [
      "./GalDL/Dress/3162051552828071868_3162051546175978806.jpg\n",
      "./GalDL/Dress/3162051552828071868_3162051546175812450.jpg\n",
      "./GalDL/Dress/3162051552828071868_3162051546184375882.jpg\n",
      "./GalDL/Dress/3162051552828071868_3162051546175950678.jpg\n",
      "./GalDL/Dress/3162051552828071868_3162051546175978929.jpg\n",
      "./GalDL/Dress/3162051552828071868_3162051546175988858.jpg\n",
      "./GalDL/Dress/3162051552828071868_3162051546167627293.jpg\n",
      "./GalDL/Dress/3162051552828071868_3162051546293321720.jpg\n",
      "Dress/https://www.instagram.com/p/C1l9M6mpPXZ/\n",
      "Downloading : 121/1811\n",
      "\u001b[H\u001b[2J"
     ]
    },
    {
     "name": "stderr",
     "output_type": "stream",
     "text": [
      "[cookies][info] Extracted 2317 cookies from Firefox\n"
     ]
    },
    {
     "name": "stdout",
     "output_type": "stream",
     "text": [
      "./GalDL/Dress/3271289872750802393_3271289866643939390.jpg\n",
      "./GalDL/Dress/3271289872750802393_3271289866627208326.jpg\n",
      "./GalDL/Dress/3271289872750802393_3271289866618855107.jpg\n",
      "./GalDL/Dress/3271289872750802393_3271289866635556338.jpg\n",
      "./GalDL/Dress/3271289872750802393_3271289866618746742.jpg\n",
      "./GalDL/Dress/3271289872750802393_3271289866627111799.jpg\n",
      "./GalDL/Dress/3271289872750802393_3271289866635459097.jpg\n",
      "./GalDL/Dress/3271289872750802393_3271289866635668331.jpg\n",
      "./GalDL/Dress/3271289872750802393_3271289866635453513.jpg\n",
      "./GalDL/Dress/3271289872750802393_3271289866627254155.jpg\n",
      "Dress/https://www.instagram.com/reel/C0rdnKDvWBb/\n",
      "Downloading : 122/1811\n",
      "\u001b[H\u001b[2J"
     ]
    },
    {
     "name": "stderr",
     "output_type": "stream",
     "text": [
      "[cookies][info] Extracted 2317 cookies from Firefox\n"
     ]
    },
    {
     "name": "stdout",
     "output_type": "stream",
     "text": [
      "./GalDL/Dress/3254825389913890907.mp4\n",
      "Dress/https://www.instagram.com/reel/C1Hlr2uKK-d/\n",
      "Downloading : 123/1811\n",
      "\u001b[H\u001b[2J"
     ]
    },
    {
     "name": "stderr",
     "output_type": "stream",
     "text": [
      "[cookies][info] Extracted 2317 cookies from Firefox\n"
     ]
    },
    {
     "name": "stdout",
     "output_type": "stream",
     "text": [
      "./GalDL/Dress/3262742196468101021.mp4\n",
      "Dress/https://www.instagram.com/reel/C1PaT7qSoPr/\n",
      "Downloading : 124/1811\n",
      "\u001b[H\u001b[2J"
     ]
    },
    {
     "name": "stderr",
     "output_type": "stream",
     "text": [
      "[cookies][info] Extracted 2317 cookies from Firefox\n"
     ]
    },
    {
     "name": "stdout",
     "output_type": "stream",
     "text": [
      "./GalDL/Dress/3264943973806539755.mp4\n",
      "Dress/https://www.instagram.com/p/Cwai7jNOSJz/\n",
      "Downloading : 125/1811\n",
      "\u001b[H\u001b[2J"
     ]
    },
    {
     "name": "stderr",
     "output_type": "stream",
     "text": [
      "[cookies][info] Extracted 2317 cookies from Firefox\n"
     ]
    },
    {
     "name": "stdout",
     "output_type": "stream",
     "text": [
      "./GalDL/Dress/3178006112896623219_3178006106110319297.jpg\n",
      "./GalDL/Dress/3178006112896623219_3178006106177293825.jpg\n",
      "./GalDL/Dress/3178006112896623219_3178006106068256958.jpg\n",
      "./GalDL/Dress/3178006112896623219_3178006106068470451.jpg\n",
      "Dress/https://www.instagram.com/reel/C006fv9Ji_L/\n",
      "Downloading : 126/1811\n",
      "\u001b[H\u001b[2J"
     ]
    },
    {
     "name": "stderr",
     "output_type": "stream",
     "text": [
      "[cookies][info] Extracted 2317 cookies from Firefox\n"
     ]
    },
    {
     "name": "stdout",
     "output_type": "stream",
     "text": [
      "./GalDL/Dress/3257485698988912587.mp4\n",
      "Dress/https://www.instagram.com/reel/C1w1h6fRfL8/\n",
      "Downloading : 127/1811\n",
      "\u001b[H\u001b[2J"
     ]
    },
    {
     "name": "stderr",
     "output_type": "stream",
     "text": [
      "[cookies][info] Extracted 2317 cookies from Firefox\n"
     ]
    },
    {
     "name": "stdout",
     "output_type": "stream",
     "text": [
      "./GalDL/Dress/3274352356107875068.mp4\n",
      "Dress/https://www.instagram.com/p/C1Z-_zXic_i/\n",
      "Downloading : 128/1811\n",
      "\u001b[H\u001b[2J"
     ]
    },
    {
     "name": "stderr",
     "output_type": "stream",
     "text": [
      "[cookies][info] Extracted 2317 cookies from Firefox\n"
     ]
    },
    {
     "name": "stdout",
     "output_type": "stream",
     "text": [
      "./GalDL/Dress/3267920068000468962_3267920022014118383.jpg\n",
      "./GalDL/Dress/3267920068000468962_3267920021342934121.jpg\n",
      "./GalDL/Dress/3267920068000468962_3267920024186834037.jpg\n",
      "./GalDL/Dress/3267920068000468962_3267920024396532347.jpg\n",
      "./GalDL/Dress/3267920068000468962_3267920022022489501.jpg\n",
      "./GalDL/Dress/3267920068000468962_3267920021040992122.jpg\n",
      "./GalDL/Dress/3267920068000468962_3267920024455308717.jpg\n",
      "./GalDL/Dress/3267920068000468962_3267920023884711183.jpg\n",
      "./GalDL/Dress/3267920068000468962_3267920021334569357.jpg\n",
      "./GalDL/Dress/3267920068000468962_3267920025134589734.jpg\n",
      "Dress/https://www.instagram.com/reel/Cy7b8YpNlU-/\n",
      "Downloading : 129/1811\n",
      "\u001b[H\u001b[2J"
     ]
    },
    {
     "name": "stderr",
     "output_type": "stream",
     "text": [
      "[cookies][info] Extracted 2318 cookies from Firefox\n"
     ]
    },
    {
     "name": "stdout",
     "output_type": "stream",
     "text": [
      "./GalDL/Dress/3223292855199356222.mp4\n",
      "Dress/https://www.instagram.com/p/C0VeuhkSeKZ/\n",
      "Downloading : 130/1811\n",
      "\u001b[H\u001b[2J"
     ]
    },
    {
     "name": "stderr",
     "output_type": "stream",
     "text": [
      "[cookies][info] Extracted 2318 cookies from Firefox\n"
     ]
    },
    {
     "name": "stdout",
     "output_type": "stream",
     "text": [
      "./GalDL/Dress/3248637844751245977_3248637334849818700.mp4\n",
      "./GalDL/Dress/3248637844751245977_3248637335965490343.mp4\n",
      "./GalDL/Dress/3248637844751245977_3248637336191852117.mp4\n",
      "Dress/https://www.instagram.com/reel/Cxe_nKJKkyX/\n",
      "Downloading : 131/1811\n",
      "\u001b[H\u001b[2J"
     ]
    },
    {
     "name": "stderr",
     "output_type": "stream",
     "text": [
      "[cookies][info] Extracted 2318 cookies from Firefox\n"
     ]
    },
    {
     "name": "stdout",
     "output_type": "stream",
     "text": [
      "./GalDL/Dress/3197272553360608407.mp4\n",
      "Dress/https://www.instagram.com/p/C1yYFRPyvWZ/\n",
      "Downloading : 132/1811\n",
      "\u001b[H\u001b[2J"
     ]
    },
    {
     "name": "stderr",
     "output_type": "stream",
     "text": [
      "[cookies][info] Extracted 2318 cookies from Firefox\n"
     ]
    },
    {
     "name": "stdout",
     "output_type": "stream",
     "text": [
      "./GalDL/Dress/3274785794283992473_3274785789124816644.jpg\n",
      "./GalDL/Dress/3274785794283992473_3274785789124877706.jpg\n",
      "./GalDL/Dress/3274785794283992473_3274785789158602499.jpg\n",
      "./GalDL/Dress/3274785794283992473_3274785788999087528.jpg\n",
      "./GalDL/Dress/3274785794283992473_3274785789125027419.jpg\n",
      "./GalDL/Dress/3274785794283992473_3274785789007459850.jpg\n",
      "./GalDL/Dress/3274785794283992473_3274785788999057393.jpg\n",
      "./GalDL/Dress/3274785794283992473_3274785788999044706.jpg\n",
      "Dress/https://www.instagram.com/p/C1Cn3J3I2UE/\n",
      "Downloading : 133/1811\n",
      "\u001b[H\u001b[2J"
     ]
    },
    {
     "name": "stderr",
     "output_type": "stream",
     "text": [
      "[cookies][info] Extracted 2318 cookies from Firefox\n"
     ]
    },
    {
     "name": "stdout",
     "output_type": "stream",
     "text": [
      "./GalDL/Dress/3261344394143556868_3261344384110630177.jpg\n",
      "./GalDL/Dress/3261344394143556868_3261344384102429459.jpg\n",
      "./GalDL/Dress/3261344394143556868_3261344384102253791.jpg\n",
      "./GalDL/Dress/3261344394143556868_3261344384110647816.jpg\n",
      "./GalDL/Dress/3261344394143556868_3261344384110569975.jpg\n",
      "./GalDL/Dress/3261344394143556868_3261344384110740460.jpg\n",
      "./GalDL/Dress/3261344394143556868_3261344384370856478.jpg\n",
      "./GalDL/Dress/3261344394143556868_3261344384110794539.jpg\n",
      "./GalDL/Dress/3261344394143556868_3261344384110734593.jpg\n",
      "./GalDL/Dress/3261344394143556868_3261344384110763887.jpg\n",
      "Dress/https://www.instagram.com/p/C1sxZWCBVsH/\n",
      "Downloading : 134/1811\n",
      "\u001b[H\u001b[2J"
     ]
    },
    {
     "name": "stderr",
     "output_type": "stream",
     "text": [
      "[cookies][info] Extracted 2318 cookies from Firefox\n"
     ]
    },
    {
     "name": "stdout",
     "output_type": "stream",
     "text": [
      "./GalDL/Dress/3273208275113696007_3273208271053658078.jpg\n",
      "./GalDL/Dress/3273208275113696007_3273208270978110188.jpg\n",
      "./GalDL/Dress/3273208275113696007_3273208270978050239.jpg\n",
      "./GalDL/Dress/3273208275113696007_3273208271154422388.jpg\n",
      "./GalDL/Dress/3273208275113696007_3273208270986652421.jpg\n",
      "./GalDL/Dress/3273208275113696007_3273208271053663776.jpg\n",
      "./GalDL/Dress/3273208275113696007_3273208270986476106.jpg\n",
      "./GalDL/Dress/3273208275113696007_3273208271053781125.jpg\n",
      "Food/https://www.instagram.com/reel/C2kIPaFrdP2/\n",
      "Downloading : 135/1811\n",
      "\u001b[H\u001b[2J"
     ]
    },
    {
     "name": "stderr",
     "output_type": "stream",
     "text": [
      "[cookies][info] Extracted 2318 cookies from Firefox\n"
     ]
    },
    {
     "name": "stdout",
     "output_type": "stream",
     "text": [
      "./GalDL/Food/3288789871064110070.mp4\n",
      "Food/https://www.instagram.com/reel/C1zgNSlMvX3/\n",
      "Downloading : 136/1811\n",
      "\u001b[H\u001b[2J"
     ]
    },
    {
     "name": "stderr",
     "output_type": "stream",
     "text": [
      "[cookies][info] Extracted 2317 cookies from Firefox\n"
     ]
    },
    {
     "name": "stdout",
     "output_type": "stream",
     "text": [
      "./GalDL/Food/3275103004821485047.mp4\n",
      "Food/https://www.instagram.com/reel/C1shp8Fu3-h/\n",
      "Downloading : 137/1811\n",
      "\u001b[H\u001b[2J"
     ]
    },
    {
     "name": "stderr",
     "output_type": "stream",
     "text": [
      "[cookies][info] Extracted 2318 cookies from Firefox\n"
     ]
    },
    {
     "name": "stdout",
     "output_type": "stream",
     "text": [
      "./GalDL/Food/3273139046745604001.mp4\n",
      "Food/https://www.instagram.com/reel/C2IUA1Lv1TG/\n",
      "Downloading : 138/1811\n",
      "\u001b[H\u001b[2J"
     ]
    },
    {
     "name": "stderr",
     "output_type": "stream",
     "text": [
      "[cookies][info] Extracted 2318 cookies from Firefox\n"
     ]
    },
    {
     "name": "stdout",
     "output_type": "stream",
     "text": [
      "./GalDL/Food/3280960346575033542.mp4\n",
      "Food/https://www.instagram.com/reel/C2Q_dm2S3Nm/\n",
      "Downloading : 139/1811\n",
      "\u001b[H\u001b[2J"
     ]
    },
    {
     "name": "stderr",
     "output_type": "stream",
     "text": [
      "[cookies][info] Extracted 2317 cookies from Firefox\n"
     ]
    },
    {
     "name": "stdout",
     "output_type": "stream",
     "text": [
      "./GalDL/Food/3283403239861220198.mp4\n",
      "Food/https://www.instagram.com/reel/C2e0HDJRHuy/\n",
      "Downloading : 140/1811\n",
      "\u001b[H\u001b[2J"
     ]
    },
    {
     "name": "stderr",
     "output_type": "stream",
     "text": [
      "[cookies][info] Extracted 2317 cookies from Firefox\n"
     ]
    },
    {
     "name": "stdout",
     "output_type": "stream",
     "text": [
      "./GalDL/Food/3287293960858663858.mp4\n",
      "Food/https://www.instagram.com/reel/C2Shd6lRsNj/\n",
      "Downloading : 141/1811\n",
      "\u001b[H\u001b[2J"
     ]
    },
    {
     "name": "stderr",
     "output_type": "stream",
     "text": [
      "[cookies][info] Extracted 2317 cookies from Firefox\n"
     ]
    },
    {
     "name": "stdout",
     "output_type": "stream",
     "text": [
      "./GalDL/Food/3283834269608624995.mp4\n",
      "Food/https://www.instagram.com/reel/C2M41BoRPkT/\n",
      "Downloading : 142/1811\n",
      "\u001b[H\u001b[2J"
     ]
    },
    {
     "name": "stderr",
     "output_type": "stream",
     "text": [
      "[cookies][info] Extracted 2318 cookies from Firefox\n"
     ]
    },
    {
     "name": "stdout",
     "output_type": "stream",
     "text": [
      "./GalDL/Food/3282248162932488467.mp4\n",
      "Food/https://www.instagram.com/reel/C1Jf0YSLBX-/\n",
      "Downloading : 143/1811\n",
      "\u001b[H\u001b[2J"
     ]
    },
    {
     "name": "stderr",
     "output_type": "stream",
     "text": [
      "[cookies][info] Extracted 2318 cookies from Firefox\n"
     ]
    },
    {
     "name": "stdout",
     "output_type": "stream",
     "text": [
      "./GalDL/Food/3263279343935952382.mp4\n",
      "Food/https://www.instagram.com/reel/C0rKv7BpIYa/\n",
      "Downloading : 144/1811\n",
      "\u001b[H\u001b[2J"
     ]
    },
    {
     "name": "stderr",
     "output_type": "stream",
     "text": [
      "[cookies][info] Extracted 2318 cookies from Firefox\n"
     ]
    },
    {
     "name": "stdout",
     "output_type": "stream",
     "text": [
      "./GalDL/Food/3254742429364160026.mp4\n",
      "Food/https://www.instagram.com/reel/C1YSim1uuEe/\n",
      "Downloading : 145/1811\n",
      "\u001b[H\u001b[2J"
     ]
    },
    {
     "name": "stderr",
     "output_type": "stream",
     "text": [
      "[cookies][info] Extracted 2318 cookies from Firefox\n"
     ]
    },
    {
     "name": "stdout",
     "output_type": "stream",
     "text": [
      "./GalDL/Food/3267443072660332830.mp4\n",
      "Food/https://www.instagram.com/reel/C14O7BaxJ6P/\n",
      "Downloading : 146/1811\n",
      "\u001b[H\u001b[2J"
     ]
    },
    {
     "name": "stderr",
     "output_type": "stream",
     "text": [
      "[cookies][info] Extracted 2317 cookies from Firefox\n"
     ]
    },
    {
     "name": "stdout",
     "output_type": "stream",
     "text": [
      "./GalDL/Food/3276434357535153807.mp4\n",
      "Food/https://www.instagram.com/reel/C0mWFXerYnk/\n",
      "Downloading : 147/1811\n",
      "\u001b[H\u001b[2J"
     ]
    },
    {
     "name": "stderr",
     "output_type": "stream",
     "text": [
      "[cookies][info] Extracted 2317 cookies from Firefox\n"
     ]
    },
    {
     "name": "stdout",
     "output_type": "stream",
     "text": [
      "./GalDL/Food/3253384906653141476.mp4\n",
      "Food/https://www.instagram.com/reel/C04R3aMOna0/\n",
      "Downloading : 148/1811\n",
      "\u001b[H\u001b[2J"
     ]
    },
    {
     "name": "stderr",
     "output_type": "stream",
     "text": [
      "[cookies][info] Extracted 2318 cookies from Firefox\n"
     ]
    },
    {
     "name": "stdout",
     "output_type": "stream",
     "text": [
      "./GalDL/Food/3258432904886908596.mp4\n",
      "Food/https://www.instagram.com/reel/C12HEYLxS79/\n",
      "Downloading : 149/1811\n",
      "\u001b[H\u001b[2J"
     ]
    },
    {
     "name": "stderr",
     "output_type": "stream",
     "text": [
      "[cookies][info] Extracted 2318 cookies from Firefox\n"
     ]
    },
    {
     "name": "stdout",
     "output_type": "stream",
     "text": [
      "./GalDL/Food/3275836866129374973.mp4\n",
      "Food/https://www.instagram.com/reel/C1emMRZMpiF/\n",
      "Downloading : 150/1811\n",
      "\u001b[H\u001b[2J"
     ]
    },
    {
     "name": "stderr",
     "output_type": "stream",
     "text": [
      "[cookies][info] Extracted 2318 cookies from Firefox\n"
     ]
    },
    {
     "name": "stdout",
     "output_type": "stream",
     "text": [
      "./GalDL/Food/3269218348595058821.mp4\n",
      "Food/https://www.instagram.com/reel/C19eapXyG9a/\n",
      "Downloading : 151/1811\n",
      "\u001b[H\u001b[2J"
     ]
    },
    {
     "name": "stderr",
     "output_type": "stream",
     "text": [
      "[cookies][info] Extracted 2318 cookies from Firefox\n"
     ]
    },
    {
     "name": "stdout",
     "output_type": "stream",
     "text": [
      "./GalDL/Food/3277909876319743834.mp4\n",
      "Food/https://www.instagram.com/reel/C0Uo3k5vEoq/\n",
      "Downloading : 152/1811\n",
      "\u001b[H\u001b[2J"
     ]
    },
    {
     "name": "stderr",
     "output_type": "stream",
     "text": [
      "[cookies][info] Extracted 2318 cookies from Firefox\n"
     ]
    },
    {
     "name": "stdout",
     "output_type": "stream",
     "text": [
      "./GalDL/Food/3248400972295981610.mp4\n",
      "Food/https://www.instagram.com/reel/C0osdNTuSoz/\n",
      "Downloading : 153/1811\n",
      "\u001b[H\u001b[2J"
     ]
    },
    {
     "name": "stderr",
     "output_type": "stream",
     "text": [
      "[cookies][info] Extracted 2318 cookies from Firefox\n"
     ]
    },
    {
     "name": "stdout",
     "output_type": "stream",
     "text": [
      "./GalDL/Food/3254046251976043059.mp4\n",
      "Food/https://www.instagram.com/reel/C1pBp56o4UT/\n",
      "Downloading : 154/1811\n",
      "\u001b[H\u001b[2J"
     ]
    },
    {
     "name": "stderr",
     "output_type": "stream",
     "text": [
      "[cookies][info] Extracted 2318 cookies from Firefox\n"
     ]
    },
    {
     "name": "stdout",
     "output_type": "stream",
     "text": [
      "./GalDL/Food/3272153881993512211.mp4\n",
      "Food/https://www.instagram.com/reel/C1WwUJ_xOT7/\n",
      "Downloading : 155/1811\n",
      "\u001b[H\u001b[2J"
     ]
    },
    {
     "name": "stderr",
     "output_type": "stream",
     "text": [
      "[cookies][info] Extracted 2318 cookies from Firefox\n"
     ]
    },
    {
     "name": "stdout",
     "output_type": "stream",
     "text": [
      "./GalDL/Food/3267011071059485947.mp4\n",
      "Food/https://www.instagram.com/reel/Cyv-7_FP2DD/\n",
      "Downloading : 156/1811\n",
      "\u001b[H\u001b[2J"
     ]
    },
    {
     "name": "stderr",
     "output_type": "stream",
     "text": [
      "[cookies][info] Extracted 2318 cookies from Firefox\n"
     ]
    },
    {
     "name": "stdout",
     "output_type": "stream",
     "text": [
      "./GalDL/Food/3220069059659784387.mp4\n",
      "Food/https://www.instagram.com/reel/C1KLuudqrnk/\n",
      "Downloading : 157/1811\n",
      "\u001b[H\u001b[2J"
     ]
    },
    {
     "name": "stderr",
     "output_type": "stream",
     "text": [
      "[cookies][info] Extracted 2318 cookies from Firefox\n"
     ]
    },
    {
     "name": "stdout",
     "output_type": "stream",
     "text": [
      "./GalDL/Food/3263472469480749540.mp4\n",
      "Food/https://www.instagram.com/reel/C1H65qIyVNz/\n",
      "Downloading : 158/1811\n",
      "\u001b[H\u001b[2J"
     ]
    },
    {
     "name": "stderr",
     "output_type": "stream",
     "text": [
      "[cookies][info] Extracted 2318 cookies from Firefox\n"
     ]
    },
    {
     "name": "stdout",
     "output_type": "stream",
     "text": [
      "./GalDL/Food/3262835504005600115.mp4\n",
      "Food/https://www.instagram.com/reel/CztqMgyOqH4/\n",
      "Downloading : 159/1811\n",
      "\u001b[H\u001b[2J"
     ]
    },
    {
     "name": "stderr",
     "output_type": "stream",
     "text": [
      "[cookies][info] Extracted 2318 cookies from Firefox\n"
     ]
    },
    {
     "name": "stdout",
     "output_type": "stream",
     "text": [
      "./GalDL/Food/3237429284938883576.mp4\n",
      "Food/https://www.instagram.com/reel/CyGm4AxOSDE/\n",
      "Downloading : 160/1811\n",
      "\u001b[H\u001b[2J"
     ]
    },
    {
     "name": "stderr",
     "output_type": "stream",
     "text": [
      "[cookies][info] Extracted 2318 cookies from Firefox\n"
     ]
    },
    {
     "name": "stdout",
     "output_type": "stream",
     "text": [
      "./GalDL/Food/3208422759432003780.mp4\n",
      "Food/https://www.instagram.com/reel/Cx-iZruOqpt/\n",
      "Downloading : 161/1811\n",
      "\u001b[H\u001b[2J"
     ]
    },
    {
     "name": "stderr",
     "output_type": "stream",
     "text": [
      "[cookies][info] Extracted 2318 cookies from Firefox\n"
     ]
    },
    {
     "name": "stdout",
     "output_type": "stream",
     "text": [
      "./GalDL/Food/3206151283249162861.mp4\n",
      "Food/https://www.instagram.com/reel/C0_wP7YPHaG/\n",
      "Downloading : 162/1811\n",
      "\u001b[H\u001b[2J"
     ]
    },
    {
     "name": "stderr",
     "output_type": "stream",
     "text": [
      "[cookies][info] Extracted 2318 cookies from Firefox\n"
     ]
    },
    {
     "name": "stdout",
     "output_type": "stream",
     "text": [
      "./GalDL/Food/3260536856021595782.mp4\n",
      "Food/https://www.instagram.com/reel/C1L7uR4PG6z/\n",
      "Downloading : 163/1811\n",
      "\u001b[H\u001b[2J"
     ]
    },
    {
     "name": "stderr",
     "output_type": "stream",
     "text": [
      "[cookies][info] Extracted 2317 cookies from Firefox\n"
     ]
    },
    {
     "name": "stdout",
     "output_type": "stream",
     "text": [
      "./GalDL/Food/3263965019997236915.mp4\n",
      "Food/https://www.instagram.com/reel/C062ybeMHc3/\n",
      "Downloading : 164/1811\n",
      "\u001b[H\u001b[2J"
     ]
    },
    {
     "name": "stderr",
     "output_type": "stream",
     "text": [
      "[cookies][info] Extracted 2318 cookies from Firefox\n"
     ]
    },
    {
     "name": "stdout",
     "output_type": "stream",
     "text": [
      "./GalDL/Food/3259158240338933559.mp4\n",
      "Food/https://www.instagram.com/reel/C0vv8LUL8oc/\n",
      "Downloading : 165/1811\n",
      "\u001b[H\u001b[2J"
     ]
    },
    {
     "name": "stderr",
     "output_type": "stream",
     "text": [
      "[cookies][info] Extracted 2344 cookies from Firefox\n"
     ]
    },
    {
     "name": "stdout",
     "output_type": "stream",
     "text": [
      "./GalDL/Food/3256031899116620316.mp4\n",
      "Food/https://www.instagram.com/reel/C0NOh8EJnh_/\n",
      "Downloading : 166/1811\n",
      "\u001b[H\u001b[2J"
     ]
    },
    {
     "name": "stderr",
     "output_type": "stream",
     "text": [
      "[cookies][info] Extracted 2344 cookies from Firefox\n"
     ]
    },
    {
     "name": "stdout",
     "output_type": "stream",
     "text": [
      "./GalDL/Food/3246314811292022911.mp4\n",
      "Food/https://www.instagram.com/reel/C0wkNb4xMlX/\n",
      "Downloading : 167/1811\n",
      "\u001b[H\u001b[2J"
     ]
    },
    {
     "name": "stderr",
     "output_type": "stream",
     "text": [
      "[cookies][info] Extracted 2344 cookies from Firefox\n"
     ]
    },
    {
     "name": "stdout",
     "output_type": "stream",
     "text": [
      "./GalDL/Food/3256261783559915863.mp4\n",
      "Food/https://www.instagram.com/reel/C0gJANYP7f4/\n",
      "Downloading : 168/1811\n",
      "\u001b[H\u001b[2J"
     ]
    },
    {
     "name": "stderr",
     "output_type": "stream",
     "text": [
      "[cookies][info] Extracted 2345 cookies from Firefox\n"
     ]
    },
    {
     "name": "stdout",
     "output_type": "stream",
     "text": [
      "./GalDL/Food/3251638527745570808.mp4\n",
      "Food/https://www.instagram.com/reel/CzxxBA_o2Jg/\n",
      "Downloading : 169/1811\n",
      "\u001b[H\u001b[2J"
     ]
    },
    {
     "name": "stderr",
     "output_type": "stream",
     "text": [
      "[cookies][info] Extracted 2345 cookies from Firefox\n"
     ]
    },
    {
     "name": "stdout",
     "output_type": "stream",
     "text": [
      "./GalDL/Food/3238585181122290272.mp4\n",
      "Food/https://www.instagram.com/reel/CzG0_OJu_gt/\n",
      "Downloading : 170/1811\n",
      "\u001b[H\u001b[2J"
     ]
    },
    {
     "name": "stderr",
     "output_type": "stream",
     "text": [
      "[cookies][info] Extracted 2344 cookies from Firefox\n"
     ]
    },
    {
     "name": "stdout",
     "output_type": "stream",
     "text": [
      "./GalDL/Food/3226499225998850093.mp4\n",
      "Food/https://www.instagram.com/reel/C0O4vdfPmnc/\n",
      "Downloading : 171/1811\n",
      "\u001b[H\u001b[2J"
     ]
    },
    {
     "name": "stderr",
     "output_type": "stream",
     "text": [
      "[cookies][info] Extracted 2345 cookies from Firefox\n"
     ]
    },
    {
     "name": "stdout",
     "output_type": "stream",
     "text": [
      "./GalDL/Food/3246781933463431644.mp4\n",
      "Food/https://www.instagram.com/reel/CyyfO6FNwwa/\n",
      "Downloading : 172/1811\n",
      "\u001b[H\u001b[2J"
     ]
    },
    {
     "name": "stderr",
     "output_type": "stream",
     "text": [
      "[cookies][info] Extracted 2349 cookies from Firefox\n"
     ]
    },
    {
     "name": "stdout",
     "output_type": "stream",
     "text": [
      "./GalDL/Food/3220774047402363930.mp4\n",
      "Food/https://www.instagram.com/reel/Cz9Yv1-Oik3/\n",
      "Downloading : 173/1811\n",
      "\u001b[H\u001b[2J"
     ]
    },
    {
     "name": "stderr",
     "output_type": "stream",
     "text": [
      "[cookies][info] Extracted 2348 cookies from Firefox\n"
     ]
    },
    {
     "name": "stdout",
     "output_type": "stream",
     "text": [
      "./GalDL/Food/3241856147660613943.mp4\n",
      "Food/https://www.instagram.com/reel/C07DNw4OX9p/\n",
      "Downloading : 174/1811\n",
      "\u001b[H\u001b[2J"
     ]
    },
    {
     "name": "stderr",
     "output_type": "stream",
     "text": [
      "[cookies][info] Extracted 2348 cookies from Firefox\n"
     ]
    },
    {
     "name": "stdout",
     "output_type": "stream",
     "text": [
      "./GalDL/Food/3259212895308316521.mp4\n",
      "Food/https://www.instagram.com/reel/C04KLMosKAG/\n",
      "Downloading : 175/1811\n",
      "\u001b[H\u001b[2J"
     ]
    },
    {
     "name": "stderr",
     "output_type": "stream",
     "text": [
      "[cookies][info] Extracted 2348 cookies from Firefox\n"
     ]
    },
    {
     "name": "stdout",
     "output_type": "stream",
     "text": [
      "./GalDL/Food/3258399080349474822.mp4\n",
      "Food/https://www.instagram.com/reel/C01f9EPsCOt/\n",
      "Downloading : 176/1811\n",
      "\u001b[H\u001b[2J"
     ]
    },
    {
     "name": "stderr",
     "output_type": "stream",
     "text": [
      "[cookies][info] Extracted 2350 cookies from Firefox\n"
     ]
    },
    {
     "name": "stdout",
     "output_type": "stream",
     "text": [
      "./GalDL/Food/3257650441360516013.mp4\n",
      "Food/https://www.instagram.com/reel/C0mWMfQOZeQ/\n",
      "Downloading : 177/1811\n",
      "\u001b[H\u001b[2J"
     ]
    },
    {
     "name": "stderr",
     "output_type": "stream",
     "text": [
      "[cookies][info] Extracted 2350 cookies from Firefox\n"
     ]
    },
    {
     "name": "stdout",
     "output_type": "stream",
     "text": [
      "./GalDL/Food/3253385396036933520.mp4\n",
      "Food/https://www.instagram.com/reel/C1BoBwFIJAA/\n",
      "Downloading : 178/1811\n",
      "\u001b[H\u001b[2J"
     ]
    },
    {
     "name": "stderr",
     "output_type": "stream",
     "text": [
      "[cookies][info] Extracted 2350 cookies from Firefox\n"
     ]
    },
    {
     "name": "stdout",
     "output_type": "stream",
     "text": [
      "./GalDL/Food/3261063647398498304.mp4\n",
      "Food/https://www.instagram.com/reel/C06aoKKxgRf/\n",
      "Downloading : 179/1811\n",
      "\u001b[H\u001b[2J"
     ]
    },
    {
     "name": "stderr",
     "output_type": "stream",
     "text": [
      "[cookies][info] Extracted 2350 cookies from Firefox\n"
     ]
    },
    {
     "name": "stdout",
     "output_type": "stream",
     "text": [
      "./GalDL/Food/3259034389262500959.mp4\n",
      "Food/https://www.instagram.com/reel/C0etG-WIY7B/\n",
      "Downloading : 180/1811\n",
      "\u001b[H\u001b[2J"
     ]
    },
    {
     "name": "stderr",
     "output_type": "stream",
     "text": [
      "[cookies][info] Extracted 2350 cookies from Firefox\n"
     ]
    },
    {
     "name": "stdout",
     "output_type": "stream",
     "text": [
      "./GalDL/Food/3251234372361227969.mp4\n",
      "Food/https://www.instagram.com/reel/CzoXoqgL_Ui/\n",
      "Downloading : 181/1811\n",
      "\u001b[H\u001b[2J"
     ]
    },
    {
     "name": "stderr",
     "output_type": "stream",
     "text": [
      "[cookies][info] Extracted 2350 cookies from Firefox\n"
     ]
    },
    {
     "name": "stdout",
     "output_type": "stream",
     "text": [
      "./GalDL/Food/3235940281751696674.mp4\n",
      "Food/https://www.instagram.com/reel/C09PtlbOdoS/\n",
      "Downloading : 182/1811\n",
      "\u001b[H\u001b[2J"
     ]
    },
    {
     "name": "stderr",
     "output_type": "stream",
     "text": [
      "[cookies][info] Extracted 2350 cookies from Firefox\n"
     ]
    },
    {
     "name": "stdout",
     "output_type": "stream",
     "text": [
      "./GalDL/Food/3259830808545450514.mp4\n",
      "Food/https://www.instagram.com/reel/C0v2WmBIk0m/\n",
      "Downloading : 183/1811\n",
      "\u001b[H\u001b[2J"
     ]
    },
    {
     "name": "stderr",
     "output_type": "stream",
     "text": [
      "[cookies][info] Extracted 2350 cookies from Firefox\n"
     ]
    },
    {
     "name": "stdout",
     "output_type": "stream",
     "text": [
      "./GalDL/Food/3256060102773460262.mp4\n",
      "Food/https://www.instagram.com/reel/CyN8RuPv6mp/\n",
      "Downloading : 184/1811\n",
      "\u001b[H\u001b[2J"
     ]
    },
    {
     "name": "stderr",
     "output_type": "stream",
     "text": [
      "[cookies][info] Extracted 2350 cookies from Firefox\n"
     ]
    },
    {
     "name": "stdout",
     "output_type": "stream",
     "text": [
      "./GalDL/Food/3210487210063145385.mp4\n",
      "Food/https://www.instagram.com/p/Cz__YLBLbDo/\n",
      "Downloading : 185/1811\n",
      "\u001b[H\u001b[2J"
     ]
    },
    {
     "name": "stderr",
     "output_type": "stream",
     "text": [
      "[cookies][info] Extracted 2350 cookies from Firefox\n"
     ]
    },
    {
     "name": "stdout",
     "output_type": "stream",
     "text": [
      "./GalDL/Food/3242588994758619368_3242588342334121256.mp4\n",
      "./GalDL/Food/3242588994758619368_3242588990052668414.jpg\n",
      "Food/https://www.instagram.com/reel/C0Zvl9zNlEl/\n",
      "Downloading : 186/1811\n",
      "\u001b[H\u001b[2J"
     ]
    },
    {
     "name": "stderr",
     "output_type": "stream",
     "text": [
      "[cookies][info] Extracted 2350 cookies from Firefox\n"
     ]
    },
    {
     "name": "stdout",
     "output_type": "stream",
     "text": [
      "./GalDL/Food/3249837923288633637.mp4\n",
      "Food/https://www.instagram.com/reel/Cx_Rm71Pyn5/\n",
      "Downloading : 187/1811\n",
      "\u001b[H\u001b[2J"
     ]
    },
    {
     "name": "stderr",
     "output_type": "stream",
     "text": [
      "[cookies][info] Extracted 2349 cookies from Firefox\n"
     ]
    },
    {
     "name": "stdout",
     "output_type": "stream",
     "text": [
      "./GalDL/Food/3206358902085986809.mp4\n",
      "Food/https://www.instagram.com/reel/C0ZETE9tOME/\n",
      "Downloading : 188/1811\n",
      "\u001b[H\u001b[2J"
     ]
    },
    {
     "name": "stderr",
     "output_type": "stream",
     "text": [
      "[cookies][info] Extracted 2349 cookies from Firefox\n"
     ]
    },
    {
     "name": "stdout",
     "output_type": "stream",
     "text": [
      "./GalDL/Food/3249647509310857988.mp4\n",
      "Food/https://www.instagram.com/reel/C07E92Los2S/\n",
      "Downloading : 189/1811\n",
      "\u001b[H\u001b[2J"
     ]
    },
    {
     "name": "stderr",
     "output_type": "stream",
     "text": [
      "[cookies][info] Extracted 2349 cookies from Firefox\n"
     ]
    },
    {
     "name": "stdout",
     "output_type": "stream",
     "text": [
      "./GalDL/Food/3259220597584088466.mp4\n",
      "Food/https://www.instagram.com/reel/C0_6iahsfxB/\n",
      "Downloading : 190/1811\n",
      "\u001b[H\u001b[2J"
     ]
    },
    {
     "name": "stderr",
     "output_type": "stream",
     "text": [
      "[cookies][info] Extracted 2349 cookies from Firefox\n"
     ]
    },
    {
     "name": "stdout",
     "output_type": "stream",
     "text": [
      "./GalDL/Food/3260582106881981505.mp4\n",
      "Food/https://www.instagram.com/reel/CzjqgZGouPf/\n",
      "Downloading : 191/1811\n",
      "\u001b[H\u001b[2J"
     ]
    },
    {
     "name": "stderr",
     "output_type": "stream",
     "text": [
      "[cookies][info] Extracted 2350 cookies from Firefox\n"
     ]
    },
    {
     "name": "stdout",
     "output_type": "stream",
     "text": [
      "./GalDL/Food/3234615901313754079.mp4\n",
      "Food/https://www.instagram.com/reel/C0gERdLIr-z/\n",
      "Downloading : 192/1811\n",
      "\u001b[H\u001b[2J"
     ]
    },
    {
     "name": "stderr",
     "output_type": "stream",
     "text": [
      "[cookies][info] Extracted 2350 cookies from Firefox\n"
     ]
    },
    {
     "name": "stdout",
     "output_type": "stream",
     "text": [
      "./GalDL/Food/3251617722703986611.mp4\n",
      "Food/https://www.instagram.com/reel/C0wEUbwrHZF/\n",
      "Downloading : 193/1811\n",
      "\u001b[H\u001b[2J"
     ]
    },
    {
     "name": "stderr",
     "output_type": "stream",
     "text": [
      "[cookies][info] Extracted 2350 cookies from Firefox\n"
     ]
    },
    {
     "name": "stdout",
     "output_type": "stream",
     "text": [
      "./GalDL/Food/3256121526972085829.mp4\n",
      "Food/https://www.instagram.com/reel/C0mGjSyvvNM/\n",
      "Downloading : 194/1811\n",
      "\u001b[H\u001b[2J"
     ]
    },
    {
     "name": "stderr",
     "output_type": "stream",
     "text": [
      "[cookies][info] Extracted 2350 cookies from Firefox\n"
     ]
    },
    {
     "name": "stdout",
     "output_type": "stream",
     "text": [
      "./GalDL/Food/3253316594461242188.mp4\n",
      "Food/https://www.instagram.com/reel/C0c9P0hOYpk/\n",
      "Downloading : 195/1811\n",
      "\u001b[H\u001b[2J"
     ]
    },
    {
     "name": "stderr",
     "output_type": "stream",
     "text": [
      "[cookies][info] Extracted 2350 cookies from Firefox\n"
     ]
    },
    {
     "name": "stdout",
     "output_type": "stream",
     "text": [
      "./GalDL/Food/3250742399075977828.mp4\n",
      "Food/https://www.instagram.com/reel/Cz7U6UguuGS/\n",
      "Downloading : 196/1811\n",
      "\u001b[H\u001b[2J"
     ]
    },
    {
     "name": "stderr",
     "output_type": "stream",
     "text": [
      "[cookies][info] Extracted 2350 cookies from Firefox\n"
     ]
    },
    {
     "name": "stdout",
     "output_type": "stream",
     "text": [
      "./GalDL/Food/3241276325507031442.mp4\n",
      "Food/https://www.instagram.com/reel/C0Rmz42sevo/\n",
      "Downloading : 197/1811\n",
      "\u001b[H\u001b[2J"
     ]
    },
    {
     "name": "stderr",
     "output_type": "stream",
     "text": [
      "[cookies][info] Extracted 2350 cookies from Firefox\n"
     ]
    },
    {
     "name": "stdout",
     "output_type": "stream",
     "text": [
      "./GalDL/Food/3247547497818745832.mp4\n",
      "Food/https://www.instagram.com/reel/Czq_wkJI0hj/\n",
      "Downloading : 198/1811\n",
      "\u001b[H\u001b[2J"
     ]
    },
    {
     "name": "stderr",
     "output_type": "stream",
     "text": [
      "[cookies][info] Extracted 2349 cookies from Firefox\n"
     ]
    },
    {
     "name": "stdout",
     "output_type": "stream",
     "text": [
      "./GalDL/Food/3236679696492218467.mp4\n",
      "Food/https://www.instagram.com/reel/C0d-wRer-hG/\n",
      "Downloading : 199/1811\n",
      "\u001b[H\u001b[2J"
     ]
    },
    {
     "name": "stderr",
     "output_type": "stream",
     "text": [
      "[cookies][info] Extracted 2349 cookies from Firefox\n"
     ]
    },
    {
     "name": "stdout",
     "output_type": "stream",
     "text": [
      "./GalDL/Food/3251030502218393670.mp4\n",
      "Food/https://www.instagram.com/reel/C0b-G9qOjix/\n",
      "Downloading : 200/1811\n",
      "\u001b[H\u001b[2J"
     ]
    },
    {
     "name": "stderr",
     "output_type": "stream",
     "text": [
      "[cookies][info] Extracted 2350 cookies from Firefox\n"
     ]
    },
    {
     "name": "stdout",
     "output_type": "stream",
     "text": [
      "./GalDL/Food/3250464713485203633.mp4\n",
      "Food/https://www.instagram.com/reel/C0buVioPLkI/\n",
      "Downloading : 201/1811\n",
      "\u001b[H\u001b[2J"
     ]
    },
    {
     "name": "stderr",
     "output_type": "stream",
     "text": [
      "[cookies][info] Extracted 2350 cookies from Firefox\n"
     ]
    },
    {
     "name": "stdout",
     "output_type": "stream",
     "text": [
      "./GalDL/Food/3250395346508757256.mp4\n",
      "Food/https://www.instagram.com/reel/C0ZrTCPoNwK/\n",
      "Downloading : 202/1811\n",
      "\u001b[H\u001b[2J"
     ]
    },
    {
     "name": "stderr",
     "output_type": "stream",
     "text": [
      "[cookies][info] Extracted 2350 cookies from Firefox\n"
     ]
    },
    {
     "name": "stdout",
     "output_type": "stream",
     "text": [
      "./GalDL/Food/3249819030204242954.mp4\n",
      "Food/https://www.instagram.com/reel/C0bmRSusQwU/\n",
      "Downloading : 203/1811\n",
      "\u001b[H\u001b[2J"
     ]
    },
    {
     "name": "stderr",
     "output_type": "stream",
     "text": [
      "[cookies][info] Extracted 2350 cookies from Firefox\n"
     ]
    },
    {
     "name": "stdout",
     "output_type": "stream",
     "text": [
      "./GalDL/Food/3250359870187179028.mp4\n",
      "Food/https://www.instagram.com/reel/CyBXw13uPc1/\n",
      "Downloading : 204/1811\n",
      "\u001b[H\u001b[2J"
     ]
    },
    {
     "name": "stderr",
     "output_type": "stream",
     "text": [
      "[cookies][info] Extracted 2350 cookies from Firefox\n"
     ]
    },
    {
     "name": "stdout",
     "output_type": "stream",
     "text": [
      "./GalDL/Food/3206948921112327989.mp4\n",
      "Food/https://www.instagram.com/reel/C0e1JeSOov0/\n",
      "Downloading : 205/1811\n",
      "\u001b[H\u001b[2J"
     ]
    },
    {
     "name": "stderr",
     "output_type": "stream",
     "text": [
      "[cookies][info] Extracted 2350 cookies from Firefox\n"
     ]
    },
    {
     "name": "stdout",
     "output_type": "stream",
     "text": [
      "./GalDL/Food/3251269728466537460.mp4\n",
      "Food/https://www.instagram.com/reel/C0TNUpiNlrM/\n",
      "Downloading : 206/1811\n",
      "\u001b[H\u001b[2J"
     ]
    },
    {
     "name": "stderr",
     "output_type": "stream",
     "text": [
      "[cookies][info] Extracted 2350 cookies from Firefox\n"
     ]
    },
    {
     "name": "stdout",
     "output_type": "stream",
     "text": [
      "./GalDL/Food/3247998349855840972.mp4\n",
      "Food/https://www.instagram.com/reel/C0Q2J6lsosU/\n",
      "Downloading : 207/1811\n",
      "\u001b[H\u001b[2J"
     ]
    },
    {
     "name": "stderr",
     "output_type": "stream",
     "text": [
      "[cookies][info] Extracted 2350 cookies from Firefox\n"
     ]
    },
    {
     "name": "stdout",
     "output_type": "stream",
     "text": [
      "./GalDL/Food/3247333507230501652.mp4\n",
      "Food/https://www.instagram.com/reel/C0TJiOuI_ZX/\n",
      "Downloading : 208/1811\n",
      "\u001b[H\u001b[2J"
     ]
    },
    {
     "name": "stderr",
     "output_type": "stream",
     "text": [
      "[cookies][info] Extracted 2350 cookies from Firefox\n"
     ]
    },
    {
     "name": "stdout",
     "output_type": "stream",
     "text": [
      "./GalDL/Food/3247981690951562839.mp4\n",
      "Food/https://www.instagram.com/reel/C0B4pK8MKGR/\n",
      "Downloading : 209/1811\n",
      "\u001b[H\u001b[2J"
     ]
    },
    {
     "name": "stderr",
     "output_type": "stream",
     "text": [
      "[cookies][info] Extracted 2350 cookies from Firefox\n"
     ]
    },
    {
     "name": "stdout",
     "output_type": "stream",
     "text": [
      "./GalDL/Food/3243122326533874065.mp4\n",
      "Food/https://www.instagram.com/reel/Cy_dEzNPegj/\n",
      "Downloading : 210/1811\n",
      "\u001b[H\u001b[2J"
     ]
    },
    {
     "name": "stderr",
     "output_type": "stream",
     "text": [
      "[cookies][info] Extracted 2350 cookies from Firefox\n"
     ]
    },
    {
     "name": "stdout",
     "output_type": "stream",
     "text": [
      "./GalDL/Food/3224423731430287395.mp4\n",
      "Food/https://www.instagram.com/reel/CzLcxGoyrc0/\n",
      "Downloading : 211/1811\n",
      "\u001b[H\u001b[2J"
     ]
    },
    {
     "name": "stderr",
     "output_type": "stream",
     "text": [
      "[cookies][info] Extracted 2350 cookies from Firefox\n"
     ]
    },
    {
     "name": "stdout",
     "output_type": "stream",
     "text": [
      "./GalDL/Food/3227800077624588084.mp4\n",
      "Food/https://www.instagram.com/reel/CyDoM5yOfQY/\n",
      "Downloading : 212/1811\n",
      "\u001b[H\u001b[2J"
     ]
    },
    {
     "name": "stderr",
     "output_type": "stream",
     "text": [
      "[cookies][info] Extracted 2350 cookies from Firefox\n"
     ]
    },
    {
     "name": "stdout",
     "output_type": "stream",
     "text": [
      "./GalDL/Food/3207584168158032920.mp4\n",
      "Food/https://www.instagram.com/reel/C0RXHa2ymdn/\n",
      "Downloading : 213/1811\n",
      "\u001b[H\u001b[2J"
     ]
    },
    {
     "name": "stderr",
     "output_type": "stream",
     "text": [
      "[cookies][info] Extracted 2350 cookies from Firefox\n"
     ]
    },
    {
     "name": "stdout",
     "output_type": "stream",
     "text": [
      "./GalDL/Food/3247478471253452647.mp4\n",
      "Food/https://www.instagram.com/reel/C0EqEppLS7X/\n",
      "Downloading : 214/1811\n",
      "\u001b[H\u001b[2J"
     ]
    },
    {
     "name": "stderr",
     "output_type": "stream",
     "text": [
      "[cookies][info] Extracted 2350 cookies from Firefox\n"
     ]
    },
    {
     "name": "stdout",
     "output_type": "stream",
     "text": [
      "./GalDL/Food/3243902669159214807.mp4\n",
      "Food/https://www.instagram.com/reel/Cz3ssLZCPmD/\n",
      "Downloading : 215/1811\n",
      "\u001b[H\u001b[2J"
     ]
    },
    {
     "name": "stderr",
     "output_type": "stream",
     "text": [
      "[cookies][info] Extracted 2349 cookies from Firefox\n"
     ]
    },
    {
     "name": "stdout",
     "output_type": "stream",
     "text": [
      "./GalDL/Food/3240255006851004803.mp4\n",
      "Food/https://www.instagram.com/reel/Cx_5ADZrM-h/\n",
      "Downloading : 216/1811\n",
      "\u001b[H\u001b[2J"
     ]
    },
    {
     "name": "stderr",
     "output_type": "stream",
     "text": [
      "[cookies][info] Extracted 2351 cookies from Firefox\n"
     ]
    },
    {
     "name": "stdout",
     "output_type": "stream",
     "text": [
      "./GalDL/Food/3206532152014196641.mp4\n",
      "Food/https://www.instagram.com/reel/C0RuoqDrv9y/\n",
      "Downloading : 217/1811\n",
      "\u001b[H\u001b[2J"
     ]
    },
    {
     "name": "stderr",
     "output_type": "stream",
     "text": [
      "[cookies][info] Extracted 2351 cookies from Firefox\n"
     ]
    },
    {
     "name": "stdout",
     "output_type": "stream",
     "text": [
      "./GalDL/Food/3247581910388375410.mp4\n",
      "Food/https://www.instagram.com/reel/CzdvaUsMynW/\n",
      "Downloading : 218/1811\n",
      "\u001b[H\u001b[2J"
     ]
    },
    {
     "name": "stderr",
     "output_type": "stream",
     "text": [
      "[cookies][info] Extracted 2351 cookies from Firefox\n"
     ]
    },
    {
     "name": "stdout",
     "output_type": "stream",
     "text": [
      "./GalDL/Food/3232948624630688214.mp4\n",
      "Food/https://www.instagram.com/reel/C0MEkm0LfBG/\n",
      "Downloading : 219/1811\n",
      "\u001b[H\u001b[2J"
     ]
    },
    {
     "name": "stderr",
     "output_type": "stream",
     "text": [
      "[cookies][info] Extracted 2351 cookies from Firefox\n"
     ]
    },
    {
     "name": "stdout",
     "output_type": "stream",
     "text": [
      "./GalDL/Food/3245989539192107078.mp4\n",
      "Food/https://www.instagram.com/reel/Cx8H_rtyKX8/\n",
      "Downloading : 220/1811\n",
      "\u001b[H\u001b[2J"
     ]
    },
    {
     "name": "stderr",
     "output_type": "stream",
     "text": [
      "[cookies][info] Extracted 2351 cookies from Firefox\n"
     ]
    },
    {
     "name": "stdout",
     "output_type": "stream",
     "text": [
      "./GalDL/Food/3205472197372585468.mp4\n",
      "Food/https://www.instagram.com/reel/C0BvCGav0Ed/\n",
      "Downloading : 221/1811\n",
      "\u001b[H\u001b[2J"
     ]
    },
    {
     "name": "stderr",
     "output_type": "stream",
     "text": [
      "[cookies][info] Extracted 2351 cookies from Firefox\n"
     ]
    },
    {
     "name": "stdout",
     "output_type": "stream",
     "text": [
      "./GalDL/Food/3243080059199635741.mp4\n",
      "Food/https://www.instagram.com/reel/CzJUVR9g55Z/\n",
      "Downloading : 222/1811\n",
      "\u001b[H\u001b[2J"
     ]
    },
    {
     "name": "stderr",
     "output_type": "stream",
     "text": [
      "[cookies][info] Extracted 2351 cookies from Firefox\n"
     ]
    },
    {
     "name": "stdout",
     "output_type": "stream",
     "text": [
      "./GalDL/Food/3227200031312551513.mp4\n",
      "Food/https://www.instagram.com/reel/CzZWZaNIfiX/\n",
      "Downloading : 223/1811\n",
      "\u001b[H\u001b[2J"
     ]
    },
    {
     "name": "stderr",
     "output_type": "stream",
     "text": [
      "[cookies][info] Extracted 2351 cookies from Firefox\n"
     ]
    },
    {
     "name": "stdout",
     "output_type": "stream",
     "text": [
      "./GalDL/Food/3231712710762821783.mp4\n",
      "Food/https://www.instagram.com/reel/Czv_FJrp74D/\n",
      "Downloading : 224/1811\n",
      "\u001b[H\u001b[2J"
     ]
    },
    {
     "name": "stderr",
     "output_type": "stream",
     "text": [
      "[cookies][info] Extracted 2351 cookies from Firefox\n"
     ]
    },
    {
     "name": "stdout",
     "output_type": "stream",
     "text": [
      "./GalDL/Food/3238084088026349059.mp4\n",
      "Food/https://www.instagram.com/reel/Cyns21LOnlZ/\n",
      "Downloading : 225/1811\n",
      "\u001b[H\u001b[2J"
     ]
    },
    {
     "name": "stderr",
     "output_type": "stream",
     "text": [
      "[cookies][info] Extracted 2351 cookies from Firefox\n"
     ]
    },
    {
     "name": "stdout",
     "output_type": "stream",
     "text": [
      "./GalDL/Food/3217737740774439257.mp4\n",
      "Food/https://www.instagram.com/reel/CztOMNGN3IV/\n",
      "Downloading : 226/1811\n",
      "\u001b[H\u001b[2J"
     ]
    },
    {
     "name": "stderr",
     "output_type": "stream",
     "text": [
      "[cookies][info] Extracted 2351 cookies from Firefox\n"
     ]
    },
    {
     "name": "stdout",
     "output_type": "stream",
     "text": [
      "./GalDL/Food/3237306118497071637.mp4\n",
      "Food/https://www.instagram.com/reel/CzkgxGJv0YA/\n",
      "Downloading : 227/1811\n",
      "\u001b[H\u001b[2J"
     ]
    },
    {
     "name": "stderr",
     "output_type": "stream",
     "text": [
      "[cookies][info] Extracted 2351 cookies from Firefox\n"
     ]
    },
    {
     "name": "stdout",
     "output_type": "stream",
     "text": [
      "./GalDL/Food/3234854543707555328.mp4\n",
      "Food/https://www.instagram.com/reel/Czb1fCGJo59/\n",
      "Downloading : 228/1811\n",
      "\u001b[H\u001b[2J"
     ]
    },
    {
     "name": "stderr",
     "output_type": "stream",
     "text": [
      "[cookies][info] Extracted 2350 cookies from Firefox\n"
     ]
    },
    {
     "name": "stdout",
     "output_type": "stream",
     "text": [
      "./GalDL/Food/3232412386588003965.mp4\n",
      "Food/https://www.instagram.com/reel/CzH4oF8R9HH/\n",
      "Downloading : 229/1811\n",
      "\u001b[H\u001b[2J"
     ]
    },
    {
     "name": "stderr",
     "output_type": "stream",
     "text": [
      "[cookies][info] Extracted 2351 cookies from Firefox\n"
     ]
    },
    {
     "name": "stdout",
     "output_type": "stream",
     "text": [
      "./GalDL/Food/3226796703797989831.mp4\n",
      "Food/https://www.instagram.com/reel/Cyvx1zPIJQ3/\n",
      "Downloading : 230/1811\n",
      "\u001b[H\u001b[2J"
     ]
    },
    {
     "name": "stderr",
     "output_type": "stream",
     "text": [
      "[cookies][info] Extracted 2351 cookies from Firefox\n"
     ]
    },
    {
     "name": "stdout",
     "output_type": "stream",
     "text": [
      "./GalDL/Food/3220011460019131447.mp4\n",
      "Food/https://www.instagram.com/reel/CxwSf5Jtqc1/\n",
      "Downloading : 231/1811\n",
      "\u001b[H\u001b[2J"
     ]
    },
    {
     "name": "stderr",
     "output_type": "stream",
     "text": [
      "[cookies][info] Extracted 2351 cookies from Firefox\n"
     ]
    },
    {
     "name": "stdout",
     "output_type": "stream",
     "text": [
      "./GalDL/Food/3202140691567650613.mp4\n",
      "Food/https://www.instagram.com/p/Cx7LWlSoJas/\n",
      "Downloading : 232/1811\n",
      "\u001b[H\u001b[2J"
     ]
    },
    {
     "name": "stderr",
     "output_type": "stream",
     "text": [
      "[cookies][info] Extracted 2351 cookies from Firefox\n"
     ]
    },
    {
     "name": "stdout",
     "output_type": "stream",
     "text": [
      "./GalDL/Food/3205205490185311916_3205199391048374492.mp4\n",
      "./GalDL/Food/3205205490185311916_3205199392701123178.mp4\n",
      "./GalDL/Food/3205205490185311916_3205199393388858316.mp4\n",
      "./GalDL/Food/3205205490185311916_3205199395452405100.mp4\n",
      "./GalDL/Food/3205205490185311916_3205199406257098511.mp4\n",
      "Food/https://www.instagram.com/reel/CvzbYh7Avow/\n",
      "Downloading : 233/1811\n",
      "\u001b[H\u001b[2J"
     ]
    },
    {
     "name": "stderr",
     "output_type": "stream",
     "text": [
      "[cookies][info] Extracted 2351 cookies from Firefox\n"
     ]
    },
    {
     "name": "stdout",
     "output_type": "stream",
     "text": [
      "./GalDL/Food/3166995395918363184.mp4\n",
      "Food/https://www.instagram.com/reel/CtPYcI6OueO/\n",
      "Downloading : 234/1811\n",
      "\u001b[H\u001b[2J"
     ]
    },
    {
     "name": "stderr",
     "output_type": "stream",
     "text": [
      "[cookies][info] Extracted 2351 cookies from Firefox\n"
     ]
    },
    {
     "name": "stdout",
     "output_type": "stream",
     "text": [
      "./GalDL/Food/3120820553619531662.mp4\n",
      "Food/https://www.instagram.com/p/Cx1x8vESb8j/\n",
      "Downloading : 235/1811\n",
      "\u001b[H\u001b[2J"
     ]
    },
    {
     "name": "stderr",
     "output_type": "stream",
     "text": [
      "[cookies][info] Extracted 2351 cookies from Firefox\n"
     ]
    },
    {
     "name": "stdout",
     "output_type": "stream",
     "text": [
      "./GalDL/Food/3203686387929431843_3203684106815342239.mp4\n",
      "./GalDL/Food/3203686387929431843_3203684107377377119.mp4\n",
      "./GalDL/Food/3203686387929431843_3203684108014790934.mp4\n",
      "./GalDL/Food/3203686387929431843_3203684107612101154.mp4\n",
      "./GalDL/Food/3203686387929431843_3203684108577009438.mp4\n",
      "./GalDL/Food/3203686387929431843_3203684803321406236.mp4\n",
      "./GalDL/Food/3203686387929431843_3203684952831617981.mp4\n",
      "./GalDL/Food/3203686387929431843_3203685054350588640.mp4\n",
      "./GalDL/Food/3203686387929431843_3203685255098174399.mp4\n",
      "Food/https://www.instagram.com/reel/CygpWK1MWKP/\n",
      "Downloading : 236/1811\n",
      "\u001b[H\u001b[2J"
     ]
    },
    {
     "name": "stderr",
     "output_type": "stream",
     "text": [
      "[cookies][info] Extracted 2351 cookies from Firefox\n"
     ]
    },
    {
     "name": "stdout",
     "output_type": "stream",
     "text": [
      "./GalDL/Food/3215751977307824783.mp4\n",
      "Food/https://www.instagram.com/p/CyaLxPmt8Js/\n",
      "Downloading : 237/1811\n",
      "\u001b[H\u001b[2J"
     ]
    },
    {
     "name": "stderr",
     "output_type": "stream",
     "text": [
      "[cookies][info] Extracted 2350 cookies from Firefox\n"
     ]
    },
    {
     "name": "stdout",
     "output_type": "stream",
     "text": [
      "./GalDL/Food/3213933046603956844_3213932339259674018.mp4\n",
      "./GalDL/Food/3213933046603956844_3213932939028335782.mp4\n",
      "Food/https://www.instagram.com/reel/CyNzGUfvVUc/\n",
      "Downloading : 238/1811\n",
      "\u001b[H\u001b[2J"
     ]
    },
    {
     "name": "stderr",
     "output_type": "stream",
     "text": [
      "[cookies][info] Extracted 2351 cookies from Firefox\n"
     ]
    },
    {
     "name": "stdout",
     "output_type": "stream",
     "text": [
      "./GalDL/Food/3210446844081296668.mp4\n",
      "Food/https://www.instagram.com/reel/CyafQw1uOFV/\n",
      "Downloading : 239/1811\n",
      "\u001b[H\u001b[2J"
     ]
    },
    {
     "name": "stderr",
     "output_type": "stream",
     "text": [
      "[cookies][info] Extracted 2351 cookies from Firefox\n"
     ]
    },
    {
     "name": "stdout",
     "output_type": "stream",
     "text": [
      "./GalDL/Food/3214018775476658517.mp4\n",
      "Food/https://www.instagram.com/reel/CyQW46NPzTC/\n",
      "Downloading : 240/1811\n",
      "\u001b[H\u001b[2J"
     ]
    },
    {
     "name": "stderr",
     "output_type": "stream",
     "text": [
      "[cookies][info] Extracted 2351 cookies from Firefox\n"
     ]
    },
    {
     "name": "stdout",
     "output_type": "stream",
     "text": [
      "./GalDL/Food/3211167202128377026.mp4\n",
      "Food/https://www.instagram.com/reel/CyIPHycMsCP/\n",
      "Downloading : 241/1811\n",
      "\u001b[H\u001b[2J"
     ]
    },
    {
     "name": "stderr",
     "output_type": "stream",
     "text": [
      "[cookies][info] Extracted 2350 cookies from Firefox\n"
     ]
    },
    {
     "name": "stdout",
     "output_type": "stream",
     "text": [
      "./GalDL/Food/3208881240395661455.mp4\n",
      "Food/https://www.instagram.com/reel/Cx9KzaVy6Lv/\n",
      "Downloading : 242/1811\n",
      "\u001b[H\u001b[2J"
     ]
    },
    {
     "name": "stderr",
     "output_type": "stream",
     "text": [
      "[cookies][info] Extracted 2350 cookies from Firefox\n"
     ]
    },
    {
     "name": "stdout",
     "output_type": "stream",
     "text": [
      "./GalDL/Food/3205766023199040239.mp4\n",
      "Food/https://www.instagram.com/reel/CyDqvw_SOuQ/\n",
      "Downloading : 243/1811\n",
      "\u001b[H\u001b[2J"
     ]
    },
    {
     "name": "stderr",
     "output_type": "stream",
     "text": [
      "[cookies][info] Extracted 2350 cookies from Firefox\n"
     ]
    },
    {
     "name": "stdout",
     "output_type": "stream",
     "text": [
      "./GalDL/Food/3207595359988149136.mp4\n",
      "Food/https://www.instagram.com/reel/Cx7hKJeyoes/\n",
      "Downloading : 244/1811\n",
      "\u001b[H\u001b[2J"
     ]
    },
    {
     "name": "stderr",
     "output_type": "stream",
     "text": [
      "[cookies][info] Extracted 2350 cookies from Firefox\n"
     ]
    },
    {
     "name": "stdout",
     "output_type": "stream",
     "text": [
      "./GalDL/Food/3205301392714139564.mp4\n",
      "Food/https://www.instagram.com/reel/CyKwVyNrRM2/\n",
      "Downloading : 245/1811\n",
      "\u001b[H\u001b[2J"
     ]
    },
    {
     "name": "stderr",
     "output_type": "stream",
     "text": [
      "[cookies][info] Extracted 2349 cookies from Firefox\n"
     ]
    },
    {
     "name": "stdout",
     "output_type": "stream",
     "text": [
      "./GalDL/Food/3209590287712981814.mp4\n",
      "Food/https://www.instagram.com/reel/CyLlaAPvnyS/\n",
      "Downloading : 246/1811\n",
      "\u001b[H\u001b[2J"
     ]
    },
    {
     "name": "stderr",
     "output_type": "stream",
     "text": [
      "[cookies][info] Extracted 2349 cookies from Firefox\n"
     ]
    },
    {
     "name": "stdout",
     "output_type": "stream",
     "text": [
      "./GalDL/Food/3209823674123058322.mp4\n",
      "Food/https://www.instagram.com/reel/CyDjqaHvWV-/\n",
      "Downloading : 247/1811\n",
      "\u001b[H\u001b[2J"
     ]
    },
    {
     "name": "stderr",
     "output_type": "stream",
     "text": [
      "[cookies][info] Extracted 2350 cookies from Firefox\n"
     ]
    },
    {
     "name": "stdout",
     "output_type": "stream",
     "text": [
      "./GalDL/Food/3207564205510976894.mp4\n",
      "Food/https://www.instagram.com/reel/CyEBrpbozjM/\n",
      "Downloading : 248/1811\n",
      "\u001b[H\u001b[2J"
     ]
    },
    {
     "name": "stderr",
     "output_type": "stream",
     "text": [
      "[cookies][info] Extracted 2350 cookies from Firefox\n"
     ]
    },
    {
     "name": "stdout",
     "output_type": "stream",
     "text": [
      "./GalDL/Food/3207696232065743052.mp4\n",
      "Food/https://www.instagram.com/reel/Cxlggt2y127/\n",
      "Downloading : 249/1811\n",
      "\u001b[H\u001b[2J"
     ]
    },
    {
     "name": "stderr",
     "output_type": "stream",
     "text": [
      "[cookies][info] Extracted 2350 cookies from Firefox\n"
     ]
    },
    {
     "name": "stdout",
     "output_type": "stream",
     "text": [
      "./GalDL/Food/3199106096065895867.mp4\n",
      "Food/https://www.instagram.com/reel/Cx2x3LIueqk/\n",
      "Downloading : 250/1811\n",
      "\u001b[H\u001b[2J"
     ]
    },
    {
     "name": "stderr",
     "output_type": "stream",
     "text": [
      "[cookies][info] Extracted 2350 cookies from Firefox\n"
     ]
    },
    {
     "name": "stdout",
     "output_type": "stream",
     "text": [
      "./GalDL/Food/3203967480728513188.mp4\n",
      "Food/https://www.instagram.com/reel/CyEAbTPsB0t/\n",
      "Downloading : 251/1811\n",
      "\u001b[H\u001b[2J"
     ]
    },
    {
     "name": "stderr",
     "output_type": "stream",
     "text": [
      "[cookies][info] Extracted 2350 cookies from Firefox\n"
     ]
    },
    {
     "name": "stdout",
     "output_type": "stream",
     "text": [
      "./GalDL/Food/3207690710684802349.mp4\n",
      "Food/https://www.instagram.com/reel/Cxw-hZLRJpe/\n",
      "Downloading : 252/1811\n",
      "\u001b[H\u001b[2J"
     ]
    },
    {
     "name": "stderr",
     "output_type": "stream",
     "text": [
      "[cookies][info] Extracted 2350 cookies from Firefox\n"
     ]
    },
    {
     "name": "stdout",
     "output_type": "stream",
     "text": [
      "./GalDL/Food/3202334308719434334.mp4\n",
      "Food/https://www.instagram.com/reel/CyDKAQWL-58/\n",
      "Downloading : 253/1811\n",
      "\u001b[H\u001b[2J"
     ]
    },
    {
     "name": "stderr",
     "output_type": "stream",
     "text": [
      "[cookies][info] Extracted 2349 cookies from Firefox\n"
     ]
    },
    {
     "name": "stdout",
     "output_type": "stream",
     "text": [
      "./GalDL/Food/3207451357635145340.mp4\n",
      "Food/https://www.instagram.com/reel/CyCaBTrJnwm/\n",
      "Downloading : 254/1811\n",
      "\u001b[H\u001b[2J"
     ]
    },
    {
     "name": "stderr",
     "output_type": "stream",
     "text": [
      "[cookies][info] Extracted 2350 cookies from Firefox\n"
     ]
    },
    {
     "name": "stdout",
     "output_type": "stream",
     "text": [
      "./GalDL/Food/3207240323695016998.mp4\n",
      "Food/https://www.instagram.com/reel/CyBOvKWuMry/\n",
      "Downloading : 255/1811\n",
      "\u001b[H\u001b[2J"
     ]
    },
    {
     "name": "stderr",
     "output_type": "stream",
     "text": [
      "[cookies][info] Extracted 2350 cookies from Firefox\n"
     ]
    },
    {
     "name": "stdout",
     "output_type": "stream",
     "text": [
      "./GalDL/Food/3206909223249693426.mp4\n",
      "Food/https://www.instagram.com/reel/CyAoPHyhN3b/\n",
      "Downloading : 256/1811\n",
      "\u001b[H\u001b[2J"
     ]
    },
    {
     "name": "stderr",
     "output_type": "stream",
     "text": [
      "[cookies][info] Extracted 2350 cookies from Firefox\n"
     ]
    },
    {
     "name": "stdout",
     "output_type": "stream",
     "text": [
      "./GalDL/Food/3206739895704149467.mp4\n",
      "Food/https://www.instagram.com/reel/Cx-0pIFsNkD/\n",
      "Downloading : 257/1811\n",
      "\u001b[H\u001b[2J"
     ]
    },
    {
     "name": "stderr",
     "output_type": "stream",
     "text": [
      "[cookies][info] Extracted 2350 cookies from Firefox\n"
     ]
    },
    {
     "name": "stdout",
     "output_type": "stream",
     "text": [
      "./GalDL/Food/3206231509336905987.mp4\n",
      "Food/https://www.instagram.com/p/CxdfpyloSIn/\n",
      "Downloading : 258/1811\n",
      "\u001b[H\u001b[2J"
     ]
    },
    {
     "name": "stderr",
     "output_type": "stream",
     "text": [
      "[cookies][info] Extracted 2350 cookies from Firefox\n"
     ]
    },
    {
     "name": "stdout",
     "output_type": "stream",
     "text": [
      "./GalDL/Food/3196850521761718823_3196850509799691730.jpg\n",
      "./GalDL/Food/3196850521761718823_3196850509799677732.jpg\n",
      "./GalDL/Food/3196850521761718823_3196834454297627465.mp4\n",
      "./GalDL/Food/3196850521761718823_3196834493749238792.mp4\n",
      "./GalDL/Food/3196850521761718823_3196834454834303533.mp4\n",
      "./GalDL/Food/3196850521761718823_3196834455505500841.mp4\n",
      "./GalDL/Food/3196850521761718823_3196834456704988275.mp4\n",
      "./GalDL/Food/3196850521761718823_3196850509816292121.jpg\n",
      "./GalDL/Food/3196850521761718823_3196850509833165261.jpg\n",
      "./GalDL/Food/3196850521761718823_3196850510177061426.jpg\n",
      "Food/https://www.instagram.com/reel/Cx6fTe5PYcM/\n",
      "Downloading : 259/1811\n",
      "\u001b[H\u001b[2J"
     ]
    },
    {
     "name": "stderr",
     "output_type": "stream",
     "text": [
      "[cookies][info] Extracted 2350 cookies from Firefox\n"
     ]
    },
    {
     "name": "stdout",
     "output_type": "stream",
     "text": [
      "./GalDL/Food/3205011763112019724.mp4\n",
      "Food/https://www.instagram.com/reel/CxxkyveIlcd/\n",
      "Downloading : 260/1811\n",
      "\u001b[H\u001b[2J"
     ]
    },
    {
     "name": "stderr",
     "output_type": "stream",
     "text": [
      "[cookies][info] Extracted 2350 cookies from Firefox\n"
     ]
    },
    {
     "name": "stdout",
     "output_type": "stream",
     "text": [
      "./GalDL/Food/3202502626656802589.mp4\n",
      "Food/https://www.instagram.com/reel/CxZEh2mPbiF/\n",
      "Downloading : 261/1811\n",
      "\u001b[H\u001b[2J"
     ]
    },
    {
     "name": "stderr",
     "output_type": "stream",
     "text": [
      "[cookies][info] Extracted 2349 cookies from Firefox\n"
     ]
    },
    {
     "name": "stdout",
     "output_type": "stream",
     "text": [
      "./GalDL/Food/3195605329148491909.mp4\n",
      "Food/https://www.instagram.com/reel/Cx2Da2JvRcd/\n",
      "Downloading : 262/1811\n",
      "\u001b[H\u001b[2J"
     ]
    },
    {
     "name": "stderr",
     "output_type": "stream",
     "text": [
      "[cookies][info] Extracted 2349 cookies from Firefox\n"
     ]
    },
    {
     "name": "stdout",
     "output_type": "stream",
     "text": [
      "./GalDL/Food/3203763223912060701.mp4\n",
      "Food/https://www.instagram.com/reel/CwVvWOwIu48/\n",
      "Downloading : 263/1811\n",
      "\u001b[H\u001b[2J"
     ]
    },
    {
     "name": "stderr",
     "output_type": "stream",
     "text": [
      "[cookies][info] Extracted 2349 cookies from Firefox\n"
     ]
    },
    {
     "name": "stdout",
     "output_type": "stream",
     "text": [
      "./GalDL/Food/3176653348034244156.mp4\n",
      "Food/https://www.instagram.com/reel/Cxfh5eFv7g4/\n",
      "Downloading : 264/1811\n",
      "\u001b[H\u001b[2J"
     ]
    },
    {
     "name": "stderr",
     "output_type": "stream",
     "text": [
      "[cookies][info] Extracted 2349 cookies from Firefox\n"
     ]
    },
    {
     "name": "stdout",
     "output_type": "stream",
     "text": [
      "./GalDL/Food/3197423345310087224.mp4\n",
      "Food/https://www.instagram.com/reel/CxqypB_AD6C/\n",
      "Downloading : 265/1811\n",
      "\u001b[H\u001b[2J"
     ]
    },
    {
     "name": "stderr",
     "output_type": "stream",
     "text": [
      "[cookies][info] Extracted 2349 cookies from Firefox\n"
     ]
    },
    {
     "name": "stdout",
     "output_type": "stream",
     "text": [
      "./GalDL/Food/3200593207154982530.mp4\n",
      "Food/https://www.instagram.com/reel/CxhfNjLvh3M/\n",
      "Downloading : 266/1811\n",
      "\u001b[H\u001b[2J"
     ]
    },
    {
     "name": "stderr",
     "output_type": "stream",
     "text": [
      "[cookies][info] Extracted 2349 cookies from Firefox\n"
     ]
    },
    {
     "name": "stdout",
     "output_type": "stream",
     "text": [
      "./GalDL/Food/3197974480982777292.mp4\n",
      "Food/https://www.instagram.com/reel/CxFK60-SWjB/\n",
      "Downloading : 267/1811\n",
      "\u001b[H\u001b[2J"
     ]
    },
    {
     "name": "stderr",
     "output_type": "stream",
     "text": [
      "[cookies][info] Extracted 2349 cookies from Firefox\n"
     ]
    },
    {
     "name": "stdout",
     "output_type": "stream",
     "text": [
      "./GalDL/Food/3190003934136199361.mp4\n",
      "Food/https://www.instagram.com/reel/CwnuowhKGhL/\n",
      "Downloading : 268/1811\n",
      "\u001b[H\u001b[2J"
     ]
    },
    {
     "name": "stderr",
     "output_type": "stream",
     "text": [
      "[cookies][info] Extracted 2349 cookies from Firefox\n"
     ]
    },
    {
     "name": "stdout",
     "output_type": "stream",
     "text": [
      "./GalDL/Food/3181716772775028811.mp4\n",
      "Food/https://www.instagram.com/reel/CxKOOIxLunT/\n",
      "Downloading : 269/1811\n",
      "\u001b[H\u001b[2J"
     ]
    },
    {
     "name": "stderr",
     "output_type": "stream",
     "text": [
      "[cookies][info] Extracted 2349 cookies from Firefox\n"
     ]
    },
    {
     "name": "stdout",
     "output_type": "stream",
     "text": [
      "./GalDL/Food/3191425830084340179.mp4\n",
      "Food/https://www.instagram.com/reel/CuzuIiSrmpU/\n",
      "Downloading : 270/1811\n",
      "\u001b[H\u001b[2J"
     ]
    },
    {
     "name": "stderr",
     "output_type": "stream",
     "text": [
      "[cookies][info] Extracted 2349 cookies from Firefox\n"
     ]
    },
    {
     "name": "stdout",
     "output_type": "stream",
     "text": [
      "./GalDL/Food/3149063461178075732.mp4\n",
      "Food/https://www.instagram.com/reel/Cw-eHPNKK8k/\n",
      "Downloading : 271/1811\n",
      "\u001b[H\u001b[2J"
     ]
    },
    {
     "name": "stderr",
     "output_type": "stream",
     "text": [
      "[cookies][info] Extracted 2350 cookies from Firefox\n"
     ]
    },
    {
     "name": "stdout",
     "output_type": "stream",
     "text": [
      "./GalDL/Food/3188118024983457572.mp4\n",
      "Food/https://www.instagram.com/reel/Cw5ziJSvABe/\n",
      "Downloading : 272/1811\n",
      "\u001b[H\u001b[2J"
     ]
    },
    {
     "name": "stderr",
     "output_type": "stream",
     "text": [
      "[cookies][info] Extracted 2350 cookies from Firefox\n"
     ]
    },
    {
     "name": "stdout",
     "output_type": "stream",
     "text": [
      "./GalDL/Food/3186804858153599070.mp4\n",
      "Food/https://www.instagram.com/reel/CuldfOII3EI/\n",
      "Downloading : 273/1811\n",
      "\u001b[H\u001b[2J"
     ]
    },
    {
     "name": "stderr",
     "output_type": "stream",
     "text": [
      "[cookies][info] Extracted 2350 cookies from Firefox\n"
     ]
    },
    {
     "name": "stdout",
     "output_type": "stream",
     "text": [
      "./GalDL/Food/3145049603609686280.mp4\n",
      "Food/https://www.instagram.com/reel/CsozvT_tePQ/\n",
      "Downloading : 274/1811\n",
      "\u001b[H\u001b[2J"
     ]
    },
    {
     "name": "stderr",
     "output_type": "stream",
     "text": [
      "[cookies][info] Extracted 2350 cookies from Firefox\n"
     ]
    },
    {
     "name": "stdout",
     "output_type": "stream",
     "text": [
      "./GalDL/Food/3109963094356779984.mp4\n",
      "Food/https://www.instagram.com/reel/CuZ2N9VvFNy/\n",
      "Downloading : 275/1811\n",
      "\u001b[H\u001b[2J"
     ]
    },
    {
     "name": "stderr",
     "output_type": "stream",
     "text": [
      "[cookies][info] Extracted 2350 cookies from Firefox\n"
     ]
    },
    {
     "name": "stdout",
     "output_type": "stream",
     "text": [
      "./GalDL/Food/3141780668795343730.mp4\n",
      "Food/https://www.instagram.com/reel/CwFqdIKqA9x/\n",
      "Downloading : 276/1811\n",
      "\u001b[H\u001b[2J"
     ]
    },
    {
     "name": "stderr",
     "output_type": "stream",
     "text": [
      "[cookies][info] Extracted 2350 cookies from Firefox\n"
     ]
    },
    {
     "name": "stdout",
     "output_type": "stream",
     "text": [
      "./GalDL/Food/3172128232139394929.mp4\n",
      "Food/https://www.instagram.com/reel/Cwz4k3cPLCV/\n",
      "Downloading : 277/1811\n",
      "\u001b[H\u001b[2J"
     ]
    },
    {
     "name": "stderr",
     "output_type": "stream",
     "text": [
      "[cookies][info] Extracted 2350 cookies from Firefox\n"
     ]
    },
    {
     "name": "stdout",
     "output_type": "stream",
     "text": [
      "./GalDL/Food/3185138185516396693.mp4\n",
      "Food/https://www.instagram.com/reel/Cw9gmdoIJMu/\n",
      "Downloading : 278/1811\n",
      "\u001b[H\u001b[2J"
     ]
    },
    {
     "name": "stderr",
     "output_type": "stream",
     "text": [
      "[cookies][info] Extracted 2350 cookies from Firefox\n"
     ]
    },
    {
     "name": "stdout",
     "output_type": "stream",
     "text": [
      "./GalDL/Food/3187847491888386862.mp4\n",
      "Food/https://www.instagram.com/reel/Cw5IZgauX1H/\n",
      "Downloading : 279/1811\n",
      "\u001b[H\u001b[2J"
     ]
    },
    {
     "name": "stderr",
     "output_type": "stream",
     "text": [
      "[cookies][info] Extracted 2350 cookies from Firefox\n"
     ]
    },
    {
     "name": "stdout",
     "output_type": "stream",
     "text": [
      "./GalDL/Food/3186615148508446023.mp4\n",
      "Food/https://www.instagram.com/reel/Cw8nQOhStTI/\n",
      "Downloading : 280/1811\n",
      "\u001b[H\u001b[2J"
     ]
    },
    {
     "name": "stderr",
     "output_type": "stream",
     "text": [
      "[cookies][info] Extracted 2349 cookies from Firefox\n"
     ]
    },
    {
     "name": "stdout",
     "output_type": "stream",
     "text": [
      "./GalDL/Food/3187595275187967176.mp4\n",
      "Food/https://www.instagram.com/reel/Cw4rgVGyv4c/\n",
      "Downloading : 281/1811\n",
      "\u001b[H\u001b[2J"
     ]
    },
    {
     "name": "stderr",
     "output_type": "stream",
     "text": [
      "[cookies][info] Extracted 2349 cookies from Firefox\n"
     ]
    },
    {
     "name": "stdout",
     "output_type": "stream",
     "text": [
      "./GalDL/Food/3186488074050403868.mp4\n",
      "Food/https://www.instagram.com/reel/CwhnLsEIEn_/\n",
      "Downloading : 282/1811\n",
      "\u001b[H\u001b[2J"
     ]
    },
    {
     "name": "stderr",
     "output_type": "stream",
     "text": [
      "[cookies][info] Extracted 2349 cookies from Firefox\n"
     ]
    },
    {
     "name": "stdout",
     "output_type": "stream",
     "text": [
      "./GalDL/Food/3179995138942323199.mp4\n",
      "Food/https://www.instagram.com/reel/CuUFyM-hget/\n",
      "Downloading : 283/1811\n",
      "\u001b[H\u001b[2J"
     ]
    },
    {
     "name": "stderr",
     "output_type": "stream",
     "text": [
      "[cookies][info] Extracted 2349 cookies from Firefox\n"
     ]
    },
    {
     "name": "stdout",
     "output_type": "stream",
     "text": [
      "./GalDL/Food/3140160280324343725.mp4\n",
      "Food/https://www.instagram.com/reel/Cwr49SHgUWF/\n",
      "Downloading : 284/1811\n",
      "\u001b[H\u001b[2J"
     ]
    },
    {
     "name": "stderr",
     "output_type": "stream",
     "text": [
      "[cookies][info] Extracted 2349 cookies from Firefox\n"
     ]
    },
    {
     "name": "stdout",
     "output_type": "stream",
     "text": [
      "./GalDL/Food/3182888063613355397.mp4\n",
      "Food/https://www.instagram.com/reel/Cv4TdXBMb97/\n",
      "Downloading : 285/1811\n",
      "\u001b[H\u001b[2J"
     ]
    },
    {
     "name": "stderr",
     "output_type": "stream",
     "text": [
      "[cookies][info] Extracted 2350 cookies from Firefox\n"
     ]
    },
    {
     "name": "stdout",
     "output_type": "stream",
     "text": [
      "./GalDL/Food/3168367918319779707.mp4\n",
      "Food/https://www.instagram.com/reel/Cw7t4gAMMX6/\n",
      "Downloading : 286/1811\n",
      "\u001b[H\u001b[2J"
     ]
    },
    {
     "name": "stderr",
     "output_type": "stream",
     "text": [
      "[cookies][info] Extracted 2350 cookies from Firefox\n"
     ]
    },
    {
     "name": "stdout",
     "output_type": "stream",
     "text": [
      "./GalDL/Food/3187342956041389562.mp4\n",
      "Food/https://www.instagram.com/reel/Cv4ZVSZtcRN/\n",
      "Downloading : 287/1811\n",
      "\u001b[H\u001b[2J"
     ]
    },
    {
     "name": "stderr",
     "output_type": "stream",
     "text": [
      "[cookies][info] Extracted 2350 cookies from Firefox\n"
     ]
    },
    {
     "name": "stdout",
     "output_type": "stream",
     "text": [
      "./GalDL/Food/3168393751885628493.mp4\n",
      "Food/https://www.instagram.com/reel/Cw2syRTSu81/\n",
      "Downloading : 288/1811\n",
      "\u001b[H\u001b[2J"
     ]
    },
    {
     "name": "stderr",
     "output_type": "stream",
     "text": [
      "[cookies][info] Extracted 2350 cookies from Firefox\n"
     ]
    },
    {
     "name": "stdout",
     "output_type": "stream",
     "text": [
      "./GalDL/Food/3185930755008818997.mp4\n",
      "Food/https://www.instagram.com/reel/Cw1ykAYsVBz/\n",
      "Downloading : 289/1811\n",
      "\u001b[H\u001b[2J"
     ]
    },
    {
     "name": "stderr",
     "output_type": "stream",
     "text": [
      "[cookies][info] Extracted 2350 cookies from Firefox\n"
     ]
    },
    {
     "name": "stdout",
     "output_type": "stream",
     "text": [
      "./GalDL/Food/3185674688075485299.mp4\n",
      "Food/https://www.instagram.com/reel/Cw0VNTCMtYb/\n",
      "Downloading : 290/1811\n",
      "\u001b[H\u001b[2J"
     ]
    },
    {
     "name": "stderr",
     "output_type": "stream",
     "text": [
      "[cookies][info] Extracted 2349 cookies from Firefox\n"
     ]
    },
    {
     "name": "stdout",
     "output_type": "stream",
     "text": [
      "./GalDL/Food/3185264109225694747.mp4\n",
      "Food/https://www.instagram.com/reel/Cwzkkn8Metx/\n",
      "Downloading : 291/1811\n",
      "\u001b[H\u001b[2J"
     ]
    },
    {
     "name": "stderr",
     "output_type": "stream",
     "text": [
      "[cookies][info] Extracted 2349 cookies from Firefox\n"
     ]
    },
    {
     "name": "stdout",
     "output_type": "stream",
     "text": [
      "./GalDL/Food/3185050207942470513.mp4\n",
      "Food/https://www.instagram.com/reel/CwuOTLRrRiw/\n",
      "Downloading : 292/1811\n",
      "\u001b[H\u001b[2J"
     ]
    },
    {
     "name": "stderr",
     "output_type": "stream",
     "text": [
      "[cookies][info] Extracted 2349 cookies from Firefox\n"
     ]
    },
    {
     "name": "stdout",
     "output_type": "stream",
     "text": [
      "./GalDL/Food/3183544877026449584.mp4\n",
      "Food/https://www.instagram.com/reel/Cw2qlbuOeji/\n",
      "Downloading : 293/1811\n",
      "\u001b[H\u001b[2J"
     ]
    },
    {
     "name": "stderr",
     "output_type": "stream",
     "text": [
      "[cookies][info] Extracted 2350 cookies from Firefox\n"
     ]
    },
    {
     "name": "stdout",
     "output_type": "stream",
     "text": [
      "./GalDL/Food/3185921076751886562.mp4\n",
      "Food/https://www.instagram.com/reel/CwnIUjKPXWV/\n",
      "Downloading : 294/1811\n",
      "\u001b[H\u001b[2J"
     ]
    },
    {
     "name": "stderr",
     "output_type": "stream",
     "text": [
      "[cookies][info] Extracted 2350 cookies from Firefox\n"
     ]
    },
    {
     "name": "stdout",
     "output_type": "stream",
     "text": [
      "./GalDL/Food/3181548258274932117.mp4\n",
      "Food/https://www.instagram.com/reel/CwsNmMNue0F/\n",
      "Downloading : 295/1811\n",
      "\u001b[H\u001b[2J"
     ]
    },
    {
     "name": "stderr",
     "output_type": "stream",
     "text": [
      "[cookies][info] Extracted 2350 cookies from Firefox\n"
     ]
    },
    {
     "name": "stdout",
     "output_type": "stream",
     "text": [
      "./GalDL/Food/3182978835704048901.mp4\n",
      "Food/https://www.instagram.com/reel/CweBNrbtV9U/\n",
      "Downloading : 296/1811\n",
      "\u001b[H\u001b[2J"
     ]
    },
    {
     "name": "stderr",
     "output_type": "stream",
     "text": [
      "[cookies][info] Extracted 2350 cookies from Firefox\n"
     ]
    },
    {
     "name": "stdout",
     "output_type": "stream",
     "text": [
      "./GalDL/Food/3178983725005627220.mp4\n",
      "Food/https://www.instagram.com/reel/CwnOxzBrVLy/\n",
      "Downloading : 297/1811\n",
      "\u001b[H\u001b[2J"
     ]
    },
    {
     "name": "stderr",
     "output_type": "stream",
     "text": [
      "[cookies][info] Extracted 2350 cookies from Firefox\n"
     ]
    },
    {
     "name": "stdout",
     "output_type": "stream",
     "text": [
      "./GalDL/Food/3181576656455029490.mp4\n",
      "Food/https://www.instagram.com/reel/Cwk3Ootg32a/\n",
      "Downloading : 298/1811\n",
      "\u001b[H\u001b[2J"
     ]
    },
    {
     "name": "stderr",
     "output_type": "stream",
     "text": [
      "[cookies][info] Extracted 2349 cookies from Firefox\n"
     ]
    },
    {
     "name": "stdout",
     "output_type": "stream",
     "text": [
      "./GalDL/Food/3180910135174462874.mp4\n",
      "Food/https://www.instagram.com/reel/CutcrnboV4e/\n",
      "Downloading : 299/1811\n",
      "\u001b[H\u001b[2J"
     ]
    },
    {
     "name": "stderr",
     "output_type": "stream",
     "text": [
      "[cookies][info] Extracted 2349 cookies from Firefox\n"
     ]
    },
    {
     "name": "stdout",
     "output_type": "stream",
     "text": [
      "./GalDL/Food/3147297857181146654.mp4\n",
      "Food/https://www.instagram.com/reel/CwPhT3aIDjG/\n",
      "Downloading : 300/1811\n",
      "\u001b[H\u001b[2J"
     ]
    },
    {
     "name": "stderr",
     "output_type": "stream",
     "text": [
      "[cookies][info] Extracted 2349 cookies from Firefox\n"
     ]
    },
    {
     "name": "stdout",
     "output_type": "stream",
     "text": [
      "./GalDL/Food/3174902763018533062.mp4\n",
      "Food/https://www.instagram.com/p/CwDNI56s72A/\n",
      "Downloading : 301/1811\n",
      "\u001b[H\u001b[2J"
     ]
    },
    {
     "name": "stderr",
     "output_type": "stream",
     "text": [
      "[cookies][info] Extracted 2349 cookies from Firefox\n"
     ]
    },
    {
     "name": "stdout",
     "output_type": "stream",
     "text": [
      "./GalDL/Food/3171436349147561344_3171435726427623142.mp4\n",
      "./GalDL/Food/3171436349147561344_3171435726243083304.mp4\n",
      "./GalDL/Food/3171436349147561344_3171435727148914024.mp4\n",
      "Food/https://www.instagram.com/reel/CwPc94-A9F3/\n",
      "Downloading : 302/1811\n",
      "\u001b[H\u001b[2J"
     ]
    },
    {
     "name": "stderr",
     "output_type": "stream",
     "text": [
      "[cookies][info] Extracted 2350 cookies from Firefox\n"
     ]
    },
    {
     "name": "stdout",
     "output_type": "stream",
     "text": [
      "./GalDL/Food/3174883660679860599.mp4\n",
      "Food/https://www.instagram.com/reel/Cwwvt1bIMYQ/\n",
      "Downloading : 303/1811\n",
      "\u001b[H\u001b[2J"
     ]
    },
    {
     "name": "stderr",
     "output_type": "stream",
     "text": [
      "[cookies][info] Extracted 2350 cookies from Firefox\n"
     ]
    },
    {
     "name": "stdout",
     "output_type": "stream",
     "text": [
      "./GalDL/Food/3184254794476865040.mp4\n",
      "Food/https://www.instagram.com/reel/CwiT8aQJhDW/\n",
      "Downloading : 304/1811\n",
      "\u001b[H\u001b[2J"
     ]
    },
    {
     "name": "stderr",
     "output_type": "stream",
     "text": [
      "[cookies][info] Extracted 2350 cookies from Firefox\n"
     ]
    },
    {
     "name": "stdout",
     "output_type": "stream",
     "text": [
      "./GalDL/Food/3180192001117524182.mp4\n",
      "Food/https://www.instagram.com/reel/Cwqo_jKv2Wq/\n",
      "Downloading : 305/1811\n",
      "\u001b[H\u001b[2J"
     ]
    },
    {
     "name": "stderr",
     "output_type": "stream",
     "text": [
      "[cookies][info] Extracted 2349 cookies from Firefox\n"
     ]
    },
    {
     "name": "stdout",
     "output_type": "stream",
     "text": [
      "./GalDL/Food/3182536375639434666.mp4\n",
      "Food/https://www.instagram.com/reel/Cwk_I_Ms90I/\n",
      "Downloading : 306/1811\n",
      "\u001b[H\u001b[2J"
     ]
    },
    {
     "name": "stderr",
     "output_type": "stream",
     "text": [
      "[cookies][info] Extracted 2348 cookies from Firefox\n"
     ]
    },
    {
     "name": "stdout",
     "output_type": "stream",
     "text": [
      "./GalDL/Food/3180944931375275272.mp4\n",
      "Food/https://www.instagram.com/reel/CwscM5nuZEl/\n",
      "Downloading : 307/1811\n",
      "\u001b[H\u001b[2J"
     ]
    },
    {
     "name": "stderr",
     "output_type": "stream",
     "text": [
      "[cookies][info] Extracted 2348 cookies from Firefox\n"
     ]
    },
    {
     "name": "stdout",
     "output_type": "stream",
     "text": [
      "./GalDL/Food/3183043068449886501.mp4\n",
      "Food/https://www.instagram.com/reel/CvsbXrPg3Wm/\n",
      "Downloading : 308/1811\n",
      "\u001b[H\u001b[2J"
     ]
    },
    {
     "name": "stderr",
     "output_type": "stream",
     "text": [
      "[cookies][info] Extracted 2348 cookies from Firefox\n"
     ]
    },
    {
     "name": "stdout",
     "output_type": "stream",
     "text": [
      "./GalDL/Food/3165025012369552806.mp4\n",
      "Food/https://www.instagram.com/reel/CwSelBNIw64/\n",
      "Downloading : 309/1811\n",
      "\u001b[H\u001b[2J"
     ]
    },
    {
     "name": "stderr",
     "output_type": "stream",
     "text": [
      "[cookies][info] Extracted 2349 cookies from Firefox\n"
     ]
    },
    {
     "name": "stdout",
     "output_type": "stream",
     "text": [
      "./GalDL/Food/3175735172559736504.mp4\n",
      "Food/https://www.instagram.com/reel/Cwjt3t6hp2y/\n",
      "Downloading : 310/1811\n",
      "\u001b[H\u001b[2J"
     ]
    },
    {
     "name": "stderr",
     "output_type": "stream",
     "text": [
      "[cookies][info] Extracted 2348 cookies from Firefox\n"
     ]
    },
    {
     "name": "stdout",
     "output_type": "stream",
     "text": [
      "./GalDL/Food/3180587502818205106.mp4\n",
      "Food/https://www.instagram.com/reel/Cv4y6O8Ih1w/\n",
      "Downloading : 311/1811\n",
      "\u001b[H\u001b[2J"
     ]
    },
    {
     "name": "stderr",
     "output_type": "stream",
     "text": [
      "[cookies][info] Extracted 2348 cookies from Firefox\n"
     ]
    },
    {
     "name": "stdout",
     "output_type": "stream",
     "text": [
      "./GalDL/Food/3168506241951604080.mp4\n",
      "Food/https://www.instagram.com/reel/Cv_b8teoR60/\n",
      "Downloading : 312/1811\n",
      "\u001b[H\u001b[2J"
     ]
    },
    {
     "name": "stderr",
     "output_type": "stream",
     "text": [
      "[cookies][info] Extracted 2348 cookies from Firefox\n"
     ]
    },
    {
     "name": "stdout",
     "output_type": "stream",
     "text": [
      "./GalDL/Food/3170375581948780212.mp4\n",
      "Food/https://www.instagram.com/reel/CwdOpcmIcLD/\n",
      "Downloading : 313/1811\n",
      "\u001b[H\u001b[2J"
     ]
    },
    {
     "name": "stderr",
     "output_type": "stream",
     "text": [
      "[cookies][info] Extracted 2349 cookies from Firefox\n"
     ]
    },
    {
     "name": "stdout",
     "output_type": "stream",
     "text": [
      "./GalDL/Food/3178761332847657667.mp4\n",
      "Food/https://www.instagram.com/reel/CwkW_EWoSoO/\n",
      "Downloading : 314/1811\n",
      "\u001b[H\u001b[2J"
     ]
    },
    {
     "name": "stderr",
     "output_type": "stream",
     "text": [
      "[cookies][info] Extracted 2349 cookies from Firefox\n"
     ]
    },
    {
     "name": "stdout",
     "output_type": "stream",
     "text": [
      "./GalDL/Food/3180768327855319566.mp4\n",
      "Food/https://www.instagram.com/reel/CwpyyCYrzp7/\n",
      "Downloading : 315/1811\n",
      "\u001b[H\u001b[2J"
     ]
    },
    {
     "name": "stderr",
     "output_type": "stream",
     "text": [
      "[cookies][info] Extracted 2348 cookies from Firefox\n"
     ]
    },
    {
     "name": "stdout",
     "output_type": "stream",
     "text": [
      "./GalDL/Food/3182297952574978683.mp4\n",
      "Food/https://www.instagram.com/reel/CwftfbhOrIp/\n",
      "Downloading : 316/1811\n",
      "\u001b[H\u001b[2J"
     ]
    },
    {
     "name": "stderr",
     "output_type": "stream",
     "text": [
      "[cookies][info] Extracted 2349 cookies from Firefox\n"
     ]
    },
    {
     "name": "stdout",
     "output_type": "stream",
     "text": [
      "./GalDL/Food/3179459933892162089.mp4\n",
      "Food/https://www.instagram.com/reel/CwfJdN_AYS_/\n",
      "Downloading : 317/1811\n",
      "\u001b[H\u001b[2J"
     ]
    },
    {
     "name": "stderr",
     "output_type": "stream",
     "text": [
      "[cookies][info] Extracted 2349 cookies from Firefox\n"
     ]
    },
    {
     "name": "stdout",
     "output_type": "stream",
     "text": [
      "./GalDL/Food/3179301452245992639.mp4\n",
      "Food/https://www.instagram.com/reel/CtJoDmcIiqF/\n",
      "Downloading : 318/1811\n",
      "\u001b[H\u001b[2J"
     ]
    },
    {
     "name": "stderr",
     "output_type": "stream",
     "text": [
      "[cookies][info] Extracted 2348 cookies from Firefox\n"
     ]
    },
    {
     "name": "stdout",
     "output_type": "stream",
     "text": [
      "./GalDL/Food/3119200386223843973.mp4\n",
      "Food/https://www.instagram.com/reel/CtbGIllICaN/\n",
      "Downloading : 319/1811\n",
      "\u001b[H\u001b[2J"
     ]
    },
    {
     "name": "stderr",
     "output_type": "stream",
     "text": [
      "[cookies][info] Extracted 2348 cookies from Firefox\n"
     ]
    },
    {
     "name": "stdout",
     "output_type": "stream",
     "text": [
      "./GalDL/Food/3124117744897762957.mp4\n",
      "Food/https://www.instagram.com/reel/CuKaXBYochE/\n",
      "Downloading : 320/1811\n",
      "\u001b[H\u001b[2J"
     ]
    },
    {
     "name": "stderr",
     "output_type": "stream",
     "text": [
      "[cookies][info] Extracted 2348 cookies from Firefox\n"
     ]
    },
    {
     "name": "stdout",
     "output_type": "stream",
     "text": [
      "./GalDL/Food/3137436021661222980.mp4\n",
      "Food/https://www.instagram.com/reel/CvCyurjATOl/\n",
      "Downloading : 321/1811\n",
      "\u001b[H\u001b[2J"
     ]
    },
    {
     "name": "stderr",
     "output_type": "stream",
     "text": [
      "[cookies][info] Extracted 2348 cookies from Firefox\n"
     ]
    },
    {
     "name": "stdout",
     "output_type": "stream",
     "text": [
      "./GalDL/Food/3153305799292433317.mp4\n",
      "Food/https://www.instagram.com/reel/CvH-gzgA5Oa/\n",
      "Downloading : 322/1811\n",
      "\u001b[H\u001b[2J"
     ]
    },
    {
     "name": "stderr",
     "output_type": "stream",
     "text": [
      "[cookies][info] Extracted 2348 cookies from Firefox\n"
     ]
    },
    {
     "name": "stdout",
     "output_type": "stream",
     "text": [
      "./GalDL/Food/3154764997201204122.mp4\n",
      "Food/https://www.instagram.com/reel/CwfPV1OgaYR/\n",
      "Downloading : 323/1811\n",
      "\u001b[H\u001b[2J"
     ]
    },
    {
     "name": "stderr",
     "output_type": "stream",
     "text": [
      "[cookies][info] Extracted 2349 cookies from Firefox\n"
     ]
    },
    {
     "name": "stdout",
     "output_type": "stream",
     "text": [
      "./GalDL/Food/3179327332905231889.mp4\n",
      "Food/https://www.instagram.com/reel/CuAqm49gMT_/\n",
      "Downloading : 324/1811\n",
      "\u001b[H\u001b[2J"
     ]
    },
    {
     "name": "stderr",
     "output_type": "stream",
     "text": [
      "[cookies][info] Extracted 2349 cookies from Firefox\n"
     ]
    },
    {
     "name": "stdout",
     "output_type": "stream",
     "text": [
      "./GalDL/Food/3134692731104838911.mp4\n",
      "Food/https://www.instagram.com/reel/CurzBwXI6Qd/\n",
      "Downloading : 325/1811\n",
      "\u001b[H\u001b[2J"
     ]
    },
    {
     "name": "stderr",
     "output_type": "stream",
     "text": [
      "[cookies][info] Extracted 2349 cookies from Firefox\n"
     ]
    },
    {
     "name": "stdout",
     "output_type": "stream",
     "text": [
      "./GalDL/Food/3146833185667785757.mp4\n",
      "Food/https://www.instagram.com/reel/Ct5w4Pyo0qb/\n",
      "Downloading : 326/1811\n",
      "\u001b[H\u001b[2J"
     ]
    },
    {
     "name": "stderr",
     "output_type": "stream",
     "text": [
      "[cookies][info] Extracted 2349 cookies from Firefox\n"
     ]
    },
    {
     "name": "stdout",
     "output_type": "stream",
     "text": [
      "./GalDL/Food/3132749987291810459.mp4\n",
      "Food/https://www.instagram.com/reel/CvfKPqotyuv/\n",
      "Downloading : 327/1811\n",
      "\u001b[H\u001b[2J"
     ]
    },
    {
     "name": "stderr",
     "output_type": "stream",
     "text": [
      "[cookies][info] Extracted 2349 cookies from Firefox\n"
     ]
    },
    {
     "name": "stdout",
     "output_type": "stream",
     "text": [
      "./GalDL/Food/3161290520474889135.mp4\n",
      "Food/https://www.instagram.com/reel/Cvh5gW5tFD0/\n",
      "Downloading : 328/1811\n",
      "\u001b[H\u001b[2J"
     ]
    },
    {
     "name": "stderr",
     "output_type": "stream",
     "text": [
      "[cookies][info] Extracted 2349 cookies from Firefox\n"
     ]
    },
    {
     "name": "stdout",
     "output_type": "stream",
     "text": [
      "./GalDL/Food/3162061325655625972.mp4\n",
      "Food/https://www.instagram.com/reel/CuHM4RJqGMS/\n",
      "Downloading : 329/1811\n",
      "\u001b[H\u001b[2J"
     ]
    },
    {
     "name": "stderr",
     "output_type": "stream",
     "text": [
      "[cookies][info] Extracted 2349 cookies from Firefox\n"
     ]
    },
    {
     "name": "stdout",
     "output_type": "stream",
     "text": [
      "./GalDL/Food/3136532308751311634.mp4\n",
      "Food/https://www.instagram.com/reel/CupYUXbAmHQ/\n",
      "Downloading : 330/1811\n",
      "\u001b[H\u001b[2J"
     ]
    },
    {
     "name": "stderr",
     "output_type": "stream",
     "text": [
      "[cookies][info] Extracted 2348 cookies from Firefox\n"
     ]
    },
    {
     "name": "stdout",
     "output_type": "stream",
     "text": [
      "./GalDL/Food/3146152767350006224.mp4\n",
      "Food/https://www.instagram.com/reel/Cv9z3P5oa0W/\n",
      "Downloading : 331/1811\n",
      "\u001b[H\u001b[2J"
     ]
    },
    {
     "name": "stderr",
     "output_type": "stream",
     "text": [
      "[cookies][info] Extracted 2348 cookies from Firefox\n"
     ]
    },
    {
     "name": "stdout",
     "output_type": "stream",
     "text": [
      "./GalDL/Food/3169917809755008278.mp4\n",
      "Food/https://www.instagram.com/reel/CwEWvadqRBI/\n",
      "Downloading : 332/1811\n",
      "\u001b[H\u001b[2J"
     ]
    },
    {
     "name": "stderr",
     "output_type": "stream",
     "text": [
      "[cookies][info] Extracted 2348 cookies from Firefox\n"
     ]
    },
    {
     "name": "stdout",
     "output_type": "stream",
     "text": [
      "./GalDL/Food/3171760052829229128.mp4\n",
      "Food/https://www.instagram.com/reel/CwDsXbbIEk2/\n",
      "Downloading : 333/1811\n",
      "\u001b[H\u001b[2J"
     ]
    },
    {
     "name": "stderr",
     "output_type": "stream",
     "text": [
      "[cookies][info] Extracted 2349 cookies from Firefox\n"
     ]
    },
    {
     "name": "stdout",
     "output_type": "stream",
     "text": [
      "./GalDL/Food/3171573686639544630.mp4\n",
      "Food/https://www.instagram.com/reel/CwMu056I7GA/\n",
      "Downloading : 334/1811\n",
      "\u001b[H\u001b[2J"
     ]
    },
    {
     "name": "stderr",
     "output_type": "stream",
     "text": [
      "[cookies][info] Extracted 2349 cookies from Firefox\n"
     ]
    },
    {
     "name": "stdout",
     "output_type": "stream",
     "text": [
      "./GalDL/Food/3174117783120359808.mp4\n",
      "Food/https://www.instagram.com/reel/CwFRBcUJaMd/\n",
      "Downloading : 335/1811\n",
      "\u001b[H\u001b[2J"
     ]
    },
    {
     "name": "stderr",
     "output_type": "stream",
     "text": [
      "[cookies][info] Extracted 2349 cookies from Firefox\n"
     ]
    },
    {
     "name": "stdout",
     "output_type": "stream",
     "text": [
      "./GalDL/Food/3172016378465329949.mp4\n",
      "Food/https://www.instagram.com/reel/CtvcATRgnzA/\n",
      "Downloading : 336/1811\n",
      "\u001b[H\u001b[2J"
     ]
    },
    {
     "name": "stderr",
     "output_type": "stream",
     "text": [
      "[cookies][info] Extracted 2349 cookies from Firefox\n"
     ]
    },
    {
     "name": "stdout",
     "output_type": "stream",
     "text": [
      "./GalDL/Food/3129843432042953920.mp4\n",
      "Food/https://www.instagram.com/reel/CvEhNytgM1W/\n",
      "Downloading : 337/1811\n",
      "\u001b[H\u001b[2J"
     ]
    },
    {
     "name": "stderr",
     "output_type": "stream",
     "text": [
      "[cookies][info] Extracted 2349 cookies from Firefox\n"
     ]
    },
    {
     "name": "stdout",
     "output_type": "stream",
     "text": [
      "./GalDL/Food/3153791722404760918.mp4\n",
      "Food/https://www.instagram.com/reel/CtuM5T_NXhJ/\n",
      "Downloading : 338/1811\n",
      "\u001b[H\u001b[2J"
     ]
    },
    {
     "name": "stderr",
     "output_type": "stream",
     "text": [
      "[cookies][info] Extracted 2349 cookies from Firefox\n"
     ]
    },
    {
     "name": "stdout",
     "output_type": "stream",
     "text": [
      "./GalDL/Food/3129495506098944073.mp4\n",
      "Food/https://www.instagram.com/reel/CvceY4xIxTo/\n",
      "Downloading : 339/1811\n",
      "\u001b[H\u001b[2J"
     ]
    },
    {
     "name": "stderr",
     "output_type": "stream",
     "text": [
      "[cookies][info] Extracted 2349 cookies from Firefox\n"
     ]
    },
    {
     "name": "stdout",
     "output_type": "stream",
     "text": [
      "./GalDL/Food/3160534690123945192.mp4\n",
      "Food/https://www.instagram.com/reel/CvmVXZNIpg-/\n",
      "Downloading : 340/1811\n",
      "\u001b[H\u001b[2J"
     ]
    },
    {
     "name": "stderr",
     "output_type": "stream",
     "text": [
      "[cookies][info] Extracted 2349 cookies from Firefox\n"
     ]
    },
    {
     "name": "stdout",
     "output_type": "stream",
     "text": [
      "./GalDL/Food/3163309754862966846.mp4\n",
      "Food/https://www.instagram.com/reel/Cv4gXDgu7mn/\n",
      "Downloading : 341/1811\n",
      "\u001b[H\u001b[2J"
     ]
    },
    {
     "name": "stderr",
     "output_type": "stream",
     "text": [
      "[cookies][info] Extracted 2348 cookies from Firefox\n"
     ]
    },
    {
     "name": "stdout",
     "output_type": "stream",
     "text": [
      "./GalDL/Food/3168424659661863335.mp4\n",
      "Food/https://www.instagram.com/p/Cv9N51dPA4h/\n",
      "Downloading : 342/1811\n",
      "\u001b[H\u001b[2J"
     ]
    },
    {
     "name": "stderr",
     "output_type": "stream",
     "text": [
      "[cookies][info] Extracted 2348 cookies from Firefox\n"
     ]
    },
    {
     "name": "stdout",
     "output_type": "stream",
     "text": [
      "./GalDL/Food/3169750861752307233_3169750296859529414.mp4\n",
      "./GalDL/Food/3169750861752307233_3169750856350048131.jpg\n",
      "Food/https://www.instagram.com/reel/Ct6pLRPopqe/\n",
      "Downloading : 343/1811\n",
      "\u001b[H\u001b[2J"
     ]
    },
    {
     "name": "stderr",
     "output_type": "stream",
     "text": [
      "[cookies][info] Extracted 2348 cookies from Firefox\n"
     ]
    },
    {
     "name": "stdout",
     "output_type": "stream",
     "text": [
      "./GalDL/Food/3132997585126726302.mp4\n",
      "Food/https://www.instagram.com/p/CwJ-x92y1l7/\n",
      "Downloading : 344/1811\n",
      "\u001b[H\u001b[2J"
     ]
    },
    {
     "name": "stderr",
     "output_type": "stream",
     "text": [
      "[cookies][info] Extracted 2349 cookies from Firefox\n"
     ]
    },
    {
     "name": "stdout",
     "output_type": "stream",
     "text": [
      "./GalDL/Food/3173343525014821243_3173342402835152174.mp4\n",
      "./GalDL/Food/3173343525014821243_3173342571144275959.mp4\n",
      "./GalDL/Food/3173343525014821243_3173342834890475489.mp4\n",
      "./GalDL/Food/3173343525014821243_3173343067063537098.mp4\n",
      "./GalDL/Food/3173343525014821243_3173343358926937238.mp4\n",
      "Food/https://www.instagram.com/reel/CtUw0HGARIf/\n",
      "Downloading : 345/1811\n",
      "\u001b[H\u001b[2J"
     ]
    },
    {
     "name": "stderr",
     "output_type": "stream",
     "text": [
      "[cookies][info] Extracted 2349 cookies from Firefox\n"
     ]
    },
    {
     "name": "stdout",
     "output_type": "stream",
     "text": [
      "./GalDL/Food/3122335128936845855.mp4\n",
      "Food/https://www.instagram.com/reel/CwGGSybpi6b/\n",
      "Downloading : 346/1811\n",
      "\u001b[H\u001b[2J"
     ]
    },
    {
     "name": "stderr",
     "output_type": "stream",
     "text": [
      "[cookies][info] Extracted 2349 cookies from Firefox\n"
     ]
    },
    {
     "name": "stdout",
     "output_type": "stream",
     "text": [
      "./GalDL/Food/3172250666909707931.mp4\n",
      "Food/https://www.instagram.com/reel/CuiAWu5A2B6/\n",
      "Downloading : 347/1811\n",
      "\u001b[H\u001b[2J"
     ]
    },
    {
     "name": "stderr",
     "output_type": "stream",
     "text": [
      "[cookies][info] Extracted 2349 cookies from Firefox\n"
     ]
    },
    {
     "name": "stdout",
     "output_type": "stream",
     "text": [
      "./GalDL/Food/3144077052035162234.mp4\n",
      "Food/https://www.instagram.com/reel/Cu1VTPBozT9/\n",
      "Downloading : 348/1811\n",
      "\u001b[H\u001b[2J"
     ]
    },
    {
     "name": "stderr",
     "output_type": "stream",
     "text": [
      "[cookies][info] Extracted 2349 cookies from Firefox\n"
     ]
    },
    {
     "name": "stdout",
     "output_type": "stream",
     "text": [
      "./GalDL/Food/3149517195195921661.mp4\n",
      "Food/https://www.instagram.com/reel/CvpVV69I6uQ/\n",
      "Downloading : 349/1811\n",
      "\u001b[H\u001b[2J"
     ]
    },
    {
     "name": "stderr",
     "output_type": "stream",
     "text": [
      "[cookies][info] Extracted 2349 cookies from Firefox\n"
     ]
    },
    {
     "name": "stdout",
     "output_type": "stream",
     "text": [
      "./GalDL/Food/3164154078593002384.mp4\n",
      "Food/https://www.instagram.com/reel/CvetL09o9I-/\n",
      "Downloading : 350/1811\n",
      "\u001b[H\u001b[2J"
     ]
    },
    {
     "name": "stderr",
     "output_type": "stream",
     "text": [
      "[cookies][info] Extracted 2349 cookies from Firefox\n"
     ]
    },
    {
     "name": "stdout",
     "output_type": "stream",
     "text": [
      "./GalDL/Food/3161162713336631870.mp4\n",
      "Food/https://www.instagram.com/reel/CwJ8pQOJ3ME/\n",
      "Downloading : 351/1811\n",
      "\u001b[H\u001b[2J"
     ]
    },
    {
     "name": "stderr",
     "output_type": "stream",
     "text": [
      "[cookies][info] Extracted 2349 cookies from Firefox\n"
     ]
    },
    {
     "name": "stdout",
     "output_type": "stream",
     "text": [
      "./GalDL/Food/3173334130165773060.mp4\n",
      "Food/https://www.instagram.com/reel/Cv50t52ttZs/\n",
      "Downloading : 352/1811\n",
      "\u001b[H\u001b[2J"
     ]
    },
    {
     "name": "stderr",
     "output_type": "stream",
     "text": [
      "[cookies][info] Extracted 2349 cookies from Firefox\n"
     ]
    },
    {
     "name": "stdout",
     "output_type": "stream",
     "text": [
      "./GalDL/Food/3168795665748121196.mp4\n",
      "Food/https://www.instagram.com/reel/Cv4QMS4IT1R/\n",
      "Downloading : 353/1811\n",
      "\u001b[H\u001b[2J"
     ]
    },
    {
     "name": "stderr",
     "output_type": "stream",
     "text": [
      "[cookies][info] Extracted 2349 cookies from Firefox\n"
     ]
    },
    {
     "name": "stdout",
     "output_type": "stream",
     "text": [
      "./GalDL/Food/3168353551502097745.mp4\n",
      "Food/https://www.instagram.com/reel/CwGEbWbLSUI/\n",
      "Downloading : 354/1811\n",
      "\u001b[H\u001b[2J"
     ]
    },
    {
     "name": "stderr",
     "output_type": "stream",
     "text": [
      "[cookies][info] Extracted 2349 cookies from Firefox\n"
     ]
    },
    {
     "name": "stdout",
     "output_type": "stream",
     "text": [
      "./GalDL/Food/3172242459219272968.mp4\n",
      "Food/https://www.instagram.com/p/Cv_1nH9gpTl/\n",
      "Downloading : 355/1811\n",
      "\u001b[H\u001b[2J"
     ]
    },
    {
     "name": "stderr",
     "output_type": "stream",
     "text": [
      "[cookies][info] Extracted 2349 cookies from Firefox\n"
     ]
    },
    {
     "name": "stdout",
     "output_type": "stream",
     "text": [
      "./GalDL/Food/3170488447764960485_3170487761215997663.mp4\n",
      "./GalDL/Food/3170488447764960485_3170488053525608580.mp4\n",
      "./GalDL/Food/3170488447764960485_3170488278256380611.mp4\n",
      "Food/https://www.instagram.com/reel/CwDWot4MHKW/\n",
      "Downloading : 356/1811\n",
      "\u001b[H\u001b[2J"
     ]
    },
    {
     "name": "stderr",
     "output_type": "stream",
     "text": [
      "[cookies][info] Extracted 2349 cookies from Firefox\n"
     ]
    },
    {
     "name": "stdout",
     "output_type": "stream",
     "text": [
      "./GalDL/Food/3171478117662356118.mp4\n",
      "Food/https://www.instagram.com/reel/CuAeln9RY8b/\n",
      "Downloading : 357/1811\n",
      "\u001b[H\u001b[2J"
     ]
    },
    {
     "name": "stderr",
     "output_type": "stream",
     "text": [
      "[cookies][info] Extracted 2349 cookies from Firefox\n"
     ]
    },
    {
     "name": "stdout",
     "output_type": "stream",
     "text": [
      "./GalDL/Food/3134639867569737499.mp4\n",
      "Food/https://www.instagram.com/reel/CuGrZugo39l/\n",
      "Downloading : 358/1811\n",
      "\u001b[H\u001b[2J"
     ]
    },
    {
     "name": "stderr",
     "output_type": "stream",
     "text": [
      "[cookies][info] Extracted 2349 cookies from Firefox\n"
     ]
    },
    {
     "name": "stdout",
     "output_type": "stream",
     "text": [
      "./GalDL/Food/3136385074436734821.mp4\n",
      "Food/https://www.instagram.com/reel/CuHJy5jsB3x/\n",
      "Downloading : 359/1811\n",
      "\u001b[H\u001b[2J"
     ]
    },
    {
     "name": "stderr",
     "output_type": "stream",
     "text": [
      "[cookies][info] Extracted 2349 cookies from Firefox\n"
     ]
    },
    {
     "name": "stdout",
     "output_type": "stream",
     "text": [
      "./GalDL/Food/3136518745681305073.mp4\n",
      "Food/https://www.instagram.com/reel/Cv4lXxMg4zW/\n",
      "Downloading : 360/1811\n",
      "\u001b[H\u001b[2J"
     ]
    },
    {
     "name": "stderr",
     "output_type": "stream",
     "text": [
      "[cookies][info] Extracted 2349 cookies from Firefox\n"
     ]
    },
    {
     "name": "stdout",
     "output_type": "stream",
     "text": [
      "./GalDL/Food/3168446698947316950.mp4\n",
      "Food/https://www.instagram.com/reel/CuWw7hSpl1g/\n",
      "Downloading : 361/1811\n",
      "\u001b[H\u001b[2J"
     ]
    },
    {
     "name": "stderr",
     "output_type": "stream",
     "text": [
      "[cookies][info] Extracted 2349 cookies from Firefox\n"
     ]
    },
    {
     "name": "stdout",
     "output_type": "stream",
     "text": [
      "./GalDL/Food/3140912986565533024.mp4\n",
      "Food/https://www.instagram.com/reel/CvP0VR_gBOW/\n",
      "Downloading : 362/1811\n",
      "\u001b[H\u001b[2J"
     ]
    },
    {
     "name": "stderr",
     "output_type": "stream",
     "text": [
      "[cookies][info] Extracted 2349 cookies from Firefox\n"
     ]
    },
    {
     "name": "stdout",
     "output_type": "stream",
     "text": [
      "./GalDL/Food/3156972024656565142.mp4\n",
      "Food/https://www.instagram.com/p/Cvq_WOIMTwI/\n",
      "Downloading : 363/1811\n",
      "\u001b[H\u001b[2J"
     ]
    },
    {
     "name": "stderr",
     "output_type": "stream",
     "text": [
      "[cookies][info] Extracted 2349 cookies from Firefox\n"
     ]
    },
    {
     "name": "stdout",
     "output_type": "stream",
     "text": [
      "./GalDL/Food/3164620292109712392_3164618450970186955.mp4\n",
      "./GalDL/Food/3164620292109712392_3164620287051305199.jpg\n",
      "Food/https://www.instagram.com/reel/Cu4iq3eAt0J/\n",
      "Downloading : 364/1811\n",
      "\u001b[H\u001b[2J"
     ]
    },
    {
     "name": "stderr",
     "output_type": "stream",
     "text": [
      "[cookies][info] Extracted 2349 cookies from Firefox\n"
     ]
    },
    {
     "name": "stdout",
     "output_type": "stream",
     "text": [
      "./GalDL/Food/3150420418704366857.mp4\n",
      "Food/https://www.instagram.com/reel/CvPDwEIIC73/\n",
      "Downloading : 365/1811\n",
      "\u001b[H\u001b[2J"
     ]
    },
    {
     "name": "stderr",
     "output_type": "stream",
     "text": [
      "[cookies][info] Extracted 2349 cookies from Firefox\n"
     ]
    },
    {
     "name": "stdout",
     "output_type": "stream",
     "text": [
      "./GalDL/Food/3156758360915717879.mp4\n",
      "Food/https://www.instagram.com/reel/Cu4rxxmuxf8/\n",
      "Downloading : 366/1811\n",
      "\u001b[H\u001b[2J"
     ]
    },
    {
     "name": "stderr",
     "output_type": "stream",
     "text": [
      "[cookies][info] Extracted 2349 cookies from Firefox\n"
     ]
    },
    {
     "name": "stdout",
     "output_type": "stream",
     "text": [
      "./GalDL/Food/3150460475863144444.mp4\n",
      "Food/https://www.instagram.com/reel/CvhPNS5tubu/\n",
      "Downloading : 367/1811\n",
      "\u001b[H\u001b[2J"
     ]
    },
    {
     "name": "stderr",
     "output_type": "stream",
     "text": [
      "[cookies][info] Extracted 2348 cookies from Firefox\n"
     ]
    },
    {
     "name": "stdout",
     "output_type": "stream",
     "text": [
      "./GalDL/Food/3161875297737303790.mp4\n",
      "Food/https://www.instagram.com/reel/CunlnpxLrEC/\n",
      "Downloading : 368/1811\n",
      "\u001b[H\u001b[2J"
     ]
    },
    {
     "name": "stderr",
     "output_type": "stream",
     "text": [
      "[cookies][info] Extracted 2348 cookies from Firefox\n"
     ]
    },
    {
     "name": "stdout",
     "output_type": "stream",
     "text": [
      "./GalDL/Food/3145648317370642690.mp4\n",
      "Food/https://www.instagram.com/reel/CvcdYK9A6O8/\n",
      "Downloading : 369/1811\n",
      "\u001b[H\u001b[2J"
     ]
    },
    {
     "name": "stderr",
     "output_type": "stream",
     "text": [
      "[cookies][info] Extracted 2348 cookies from Firefox\n"
     ]
    },
    {
     "name": "stdout",
     "output_type": "stream",
     "text": [
      "./GalDL/Food/3160530242884576188.mp4\n",
      "Food/https://www.instagram.com/reel/CvFNt86hj72/\n",
      "Downloading : 370/1811\n",
      "\u001b[H\u001b[2J"
     ]
    },
    {
     "name": "stderr",
     "output_type": "stream",
     "text": [
      "[cookies][info] Extracted 2348 cookies from Firefox\n"
     ]
    },
    {
     "name": "stdout",
     "output_type": "stream",
     "text": [
      "./GalDL/Food/3153987446430383862.mp4\n",
      "Food/https://www.instagram.com/reel/Cu10uViMyCs/\n",
      "Downloading : 371/1811\n",
      "\u001b[H\u001b[2J"
     ]
    },
    {
     "name": "stderr",
     "output_type": "stream",
     "text": [
      "[cookies][info] Extracted 2348 cookies from Firefox\n"
     ]
    },
    {
     "name": "stdout",
     "output_type": "stream",
     "text": [
      "./GalDL/Food/3149655397052391596.mp4\n",
      "Food/https://www.instagram.com/reel/Cu0ur0KLc0x/\n",
      "Downloading : 372/1811\n",
      "\u001b[H\u001b[2J"
     ]
    },
    {
     "name": "stderr",
     "output_type": "stream",
     "text": [
      "[cookies][info] Extracted 2348 cookies from Firefox\n"
     ]
    },
    {
     "name": "stdout",
     "output_type": "stream",
     "text": [
      "./GalDL/Food/3149347360521178417.mp4\n",
      "Food/https://www.instagram.com/reel/CucfEurAwk7/\n",
      "Downloading : 373/1811\n",
      "\u001b[H\u001b[2J"
     ]
    },
    {
     "name": "stderr",
     "output_type": "stream",
     "text": [
      "[cookies][info] Extracted 2348 cookies from Firefox\n"
     ]
    },
    {
     "name": "stdout",
     "output_type": "stream",
     "text": [
      "./GalDL/Food/3142523304431257915.mp4\n",
      "Food/https://www.instagram.com/reel/CuW_wPXpdII/\n",
      "Downloading : 374/1811\n",
      "\u001b[H\u001b[2J"
     ]
    },
    {
     "name": "stderr",
     "output_type": "stream",
     "text": [
      "[cookies][info] Extracted 2349 cookies from Firefox\n"
     ]
    },
    {
     "name": "stdout",
     "output_type": "stream",
     "text": [
      "./GalDL/Food/3140978182105453064.mp4\n",
      "Food/https://www.instagram.com/reel/CsWUeKCMu-n/\n",
      "Downloading : 375/1811\n",
      "\u001b[H\u001b[2J"
     ]
    },
    {
     "name": "stderr",
     "output_type": "stream",
     "text": [
      "[cookies][info] Extracted 2349 cookies from Firefox\n"
     ]
    },
    {
     "name": "stdout",
     "output_type": "stream",
     "text": [
      "./GalDL/Food/3104759026407370663.mp4\n",
      "Food/https://www.instagram.com/reel/CrSW6r7AAnB/\n",
      "Downloading : 376/1811\n",
      "\u001b[H\u001b[2J"
     ]
    },
    {
     "name": "stderr",
     "output_type": "stream",
     "text": [
      "[cookies][info] Extracted 2349 cookies from Firefox\n"
     ]
    },
    {
     "name": "stdout",
     "output_type": "stream",
     "text": [
      "./GalDL/Food/3085629484615862721.mp4\n",
      "Food/https://www.instagram.com/reel/CsaSDj7rdqp/\n",
      "Downloading : 377/1811\n",
      "\u001b[H\u001b[2J"
     ]
    },
    {
     "name": "stderr",
     "output_type": "stream",
     "text": [
      "[cookies][info] Extracted 2349 cookies from Firefox\n"
     ]
    },
    {
     "name": "stdout",
     "output_type": "stream",
     "text": [
      "./GalDL/Food/3105874302603221673.mp4\n",
      "Food/https://www.instagram.com/reel/CtcikPDNUo_/\n",
      "Downloading : 378/1811\n",
      "\u001b[H\u001b[2J"
     ]
    },
    {
     "name": "stderr",
     "output_type": "stream",
     "text": [
      "[cookies][info] Extracted 2349 cookies from Firefox\n"
     ]
    },
    {
     "name": "stdout",
     "output_type": "stream",
     "text": [
      "./GalDL/Food/3124524265130773055.mp4\n",
      "Job/https://www.instagram.com/reel/C1tlZ9CoK3F/\n",
      "Downloading : 379/1811\n",
      "\u001b[H\u001b[2J"
     ]
    },
    {
     "name": "stderr",
     "output_type": "stream",
     "text": [
      "[cookies][info] Extracted 2348 cookies from Firefox\n"
     ]
    },
    {
     "name": "stdout",
     "output_type": "stream",
     "text": [
      "./GalDL/Job/3273437015418383813.mp4\n",
      "Job/https://www.instagram.com/reel/C235flcujce/\n",
      "Downloading : 380/1811\n",
      "\u001b[H\u001b[2J"
     ]
    },
    {
     "name": "stderr",
     "output_type": "stream",
     "text": [
      "[cookies][info] Extracted 2348 cookies from Firefox\n"
     ]
    },
    {
     "name": "stdout",
     "output_type": "stream",
     "text": [
      "./GalDL/Job/3294354511610132254.mp4\n",
      "Job/https://www.instagram.com/reel/C24jUkyvlfF/\n",
      "Downloading : 381/1811\n",
      "\u001b[H\u001b[2J"
     ]
    },
    {
     "name": "stderr",
     "output_type": "stream",
     "text": [
      "[cookies][info] Extracted 2349 cookies from Firefox\n"
     ]
    },
    {
     "name": "stdout",
     "output_type": "stream",
     "text": [
      "./GalDL/Job/3294538472944981957.mp4\n",
      "Job/https://www.instagram.com/reel/C114f0PsqjQ/\n",
      "Downloading : 382/1811\n",
      "\u001b[H\u001b[2J"
     ]
    },
    {
     "name": "stderr",
     "output_type": "stream",
     "text": [
      "[cookies][info] Extracted 2349 cookies from Firefox\n"
     ]
    },
    {
     "name": "stdout",
     "output_type": "stream",
     "text": [
      "./GalDL/Job/3275772780988246224.mp4\n",
      "Job/https://www.instagram.com/p/C2-UFrtP2Vm/\n",
      "Downloading : 383/1811\n",
      "\u001b[H\u001b[2J"
     ]
    },
    {
     "name": "stderr",
     "output_type": "stream",
     "text": [
      "[cookies][info] Extracted 2349 cookies from Firefox\n"
     ]
    },
    {
     "name": "stdout",
     "output_type": "stream",
     "text": [
      "./GalDL/Job/3296160328739415398.jpg\n",
      "Job/https://www.instagram.com/reel/C2zF5PfotSb/\n",
      "Downloading : 384/1811\n",
      "\u001b[H\u001b[2J"
     ]
    },
    {
     "name": "stderr",
     "output_type": "stream",
     "text": [
      "[cookies][info] Extracted 2349 cookies from Firefox\n"
     ]
    },
    {
     "name": "stdout",
     "output_type": "stream",
     "text": [
      "./GalDL/Job/3293001676417586331.mp4\n",
      "Job/https://www.instagram.com/reel/C1qawhwO6Xr/\n",
      "Downloading : 385/1811\n",
      "\u001b[H\u001b[2J"
     ]
    },
    {
     "name": "stderr",
     "output_type": "stream",
     "text": [
      "[cookies][info] Extracted 2349 cookies from Firefox\n"
     ]
    },
    {
     "name": "stdout",
     "output_type": "stream",
     "text": [
      "./GalDL/Job/3272545763224954347.mp4\n",
      "Job/https://www.instagram.com/reel/C2zn_ZNgY6K/\n",
      "Downloading : 386/1811\n",
      "\u001b[H\u001b[2J"
     ]
    },
    {
     "name": "stderr",
     "output_type": "stream",
     "text": [
      "[cookies][info] Extracted 2349 cookies from Firefox\n"
     ]
    },
    {
     "name": "stdout",
     "output_type": "stream",
     "text": [
      "./GalDL/Job/3293151632749072010.mp4\n",
      "Job/https://www.instagram.com/reel/C1ezH5hoQce/\n",
      "Downloading : 387/1811\n",
      "\u001b[H\u001b[2J"
     ]
    },
    {
     "name": "stderr",
     "output_type": "stream",
     "text": [
      "[cookies][info] Extracted 2348 cookies from Firefox\n"
     ]
    },
    {
     "name": "stdout",
     "output_type": "stream",
     "text": [
      "./GalDL/Job/3269275222693447454.mp4\n",
      "Job/https://www.instagram.com/reel/C1lN2alvwIq/\n",
      "Downloading : 388/1811\n",
      "\u001b[H\u001b[2J"
     ]
    },
    {
     "name": "stderr",
     "output_type": "stream",
     "text": [
      "[cookies][info] Extracted 2349 cookies from Firefox\n"
     ]
    },
    {
     "name": "stdout",
     "output_type": "stream",
     "text": [
      "./GalDL/Job/3271081618361483818.mp4\n",
      "Job/https://www.instagram.com/reel/C2aRBa-L7At/\n",
      "Downloading : 389/1811\n",
      "\u001b[H\u001b[2J"
     ]
    },
    {
     "name": "stderr",
     "output_type": "stream",
     "text": [
      "[cookies][info] Extracted 2349 cookies from Firefox\n"
     ]
    },
    {
     "name": "stdout",
     "output_type": "stream",
     "text": [
      "./GalDL/Job/3286013742590963757.mp4\n",
      "Job/https://www.instagram.com/reel/C1pu14BP8HH/\n",
      "Downloading : 390/1811\n",
      "\u001b[H\u001b[2J"
     ]
    },
    {
     "name": "stderr",
     "output_type": "stream",
     "text": [
      "[cookies][info] Extracted 2349 cookies from Firefox\n"
     ]
    },
    {
     "name": "stdout",
     "output_type": "stream",
     "text": [
      "./GalDL/Job/3272352616683651527.mp4\n",
      "Job/https://www.instagram.com/reel/C2nCWHiLFFX/\n",
      "Downloading : 391/1811\n",
      "\u001b[H\u001b[2J"
     ]
    },
    {
     "name": "stderr",
     "output_type": "stream",
     "text": [
      "[cookies][info] Extracted 2349 cookies from Firefox\n"
     ]
    },
    {
     "name": "stdout",
     "output_type": "stream",
     "text": [
      "./GalDL/Job/3289608368828469591.mp4\n",
      "Job/https://www.instagram.com/reel/C2fkzQ3PoDB/\n",
      "Downloading : 392/1811\n",
      "\u001b[H\u001b[2J"
     ]
    },
    {
     "name": "stderr",
     "output_type": "stream",
     "text": [
      "[cookies][info] Extracted 2349 cookies from Firefox\n"
     ]
    },
    {
     "name": "stdout",
     "output_type": "stream",
     "text": [
      "./GalDL/Job/3287508105478176961.mp4\n",
      "Job/https://www.instagram.com/reel/C2fKn0lPrED/\n",
      "Downloading : 393/1811\n",
      "\u001b[H\u001b[2J"
     ]
    },
    {
     "name": "stderr",
     "output_type": "stream",
     "text": [
      "[cookies][info] Extracted 2349 cookies from Firefox\n"
     ]
    },
    {
     "name": "stdout",
     "output_type": "stream",
     "text": [
      "./GalDL/Job/3287392969987895555.mp4\n",
      "Job/https://www.instagram.com/reel/C13SoyRu720/\n",
      "Downloading : 394/1811\n",
      "\u001b[H\u001b[2J"
     ]
    },
    {
     "name": "stderr",
     "output_type": "stream",
     "text": [
      "[cookies][info] Extracted 2349 cookies from Firefox\n"
     ]
    },
    {
     "name": "stdout",
     "output_type": "stream",
     "text": [
      "./GalDL/Job/3276169221536202164.mp4\n",
      "Job/https://www.instagram.com/reel/Cz7vcTFN3sZ/\n",
      "Downloading : 395/1811\n",
      "\u001b[H\u001b[2J"
     ]
    },
    {
     "name": "stderr",
     "output_type": "stream",
     "text": [
      "[cookies][info] Extracted 2349 cookies from Firefox\n"
     ]
    },
    {
     "name": "stdout",
     "output_type": "stream",
     "text": [
      "./GalDL/Job/3241393009643191065.mp4\n",
      "Job/https://www.instagram.com/reel/C2IKFrORmks/\n",
      "Downloading : 396/1811\n",
      "\u001b[H\u001b[2J"
     ]
    },
    {
     "name": "stderr",
     "output_type": "stream",
     "text": [
      "[cookies][info] Extracted 2349 cookies from Firefox\n"
     ]
    },
    {
     "name": "stdout",
     "output_type": "stream",
     "text": [
      "./GalDL/Job/3280916699012294956.mp4\n",
      "Job/https://www.instagram.com/reel/C2EGKZZshfc/\n",
      "Downloading : 397/1811\n",
      "\u001b[H\u001b[2J"
     ]
    },
    {
     "name": "stderr",
     "output_type": "stream",
     "text": [
      "[cookies][info] Extracted 2349 cookies from Firefox\n"
     ]
    },
    {
     "name": "stdout",
     "output_type": "stream",
     "text": [
      "./GalDL/Job/3279773531381045212.mp4\n",
      "Job/https://www.instagram.com/reel/C2r7xjKPLqb/\n",
      "Downloading : 398/1811\n",
      "\u001b[H\u001b[2J"
     ]
    },
    {
     "name": "stderr",
     "output_type": "stream",
     "text": [
      "[cookies][info] Extracted 2349 cookies from Firefox\n"
     ]
    },
    {
     "name": "stdout",
     "output_type": "stream",
     "text": [
      "./GalDL/Job/3290986842475510427.mp4\n",
      "Job/https://www.instagram.com/reel/C15v2CpLQNB/\n",
      "Downloading : 399/1811\n",
      "\u001b[H\u001b[2J"
     ]
    },
    {
     "name": "stderr",
     "output_type": "stream",
     "text": [
      "[cookies][info] Extracted 2349 cookies from Firefox\n"
     ]
    },
    {
     "name": "stdout",
     "output_type": "stream",
     "text": [
      "./GalDL/Job/3276860625764811585.mp4\n",
      "Job/https://www.instagram.com/reel/C0xQplzrzv-/\n",
      "Downloading : 400/1811\n",
      "\u001b[H\u001b[2J"
     ]
    },
    {
     "name": "stderr",
     "output_type": "stream",
     "text": [
      "[cookies][info] Extracted 2348 cookies from Firefox\n"
     ]
    },
    {
     "name": "stdout",
     "output_type": "stream",
     "text": [
      "./GalDL/Job/3256457232403872766.mp4\n",
      "Job/https://www.instagram.com/reel/C1xvZ-qv992/\n",
      "Downloading : 401/1811\n",
      "\u001b[H\u001b[2J"
     ]
    },
    {
     "name": "stderr",
     "output_type": "stream",
     "text": [
      "[cookies][info] Extracted 2348 cookies from Firefox\n"
     ]
    },
    {
     "name": "stdout",
     "output_type": "stream",
     "text": [
      "./GalDL/Job/3274606897537212278.mp4\n",
      "Job/https://www.instagram.com/reel/C2M5MoqBUHe/\n",
      "Downloading : 402/1811\n",
      "\u001b[H\u001b[2J"
     ]
    },
    {
     "name": "stderr",
     "output_type": "stream",
     "text": [
      "[cookies][info] Extracted 2349 cookies from Firefox\n"
     ]
    },
    {
     "name": "stdout",
     "output_type": "stream",
     "text": [
      "./GalDL/Job/3282249785385763294.mp4\n",
      "Job/https://www.instagram.com/reel/C10wTzDLhHz/\n",
      "Downloading : 403/1811\n",
      "\u001b[H\u001b[2J"
     ]
    },
    {
     "name": "stderr",
     "output_type": "stream",
     "text": [
      "[cookies][info] Extracted 2349 cookies from Firefox\n"
     ]
    },
    {
     "name": "stdout",
     "output_type": "stream",
     "text": [
      "./GalDL/Job/3275455295721968115.mp4\n",
      "Job/https://www.instagram.com/reel/C2j-zq7JKej/\n",
      "Downloading : 404/1811\n",
      "\u001b[H\u001b[2J"
     ]
    },
    {
     "name": "stderr",
     "output_type": "stream",
     "text": [
      "[cookies][info] Extracted 2349 cookies from Firefox\n"
     ]
    },
    {
     "name": "stdout",
     "output_type": "stream",
     "text": [
      "./GalDL/Job/3288748382577010595.mp4\n",
      "Job/https://www.instagram.com/reel/Cz2xO9lO_oD/\n",
      "Downloading : 405/1811\n",
      "\u001b[H\u001b[2J"
     ]
    },
    {
     "name": "stderr",
     "output_type": "stream",
     "text": [
      "[cookies][info] Extracted 2349 cookies from Firefox\n"
     ]
    },
    {
     "name": "stdout",
     "output_type": "stream",
     "text": [
      "./GalDL/Job/3239993514414307843.mp4\n",
      "Job/https://www.instagram.com/reel/Czoum-DApat/\n",
      "Downloading : 406/1811\n",
      "\u001b[H\u001b[2J"
     ]
    },
    {
     "name": "stderr",
     "output_type": "stream",
     "text": [
      "[cookies][info] Extracted 2349 cookies from Firefox\n"
     ]
    },
    {
     "name": "stdout",
     "output_type": "stream",
     "text": [
      "./GalDL/Job/3236041320367822509.mp4\n",
      "Job/https://www.instagram.com/reel/C2uPcoFoK8R/\n",
      "Downloading : 407/1811\n",
      "\u001b[H\u001b[2J"
     ]
    },
    {
     "name": "stderr",
     "output_type": "stream",
     "text": [
      "[cookies][info] Extracted 2349 cookies from Firefox\n"
     ]
    },
    {
     "name": "stdout",
     "output_type": "stream",
     "text": [
      "./GalDL/Job/3291636315541516049.mp4\n",
      "Job/https://www.instagram.com/reel/C2XYJW7Mazd/\n",
      "Downloading : 408/1811\n",
      "\u001b[H\u001b[2J"
     ]
    },
    {
     "name": "stderr",
     "output_type": "stream",
     "text": [
      "[cookies][info] Extracted 2348 cookies from Firefox\n"
     ]
    },
    {
     "name": "stdout",
     "output_type": "stream",
     "text": [
      "./GalDL/Job/3285200649397054685.mp4\n",
      "Job/https://www.instagram.com/reel/C2nAm-1rA80/\n",
      "Downloading : 409/1811\n",
      "\u001b[H\u001b[2J"
     ]
    },
    {
     "name": "stderr",
     "output_type": "stream",
     "text": [
      "[cookies][info] Extracted 2349 cookies from Firefox\n"
     ]
    },
    {
     "name": "stdout",
     "output_type": "stream",
     "text": [
      "./GalDL/Job/3289600731630014260.mp4\n",
      "Job/https://www.instagram.com/reel/C2P5P4LgGVC/\n",
      "Downloading : 410/1811\n",
      "\u001b[H\u001b[2J"
     ]
    },
    {
     "name": "stderr",
     "output_type": "stream",
     "text": [
      "[cookies][info] Extracted 2349 cookies from Firefox\n"
     ]
    },
    {
     "name": "stdout",
     "output_type": "stream",
     "text": [
      "./GalDL/Job/3283094433142170946.mp4\n",
      "Job/https://www.instagram.com/reel/C0Nwf74Iw7h/\n",
      "Downloading : 411/1811\n",
      "\u001b[H\u001b[2J"
     ]
    },
    {
     "name": "stderr",
     "output_type": "stream",
     "text": [
      "[cookies][info] Extracted 2349 cookies from Firefox\n"
     ]
    },
    {
     "name": "stdout",
     "output_type": "stream",
     "text": [
      "./GalDL/Job/3246464207232896737.mp4\n",
      "Job/https://www.instagram.com/reel/CzDhvWLIkZt/\n",
      "Downloading : 412/1811\n",
      "\u001b[H\u001b[2J"
     ]
    },
    {
     "name": "stderr",
     "output_type": "stream",
     "text": [
      "[cookies][info] Extracted 2349 cookies from Firefox\n"
     ]
    },
    {
     "name": "stdout",
     "output_type": "stream",
     "text": [
      "./GalDL/Job/3225570147286795885.mp4\n",
      "Job/https://www.instagram.com/reel/Czhh9DcAi2e/\n",
      "Downloading : 413/1811\n",
      "\u001b[H\u001b[2J"
     ]
    },
    {
     "name": "stderr",
     "output_type": "stream",
     "text": [
      "[cookies][info] Extracted 2349 cookies from Firefox\n"
     ]
    },
    {
     "name": "stdout",
     "output_type": "stream",
     "text": [
      "./GalDL/Job/3234015338542804382.mp4\n",
      "Job/https://www.instagram.com/reel/C1o1qq3ppKW/\n",
      "Downloading : 414/1811\n",
      "\u001b[H\u001b[2J"
     ]
    },
    {
     "name": "stderr",
     "output_type": "stream",
     "text": [
      "[cookies][info] Extracted 2349 cookies from Firefox\n"
     ]
    },
    {
     "name": "stdout",
     "output_type": "stream",
     "text": [
      "./GalDL/Job/3272101157998596758.mp4\n",
      "Job/https://www.instagram.com/reel/C1_F29erccn/\n",
      "Downloading : 415/1811\n",
      "\u001b[H\u001b[2J"
     ]
    },
    {
     "name": "stderr",
     "output_type": "stream",
     "text": [
      "[cookies][info] Extracted 2349 cookies from Firefox\n"
     ]
    },
    {
     "name": "stdout",
     "output_type": "stream",
     "text": [
      "./GalDL/Job/3278364820846266151.mp4\n",
      "Job/https://www.instagram.com/reel/Czoe8CJxG9r/\n",
      "Downloading : 416/1811\n",
      "\u001b[H\u001b[2J"
     ]
    },
    {
     "name": "stderr",
     "output_type": "stream",
     "text": [
      "[cookies][info] Extracted 2348 cookies from Firefox\n"
     ]
    },
    {
     "name": "stdout",
     "output_type": "stream",
     "text": [
      "./GalDL/Job/3235972399140990827.mp4\n",
      "Job/https://www.instagram.com/reel/C2G15bUL25y/\n",
      "Downloading : 417/1811\n",
      "\u001b[H\u001b[2J"
     ]
    },
    {
     "name": "stderr",
     "output_type": "stream",
     "text": [
      "[cookies][info] Extracted 2348 cookies from Firefox\n"
     ]
    },
    {
     "name": "stdout",
     "output_type": "stream",
     "text": [
      "./GalDL/Job/3280546421390929522.mp4\n",
      "Job/https://www.instagram.com/reel/C0mTCmMSYUn/\n",
      "Downloading : 418/1811\n",
      "\u001b[H\u001b[2J"
     ]
    },
    {
     "name": "stderr",
     "output_type": "stream",
     "text": [
      "[cookies][info] Extracted 2348 cookies from Firefox\n"
     ]
    },
    {
     "name": "stdout",
     "output_type": "stream",
     "text": [
      "./GalDL/Job/3253371522152760615.mp4\n",
      "Job/https://www.instagram.com/reel/C0NdPnSxgcS/\n",
      "Downloading : 419/1811\n",
      "\u001b[H\u001b[2J"
     ]
    },
    {
     "name": "stderr",
     "output_type": "stream",
     "text": [
      "[cookies][info] Extracted 2349 cookies from Firefox\n"
     ]
    },
    {
     "name": "stdout",
     "output_type": "stream",
     "text": [
      "./GalDL/Job/3246379522735867666.mp4\n",
      "Job/https://www.instagram.com/reel/CzUwVpGPOoZ/\n",
      "Downloading : 420/1811\n",
      "\u001b[H\u001b[2J"
     ]
    },
    {
     "name": "stderr",
     "output_type": "stream",
     "text": [
      "[cookies][info] Extracted 2349 cookies from Firefox\n"
     ]
    },
    {
     "name": "stdout",
     "output_type": "stream",
     "text": [
      "./GalDL/Job/3230419426201102873.mp4\n",
      "Job/https://www.instagram.com/reel/C0CAZW_MOkp/\n",
      "Downloading : 421/1811\n",
      "\u001b[H\u001b[2J"
     ]
    },
    {
     "name": "stderr",
     "output_type": "stream",
     "text": [
      "[cookies][info] Extracted 2349 cookies from Firefox\n"
     ]
    },
    {
     "name": "stdout",
     "output_type": "stream",
     "text": [
      "./GalDL/Job/3243156424329586985.mp4\n",
      "Job/https://www.instagram.com/reel/C2M5Z5npDgC/\n",
      "Downloading : 422/1811\n",
      "\u001b[H\u001b[2J"
     ]
    },
    {
     "name": "stderr",
     "output_type": "stream",
     "text": [
      "[cookies][info] Extracted 2349 cookies from Firefox\n"
     ]
    },
    {
     "name": "stdout",
     "output_type": "stream",
     "text": [
      "./GalDL/Job/3282250696952657922.mp4\n",
      "Job/https://www.instagram.com/reel/C0kX7-Lr3J4/\n",
      "Downloading : 423/1811\n",
      "\u001b[H\u001b[2J"
     ]
    },
    {
     "name": "stderr",
     "output_type": "stream",
     "text": [
      "[cookies][info] Extracted 2349 cookies from Firefox\n"
     ]
    },
    {
     "name": "stdout",
     "output_type": "stream",
     "text": [
      "./GalDL/Job/3252830107155264120.mp4\n",
      "Job/https://www.instagram.com/reel/Cz67F_ROPfP/\n",
      "Downloading : 424/1811\n",
      "\u001b[H\u001b[2J"
     ]
    },
    {
     "name": "stderr",
     "output_type": "stream",
     "text": [
      "[cookies][info] Extracted 2349 cookies from Firefox\n"
     ]
    },
    {
     "name": "stdout",
     "output_type": "stream",
     "text": [
      "./GalDL/Job/3241162778122713039.mp4\n",
      "Job/https://www.instagram.com/reel/C0a-GzWRfcc/\n",
      "Downloading : 425/1811\n",
      "\u001b[H\u001b[2J"
     ]
    },
    {
     "name": "stderr",
     "output_type": "stream",
     "text": [
      "[cookies][info] Extracted 2349 cookies from Firefox\n"
     ]
    },
    {
     "name": "stdout",
     "output_type": "stream",
     "text": [
      "./GalDL/Job/3250183227436300060.mp4\n",
      "Job/https://www.instagram.com/reel/C2JbXV9rBwM/\n",
      "Downloading : 426/1811\n",
      "\u001b[H\u001b[2J"
     ]
    },
    {
     "name": "stderr",
     "output_type": "stream",
     "text": [
      "[cookies][info] Extracted 2349 cookies from Firefox\n"
     ]
    },
    {
     "name": "stdout",
     "output_type": "stream",
     "text": [
      "./GalDL/Job/3281274154903149580.mp4\n",
      "Job/https://www.instagram.com/reel/C0MHBOJLvTF/\n",
      "Downloading : 427/1811\n",
      "\u001b[H\u001b[2J"
     ]
    },
    {
     "name": "stderr",
     "output_type": "stream",
     "text": [
      "[cookies][info] Extracted 2349 cookies from Firefox\n"
     ]
    },
    {
     "name": "stdout",
     "output_type": "stream",
     "text": [
      "./GalDL/Job/3246000301658797253.mp4\n",
      "Job/https://www.instagram.com/reel/C0fp_eMtfPQ/\n",
      "Downloading : 428/1811\n",
      "\u001b[H\u001b[2J"
     ]
    },
    {
     "name": "stderr",
     "output_type": "stream",
     "text": [
      "[cookies][info] Extracted 2349 cookies from Firefox\n"
     ]
    },
    {
     "name": "stdout",
     "output_type": "stream",
     "text": [
      "./GalDL/Job/3251502137644282832.mp4\n",
      "Job/https://www.instagram.com/reel/C1YvJX4A2Yf/\n",
      "Downloading : 429/1811\n",
      "\u001b[H\u001b[2J"
     ]
    },
    {
     "name": "stderr",
     "output_type": "stream",
     "text": [
      "[cookies][info] Extracted 2349 cookies from Firefox\n"
     ]
    },
    {
     "name": "stdout",
     "output_type": "stream",
     "text": [
      "./GalDL/Job/3267568881954416159.mp4\n",
      "Job/https://www.instagram.com/p/C1TVHzTr-PH/\n",
      "Downloading : 430/1811\n",
      "\u001b[H\u001b[2J"
     ]
    },
    {
     "name": "stderr",
     "output_type": "stream",
     "text": [
      "[cookies][info] Extracted 2349 cookies from Firefox\n"
     ]
    },
    {
     "name": "stdout",
     "output_type": "stream",
     "text": [
      "./GalDL/Job/3266047049877939143.jpg\n",
      "Job/https://www.instagram.com/p/C1HFy_8LlDK/\n",
      "Downloading : 431/1811\n",
      "\u001b[H\u001b[2J"
     ]
    },
    {
     "name": "stderr",
     "output_type": "stream",
     "text": [
      "[cookies][info] Extracted 2348 cookies from Firefox\n"
     ]
    },
    {
     "name": "stdout",
     "output_type": "stream",
     "text": [
      "./GalDL/Job/3262601949915009226.jpg\n",
      "Job/https://www.instagram.com/p/C1MW8eIumgh/\n",
      "Downloading : 432/1811\n",
      "\u001b[H\u001b[2J"
     ]
    },
    {
     "name": "stderr",
     "output_type": "stream",
     "text": [
      "[cookies][info] Extracted 2348 cookies from Firefox\n"
     ]
    },
    {
     "name": "stdout",
     "output_type": "stream",
     "text": [
      "./GalDL/Job/3264084742487304225.jpg\n",
      "Job/https://www.instagram.com/reel/CzqwWyghSkr/\n",
      "Downloading : 433/1811\n",
      "\u001b[H\u001b[2J"
     ]
    },
    {
     "name": "stderr",
     "output_type": "stream",
     "text": [
      "[cookies][info] Extracted 2348 cookies from Firefox\n"
     ]
    },
    {
     "name": "stdout",
     "output_type": "stream",
     "text": [
      "./GalDL/Job/3236611954512832811.mp4\n",
      "Job/https://www.instagram.com/reel/C06q1UAPHwY/\n",
      "Downloading : 434/1811\n",
      "\u001b[H\u001b[2J"
     ]
    },
    {
     "name": "stderr",
     "output_type": "stream",
     "text": [
      "[cookies][info] Extracted 2348 cookies from Firefox\n"
     ]
    },
    {
     "name": "stdout",
     "output_type": "stream",
     "text": [
      "./GalDL/Job/3259105661920508952.mp4\n",
      "Job/https://www.instagram.com/reel/C1MawCqSsBf/\n",
      "Downloading : 435/1811\n",
      "\u001b[H\u001b[2J"
     ]
    },
    {
     "name": "stderr",
     "output_type": "stream",
     "text": [
      "[cookies][info] Extracted 2349 cookies from Firefox\n"
     ]
    },
    {
     "name": "stdout",
     "output_type": "stream",
     "text": [
      "./GalDL/Job/3264101480537964639.mp4\n",
      "Job/https://www.instagram.com/reel/Czd27Zgv0BC/\n",
      "Downloading : 436/1811\n",
      "\u001b[H\u001b[2J"
     ]
    },
    {
     "name": "stderr",
     "output_type": "stream",
     "text": [
      "[cookies][info] Extracted 2349 cookies from Firefox\n"
     ]
    },
    {
     "name": "stdout",
     "output_type": "stream",
     "text": [
      "./GalDL/Job/3232981683875561538.mp4\n",
      "Job/https://www.instagram.com/reel/C0K5V4DMvlm/\n",
      "Downloading : 437/1811\n",
      "\u001b[H\u001b[2J"
     ]
    },
    {
     "name": "stderr",
     "output_type": "stream",
     "text": [
      "[cookies][info] Extracted 2349 cookies from Firefox\n"
     ]
    },
    {
     "name": "stdout",
     "output_type": "stream",
     "text": [
      "./GalDL/Job/3245658673417222502.mp4\n",
      "Job/https://www.instagram.com/reel/C0KWiZIx9fO/\n",
      "Downloading : 438/1811\n",
      "\u001b[H\u001b[2J"
     ]
    },
    {
     "name": "stderr",
     "output_type": "stream",
     "text": [
      "[cookies][info] Extracted 2349 cookies from Firefox\n"
     ]
    },
    {
     "name": "stdout",
     "output_type": "stream",
     "text": [
      "./GalDL/Job/3245505601950177230.mp4\n",
      "Job/https://www.instagram.com/reel/Czfi4xgsmFN/\n",
      "Downloading : 439/1811\n",
      "\u001b[H\u001b[2J"
     ]
    },
    {
     "name": "stderr",
     "output_type": "stream",
     "text": [
      "[cookies][info] Extracted 2349 cookies from Firefox\n"
     ]
    },
    {
     "name": "stdout",
     "output_type": "stream",
     "text": [
      "./GalDL/Job/3233456492509290829.mp4\n",
      "Job/https://www.instagram.com/reel/Cxs32ABL3j7/\n",
      "Downloading : 440/1811\n",
      "\u001b[H\u001b[2J"
     ]
    },
    {
     "name": "stderr",
     "output_type": "stream",
     "text": [
      "[cookies][info] Extracted 2343 cookies from Firefox\n"
     ]
    },
    {
     "name": "stdout",
     "output_type": "stream",
     "text": [
      "./GalDL/Job/3201179038583322875.mp4\n",
      "Job/https://www.instagram.com/reel/CxjHYYqrnzm/\n",
      "Downloading : 441/1811\n",
      "\u001b[H\u001b[2J"
     ]
    },
    {
     "name": "stderr",
     "output_type": "stream",
     "text": [
      "[cookies][info] Extracted 2343 cookies from Firefox\n"
     ]
    },
    {
     "name": "stdout",
     "output_type": "stream",
     "text": [
      "./GalDL/Job/3198432622442085606.mp4\n",
      "Job/https://www.instagram.com/reel/Cwn7qEXS3Dt/\n",
      "Downloading : 442/1811\n",
      "\u001b[H\u001b[2J"
     ]
    },
    {
     "name": "stderr",
     "output_type": "stream",
     "text": [
      "[cookies][info] Extracted 2343 cookies from Firefox\n"
     ]
    },
    {
     "name": "stdout",
     "output_type": "stream",
     "text": [
      "./GalDL/Job/3181774037408510189.mp4\n",
      "Job/https://www.instagram.com/reel/Cx6i5hLvN3Y/\n",
      "Downloading : 443/1811\n",
      "\u001b[H\u001b[2J"
     ]
    },
    {
     "name": "stderr",
     "output_type": "stream",
     "text": [
      "[cookies][info] Extracted 2343 cookies from Firefox\n"
     ]
    },
    {
     "name": "stdout",
     "output_type": "stream",
     "text": [
      "./GalDL/Job/3205027571049487832.mp4\n",
      "Job/https://www.instagram.com/reel/CyOCPUotJg6/\n",
      "Downloading : 444/1811\n",
      "\u001b[H\u001b[2J"
     ]
    },
    {
     "name": "stderr",
     "output_type": "stream",
     "text": [
      "[cookies][info] Extracted 2342 cookies from Firefox\n"
     ]
    },
    {
     "name": "stdout",
     "output_type": "stream",
     "text": [
      "./GalDL/Job/3210513433404676154.mp4\n",
      "Job/https://www.instagram.com/reel/CxwMPzeJhbO/\n",
      "Downloading : 445/1811\n",
      "\u001b[H\u001b[2J"
     ]
    },
    {
     "name": "stderr",
     "output_type": "stream",
     "text": [
      "[cookies][info] Extracted 2343 cookies from Firefox\n"
     ]
    },
    {
     "name": "stdout",
     "output_type": "stream",
     "text": [
      "./GalDL/Job/3202113197677352654.mp4\n",
      "Job/https://www.instagram.com/reel/CwdmcWotmPP/\n",
      "Downloading : 446/1811\n",
      "\u001b[H\u001b[2J"
     ]
    },
    {
     "name": "stderr",
     "output_type": "stream",
     "text": [
      "[cookies][info] Extracted 2343 cookies from Firefox\n"
     ]
    },
    {
     "name": "stdout",
     "output_type": "stream",
     "text": [
      "./GalDL/Job/3178865986211570639.mp4\n",
      "Job/https://www.instagram.com/reel/CxssItlve0S/\n",
      "Downloading : 447/1811\n",
      "\u001b[H\u001b[2J"
     ]
    },
    {
     "name": "stderr",
     "output_type": "stream",
     "text": [
      "[cookies][info] Extracted 2342 cookies from Firefox\n"
     ]
    },
    {
     "name": "stdout",
     "output_type": "stream",
     "text": [
      "./GalDL/Job/3201127547907468562.mp4\n",
      "Job/https://www.instagram.com/reel/CyG2-FyImjG/\n",
      "Downloading : 448/1811\n",
      "\u001b[H\u001b[2J"
     ]
    },
    {
     "name": "stderr",
     "output_type": "stream",
     "text": [
      "[cookies][info] Extracted 2343 cookies from Firefox\n"
     ]
    },
    {
     "name": "stdout",
     "output_type": "stream",
     "text": [
      "./GalDL/Job/3208493545877039302.mp4\n",
      "Job/https://www.instagram.com/reel/CxJ9WwZPluo/\n",
      "Downloading : 449/1811\n",
      "\u001b[H\u001b[2J"
     ]
    },
    {
     "name": "stderr",
     "output_type": "stream",
     "text": [
      "[cookies][info] Extracted 2345 cookies from Firefox\n"
     ]
    },
    {
     "name": "stdout",
     "output_type": "stream",
     "text": [
      "./GalDL/Job/3191351655597497256.mp4\n",
      "Job/https://www.instagram.com/reel/CxcJ_MhMYLN/\n",
      "Downloading : 450/1811\n",
      "\u001b[H\u001b[2J"
     ]
    },
    {
     "name": "stderr",
     "output_type": "stream",
     "text": [
      "[cookies][info] Extracted 2346 cookies from Firefox\n"
     ]
    },
    {
     "name": "stdout",
     "output_type": "stream",
     "text": [
      "./GalDL/Job/3196473760713638605.mp4\n",
      "Job/https://www.instagram.com/reel/Cwckmcfpv5D/\n",
      "Downloading : 451/1811\n",
      "\u001b[H\u001b[2J"
     ]
    },
    {
     "name": "stderr",
     "output_type": "stream",
     "text": [
      "[cookies][info] Extracted 2346 cookies from Firefox\n"
     ]
    },
    {
     "name": "stdout",
     "output_type": "stream",
     "text": [
      "./GalDL/Job/3178576408627052099.mp4\n",
      "Job/https://www.instagram.com/reel/CuzmF9Ox1SA/\n",
      "Downloading : 452/1811\n",
      "\u001b[H\u001b[2J"
     ]
    },
    {
     "name": "stderr",
     "output_type": "stream",
     "text": [
      "[cookies][info] Extracted 2347 cookies from Firefox\n"
     ]
    },
    {
     "name": "stdout",
     "output_type": "stream",
     "text": [
      "./GalDL/Job/3149028099573109888.mp4\n",
      "Job/https://www.instagram.com/reel/CxBnQYLSfET/\n",
      "Downloading : 453/1811\n",
      "\u001b[H\u001b[2J"
     ]
    },
    {
     "name": "stderr",
     "output_type": "stream",
     "text": [
      "[cookies][info] Extracted 2347 cookies from Firefox\n"
     ]
    },
    {
     "name": "stdout",
     "output_type": "stream",
     "text": [
      "./GalDL/Job/3189002660439781651.mp4\n",
      "Job/https://www.instagram.com/reel/CvWHaRAtvLh/\n",
      "Downloading : 454/1811\n",
      "\u001b[H\u001b[2J"
     ]
    },
    {
     "name": "stderr",
     "output_type": "stream",
     "text": [
      "[cookies][info] Extracted 2347 cookies from Firefox\n"
     ]
    },
    {
     "name": "stdout",
     "output_type": "stream",
     "text": [
      "./GalDL/Job/3158744779944555233.mp4\n",
      "Job/https://www.instagram.com/reel/CwsJaaDuAo5/\n",
      "Downloading : 455/1811\n",
      "\u001b[H\u001b[2J"
     ]
    },
    {
     "name": "stderr",
     "output_type": "stream",
     "text": [
      "[cookies][info] Extracted 2346 cookies from Firefox\n"
     ]
    },
    {
     "name": "stdout",
     "output_type": "stream",
     "text": [
      "./GalDL/Job/3182960433748773433.mp4\n",
      "Job/https://www.instagram.com/reel/CvzekGwt-l9/\n",
      "Downloading : 456/1811\n",
      "\u001b[H\u001b[2J"
     ]
    },
    {
     "name": "stderr",
     "output_type": "stream",
     "text": [
      "[cookies][info] Extracted 2346 cookies from Firefox\n"
     ]
    },
    {
     "name": "stdout",
     "output_type": "stream",
     "text": [
      "./GalDL/Job/3167009385527896445.mp4\n",
      "Job/https://www.instagram.com/reel/CwsJZzTNaJr/\n",
      "Downloading : 457/1811\n",
      "\u001b[H\u001b[2J"
     ]
    },
    {
     "name": "stderr",
     "output_type": "stream",
     "text": [
      "[cookies][info] Extracted 2347 cookies from Firefox\n",
      "[instagram][error] HttpError: '400 Bad Request' for 'https://www.instagram.com/api/v1/media/3182960392132731499/info/'\n"
     ]
    },
    {
     "name": "stdout",
     "output_type": "stream",
     "text": [
      "Job/https://www.instagram.com/reel/CunEthSgjkB/\n",
      "Downloading : 458/1811\n",
      "\u001b[H\u001b[2J"
     ]
    },
    {
     "name": "stderr",
     "output_type": "stream",
     "text": [
      "[cookies][info] Extracted 2347 cookies from Firefox\n",
      "[instagram][error] HttpError: '400 Bad Request' for 'https://www.instagram.com/api/v1/media/3145503585048082689/info/'\n"
     ]
    },
    {
     "name": "stdout",
     "output_type": "stream",
     "text": [
      "Job/https://www.instagram.com/reel/CwwKQvLsbTr/\n",
      "Downloading : 459/1811\n",
      "\u001b[H\u001b[2J"
     ]
    },
    {
     "name": "stderr",
     "output_type": "stream",
     "text": [
      "[cookies][info] Extracted 2350 cookies from Firefox\n",
      "[instagram][error] HttpError: '400 Bad Request' for 'https://www.instagram.com/api/v1/media/3184090067189740779/info/'\n"
     ]
    },
    {
     "name": "stdout",
     "output_type": "stream",
     "text": [
      "Job/https://www.instagram.com/reel/CwITi7HsjcY/\n",
      "Downloading : 460/1811\n",
      "\u001b[H\u001b[2J"
     ]
    },
    {
     "name": "stderr",
     "output_type": "stream",
     "text": [
      "[cookies][info] Extracted 2351 cookies from Firefox\n",
      "[instagram][error] HttpError: '400 Bad Request' for 'https://www.instagram.com/api/v1/media/3172871900308322072/info/'\n"
     ]
    },
    {
     "name": "stdout",
     "output_type": "stream",
     "text": [
      "Job/https://www.instagram.com/reel/CvUtkhmAKB0/\n",
      "Downloading : 461/1811\n",
      "\u001b[H\u001b[2J"
     ]
    },
    {
     "name": "stderr",
     "output_type": "stream",
     "text": [
      "[cookies][info] Extracted 2351 cookies from Firefox\n",
      "[instagram][error] HttpError: '400 Bad Request' for 'https://www.instagram.com/api/v1/media/3158349660758777972/info/'\n"
     ]
    },
    {
     "name": "stdout",
     "output_type": "stream",
     "text": [
      "Job/https://www.instagram.com/reel/Cwp-vezx4Cx/\n",
      "Downloading : 462/1811\n",
      "\u001b[H\u001b[2J"
     ]
    },
    {
     "name": "stderr",
     "output_type": "stream",
     "text": [
      "\n",
      "KeyboardInterrupt\n"
     ]
    },
    {
     "name": "stdout",
     "output_type": "stream",
     "text": [
      "Job/https://www.instagram.com/reel/Cwkrs6sJhX4/\n",
      "Downloading : 463/1811\n",
      "\u001b[H\u001b[2JJob/https://www.instagram.com/reel/CuGa4j2uRTR/\n",
      "Downloading : 464/1811\n",
      "\u001b[H\u001b[2J"
     ]
    },
    {
     "name": "stderr",
     "output_type": "stream",
     "text": [
      "\n",
      "KeyboardInterrupt\n"
     ]
    },
    {
     "name": "stdout",
     "output_type": "stream",
     "text": [
      "Job/https://www.instagram.com/reel/CwhxzUiLp3h/\n",
      "Downloading : 465/1811\n"
     ]
    },
    {
     "name": "stderr",
     "output_type": "stream",
     "text": [
      "Traceback (most recent call last):\n",
      "  File \"/Users/shubhamarundekatey/anaconda3/bin/gallery-dl\", line 3, in <module>\n",
      "    import re\n",
      "  File \"<frozen importlib._bootstrap>\", line 1176, in _find_and_load\n",
      "  File \"<frozen importlib._bootstrap>\", line 1138, in _find_and_load_unlocked\n",
      "  File \"<frozen importlib._bootstrap>\", line 1078, in _find_spec\n",
      "  File \"<frozen importlib._bootstrap_external>\", line 1504, in find_spec\n",
      "  File \"<frozen importlib._bootstrap_external>\", line 1476, in _get_spec\n",
      "  File \"<frozen importlib._bootstrap_external>\", line 1616, in find_spec\n",
      "  File \"<frozen importlib._bootstrap_external>\", line 1659, in _fill_cache\n",
      "KeyboardInterrupt\n"
     ]
    },
    {
     "name": "stdout",
     "output_type": "stream",
     "text": [
      "Job/https://www.instagram.com/reel/CtI3t_ZgpKe/\n",
      "Downloading : 466/1811\n",
      "\u001b[H\u001b[2JJob/https://www.instagram.com/reel/CwkfXRLNBfm/\n",
      "Downloading : 467/1811\n",
      "\u001b[H\u001b[2J"
     ]
    },
    {
     "name": "stderr",
     "output_type": "stream",
     "text": [
      "Fatal Python error: init_import_site: Failed to import the site module\n",
      "Python runtime state: initialized\n",
      "Traceback (most recent call last):\n",
      "  File \"<frozen importlib._bootstrap>\", line 1176, in _find_and_load\n",
      "  File \"<frozen importlib._bootstrap>\", line 1147, in _find_and_load_unlocked\n",
      "  File \"<frozen importlib._bootstrap>\", line 690, in _load_unlocked\n",
      "  File \"<frozen importlib._bootstrap>\", line 980, in exec_module\n",
      "  File \"<frozen site>\", line 616, in <module>\n",
      "  File \"<frozen site>\", line 603, in main\n",
      "  File \"<frozen site>\", line 384, in addsitepackages\n",
      "  File \"<frozen site>\", line 226, in addsitedir\n",
      "  File \"<frozen site>\", line 186, in addpackage\n",
      "  File \"<string>\", line 1, in <module>\n",
      "  File \"/Users/shubhamarundekatey/anaconda3/lib/python3.11/site-packages/_distutils_hack/__init__.py\", line 80, in <module>\n",
      "    class _TrivialRe:\n",
      "  File \"/Users/shubhamarundekatey/anaconda3/lib/python3.11/site-packages/_distutils_hack/__init__.py\", line 80, in _TrivialRe\n",
      "    class _TrivialRe:\n",
      "    \n",
      "KeyboardInterrupt\n"
     ]
    },
    {
     "name": "stdout",
     "output_type": "stream",
     "text": [
      "Job/https://www.instagram.com/reel/CviWbaDNpGy/\n",
      "Downloading : 468/1811\n",
      "\u001b[H\u001b[2J"
     ]
    },
    {
     "name": "stderr",
     "output_type": "stream",
     "text": [
      "Fatal Python error: init_import_site: Failed to import the site module\n",
      "Python runtime state: initialized\n",
      "Traceback (most recent call last):\n",
      "  File \"<frozen importlib._bootstrap>\", line 1176, in _find_and_load\n",
      "  File \"<frozen importlib._bootstrap>\", line 1147, in _find_and_load_unlocked\n",
      "  File \"<frozen importlib._bootstrap>\", line 690, in _load_unlocked\n",
      "  File \"<frozen importlib._bootstrap>\", line 980, in exec_module\n",
      "  File \"<frozen site>\", line 616, in <module>\n",
      "  File \"<frozen site>\", line 603, in main\n",
      "  File \"<frozen site>\", line 384, in addsitepackages\n",
      "  File \"<frozen site>\", line 226, in addsitedir\n",
      "  File \"<frozen site>\", line 186, in addpackage\n",
      "  File \"<string>\", line 0, in <module>\n",
      "KeyboardInterrupt\n"
     ]
    },
    {
     "name": "stdout",
     "output_type": "stream",
     "text": [
      "Job/https://www.instagram.com/reel/CwLK09cJWLG/\n",
      "Downloading : 469/1811\n",
      "\u001b[H\u001b[2J"
     ]
    },
    {
     "name": "stderr",
     "output_type": "stream",
     "text": [
      "Fatal Python error: init_import_site: Failed to import the site module\n",
      "Python runtime state: initialized\n",
      "Traceback (most recent call last):\n",
      "  File \"<frozen importlib._bootstrap>\", line 1176, in _find_and_load\n",
      "  File \"<frozen importlib._bootstrap>\", line 1147, in _find_and_load_unlocked\n",
      "  File \"<frozen importlib._bootstrap>\", line 690, in _load_unlocked\n",
      "  File \"<frozen importlib._bootstrap>\", line 980, in exec_module\n",
      "  File \"<frozen site>\", line 616, in <module>\n",
      "  File \"<frozen site>\", line 603, in main\n",
      "  File \"<frozen site>\", line 384, in addsitepackages\n",
      "  File \"<frozen site>\", line 226, in addsitedir\n",
      "  File \"<frozen site>\", line 186, in addpackage\n",
      "  File \"<string>\", line 0, in <module>\n",
      "KeyboardInterrupt\n"
     ]
    },
    {
     "name": "stdout",
     "output_type": "stream",
     "text": [
      "Job/https://www.instagram.com/reel/CtjqFmOLUgE/\n",
      "Downloading : 470/1811\n",
      "\u001b[H\u001b[2J"
     ]
    },
    {
     "name": "stderr",
     "output_type": "stream",
     "text": [
      "\n",
      "KeyboardInterrupt\n"
     ]
    },
    {
     "name": "stdout",
     "output_type": "stream",
     "text": [
      "Job/https://www.instagram.com/reel/CuVqPhJrVzE/\n",
      "Downloading : 471/1811\n"
     ]
    },
    {
     "name": "stderr",
     "output_type": "stream",
     "text": [
      "Traceback (most recent call last):\n",
      "  File \"/Users/shubhamarundekatey/anaconda3/bin/gallery-dl\", line 5, in <module>\n",
      "    from gallery_dl import main\n",
      "  File \"/Users/shubhamarundekatey/anaconda3/lib/python3.11/site-packages/gallery_dl/__init__.py\", line 10, in <module>\n",
      "    import logging\n",
      "  File \"<frozen importlib._bootstrap>\", line 1176, in _find_and_load\n",
      "  File \"<frozen importlib._bootstrap>\", line 1147, in _find_and_load_unlocked\n",
      "  File \"<frozen importlib._bootstrap>\", line 690, in _load_unlocked\n",
      "  File \"<frozen importlib._bootstrap_external>\", line 936, in exec_module\n",
      "  File \"<frozen importlib._bootstrap_external>\", line 1069, in get_code\n",
      "  File \"<frozen importlib._bootstrap_external>\", line 729, in _compile_bytecode\n",
      "KeyboardInterrupt\n"
     ]
    },
    {
     "name": "stdout",
     "output_type": "stream",
     "text": [
      "Job/https://www.instagram.com/reel/Cwef8DetpyV/\n",
      "Downloading : 472/1811\n",
      "\u001b[H\u001b[2JJob/https://www.instagram.com/reel/Cure6E2BctM/\n",
      "Downloading : 473/1811\n",
      "\u001b[H\u001b[2J"
     ]
    },
    {
     "name": "stderr",
     "output_type": "stream",
     "text": [
      "Fatal Python error: init_import_site: Failed to import the site module\n",
      "Python runtime state: initialized\n",
      "Traceback (most recent call last):\n",
      "  File \"<frozen importlib._bootstrap>\", line 1176, in _find_and_load\n",
      "  File \"<frozen importlib._bootstrap>\", line 1147, in _find_and_load_unlocked\n",
      "  File \"<frozen importlib._bootstrap>\", line 690, in _load_unlocked\n",
      "  File \"<frozen importlib._bootstrap>\", line 980, in exec_module\n",
      "  File \"<frozen site>\", line 616, in <module>\n",
      "  File \"<frozen site>\", line 603, in main\n",
      "  File \"<frozen site>\", line 384, in addsitepackages\n",
      "  File \"<frozen site>\", line 226, in addsitedir\n",
      "  File \"<frozen site>\", line 186, in addpackage\n",
      "  File \"<string>\", line 1, in <module>\n",
      "  File \"<frozen importlib._bootstrap>\", line 1176, in _find_and_load\n",
      "  File \"<frozen importlib._bootstrap>\", line 1147, in _find_and_load_unlocked\n",
      "  File \"<frozen importlib._bootstrap>\", line 690, in _load_unlocked\n",
      "  File \"<frozen importlib._bootstrap>\", line 980, in exec_module\n",
      "  File \"<frozen importlib.util>\", line 14, in <module>\n",
      "  File \"/Users/shubhamarundekatey/anaconda3/lib/python3.11/contextlib.py\", line 740, in <module>\n",
      "    class nullcontext(AbstractContextManager, AbstractAsyncContextManager):\n",
      "  File \"<frozen abc>\", line 105, in __new__\n",
      "KeyboardInterrupt\n"
     ]
    },
    {
     "name": "stdout",
     "output_type": "stream",
     "text": [
      "Job/https://www.instagram.com/reel/Cv-vZxKt7Zv/\n",
      "Downloading : 474/1811\n",
      "\u001b[H\u001b[2JJob/https://www.instagram.com/reel/CwF4USLMc3b/\n",
      "Downloading : 475/1811\n",
      "\u001b[H\u001b[2J"
     ]
    },
    {
     "name": "stderr",
     "output_type": "stream",
     "text": [
      "Fatal Python error: init_import_site: Failed to import the site module\n",
      "Python runtime state: initialized\n",
      "Traceback (most recent call last):\n",
      "  File \"<frozen importlib._bootstrap>\", line 1176, in _find_and_load\n",
      "  File \"<frozen importlib._bootstrap>\", line 1147, in _find_and_load_unlocked\n",
      "  File \"<frozen importlib._bootstrap>\", line 690, in _load_unlocked\n",
      "  File \"<frozen importlib._bootstrap>\", line 980, in exec_module\n",
      "  File \"<frozen site>\", line 616, in <module>\n",
      "  File \"<frozen site>\", line 603, in main\n",
      "  File \"<frozen site>\", line 384, in addsitepackages\n",
      "  File \"<frozen site>\", line 226, in addsitedir\n",
      "  File \"<frozen site>\", line 186, in addpackage\n",
      "  File \"<string>\", line 0, in <module>\n",
      "KeyboardInterrupt\n"
     ]
    },
    {
     "name": "stdout",
     "output_type": "stream",
     "text": [
      "Job/https://www.instagram.com/reel/CvgEYVzxXnl/\n",
      "Downloading : 476/1811\n",
      "\u001b[H\u001b[2JJob/https://www.instagram.com/reel/CtiXXQFNUQi/\n",
      "Downloading : 477/1811\n",
      "\u001b[H\u001b[2J"
     ]
    },
    {
     "name": "stderr",
     "output_type": "stream",
     "text": [
      "Traceback (most recent call last):\n",
      "  File \"/Users/shubhamarundekatey/anaconda3/bin/gallery-dl\", line 5, in <module>\n",
      "    from gallery_dl import main\n",
      "  File \"/Users/shubhamarundekatey/anaconda3/lib/python3.11/site-packages/gallery_dl/__init__.py\", line 10, in <module>\n",
      "    import logging\n",
      "  File \"/Users/shubhamarundekatey/anaconda3/lib/python3.11/logging/__init__.py\", line 26, in <module>\n",
      "    import sys, os, time, io, re, traceback, warnings, weakref, collections.abc\n",
      "  File \"/Users/shubhamarundekatey/anaconda3/lib/python3.11/traceback.py\", line 5, in <module>\n",
      "    import linecache\n",
      "  File \"<frozen importlib._bootstrap>\", line 1176, in _find_and_load\n",
      "  File \"<frozen importlib._bootstrap>\", line 1147, in _find_and_load_unlocked\n",
      "  File \"<frozen importlib._bootstrap>\", line 690, in _load_unlocked\n",
      "  File \"<frozen importlib._bootstrap_external>\", line 936, in exec_module\n",
      "  File \"<frozen importlib._bootstrap_external>\", line 1069, in get_code\n",
      "  File \"<frozen importlib._bootstrap_external>\", line 729, in _compile_bytecode\n",
      "KeyboardInterrupt\n"
     ]
    },
    {
     "name": "stdout",
     "output_type": "stream",
     "text": [
      "Job/https://www.instagram.com/reel/CtPDIbygdJl/\n",
      "Downloading : 478/1811\n",
      "\u001b[H\u001b[2JMoney/https://www.instagram.com/reel/C28pW6wJEY9/\n",
      "Downloading : 479/1811\n",
      "\u001b[H\u001b[2J"
     ]
    },
    {
     "name": "stderr",
     "output_type": "stream",
     "text": [
      "Traceback (most recent call last):\n",
      "  File \"/Users/shubhamarundekatey/anaconda3/bin/gallery-dl\", line 5, in <module>\n",
      "    from gallery_dl import main\n",
      "  File \"/Users/shubhamarundekatey/anaconda3/lib/python3.11/site-packages/gallery_dl/__init__.py\", line 10, in <module>\n",
      "    import logging\n",
      "  File \"/Users/shubhamarundekatey/anaconda3/lib/python3.11/logging/__init__.py\", line 26, in <module>\n",
      "    import sys, os, time, io, re, traceback, warnings, weakref, collections.abc\n",
      "  File \"<frozen importlib._bootstrap>\", line 1176, in _find_and_load\n",
      "  File \"<frozen importlib._bootstrap>\", line 1147, in _find_and_load_unlocked\n",
      "  File \"<frozen importlib._bootstrap>\", line 690, in _load_unlocked\n",
      "  File \"<frozen importlib._bootstrap_external>\", line 936, in exec_module\n",
      "  File \"<frozen importlib._bootstrap_external>\", line 1032, in get_code\n",
      "  File \"<frozen importlib._bootstrap_external>\", line 1130, in get_data\n",
      "KeyboardInterrupt\n",
      "Fatal Python error: init_import_site: Failed to import the site module\n",
      "Python runtime state: initialized\n",
      "Traceback (most recent call last):\n",
      "  File \"<frozen importlib._bootstrap>\", line 1176, in _find_and_load\n",
      "  File \"<frozen importlib._bootstrap>\", line 1147, in _find_and_load_unlocked\n",
      "  File \"<frozen importlib._bootstrap>\", line 690, in _load_unlocked\n",
      "  File \"<frozen importlib._bootstrap>\", line 980, in exec_module\n",
      "  File \"<frozen site>\", line 616, in <module>\n",
      "  File \"<frozen site>\", line 603, in main\n",
      "  File \"<frozen site>\", line 384, in addsitepackages\n",
      "  File \"<frozen site>\", line 226, in addsitedir\n",
      "  File \"<frozen site>\", line 186, in addpackage\n",
      "  File \"<string>\", line 1, in <module>\n",
      "  File \"<frozen importlib._bootstrap_external>\", line 1504, in find_spec\n",
      "  File \"<frozen importlib._bootstrap_external>\", line 1476, in _get_spec\n",
      "  File \"<frozen importlib._bootstrap_external>\", line 1630, in find_spec\n",
      "  File \"<frozen importlib._bootstrap_external>\", line 128, in _path_join\n",
      "KeyboardInterrupt\n"
     ]
    },
    {
     "name": "stdout",
     "output_type": "stream",
     "text": [
      "Money/https://www.instagram.com/p/C2vbEfoR2EL/\n",
      "Downloading : 480/1811\n",
      "\u001b[H\u001b[2JMoney/https://www.instagram.com/reel/C2sxfeNSZCk/\n",
      "Downloading : 481/1811\n",
      "\u001b[H\u001b[2J"
     ]
    },
    {
     "name": "stderr",
     "output_type": "stream",
     "text": [
      "\n",
      "KeyboardInterrupt\n"
     ]
    },
    {
     "name": "stdout",
     "output_type": "stream",
     "text": [
      "Money/https://www.instagram.com/reel/C1NycxYNUpo/\n",
      "Downloading : 482/1811\n",
      "\u001b[H\u001b[2J"
     ]
    }
   ],
   "source": [
    "### Easy Instagram Downloader for gallery-dl\n",
    "\n",
    "import os\n",
    "counter = 455\n",
    "for link in allLinks[counter:]:\n",
    "    print(link)\n",
    "    try:\n",
    "        angle = link.index('<')\n",
    "    except Exception:\n",
    "        angle = 0\n",
    "        pass\n",
    "    if(angle):\n",
    "        link = link[:angle]\n",
    "#     print(link)\n",
    "    counter += 1\n",
    "    print(\"Downloading : \" + str(counter) + \"/\" + str(len(allLinks)))\n",
    "    parts = link.index(\"/\")\n",
    "#     folderName  = \n",
    "    os.system('clear')\n",
    "    browser = \" --cookies-from-browser firefox \"\n",
    "    o = \"-o include=\"\n",
    "#     save_dir = \n",
    "    save_dir = \"-D ./\" + 'GalDL/'+link[:parts] + \"/\"\n",
    "    url = link[parts+1:]\n",
    "    command4img = \"gallery-dl\" + browser + o + \" \" + save_dir  + \" \" + url\n",
    "    os.system(command4img)\n",
    "#     command4metadata = 'gallery-dl' + browser + '-c gallery-dl-post.conf -P metadata '+ url + \" \" + save_dir\n",
    "#     os.system(command4metadata)"
   ]
  },
  {
   "cell_type": "code",
   "execution_count": 4,
   "id": "386538c6",
   "metadata": {},
   "outputs": [
    {
     "data": {
      "text/plain": [
       "'gallery-dl --cookies-from-browser firefox -c gallery-dl-post.conf -P metadata https://www.instagram.com/p/CgNE9BhuwMB/ -D ./GalDL/Nyc/'"
      ]
     },
     "execution_count": 4,
     "metadata": {},
     "output_type": "execute_result"
    }
   ],
   "source": [
    "command4metadata"
   ]
  },
  {
   "cell_type": "code",
   "execution_count": 51,
   "id": "84cbdf06",
   "metadata": {},
   "outputs": [
    {
     "data": {
      "text/plain": [
       "'gallery-dl --cookies-from-browser firefox -c gallery-dl-post.conf -P metadata https://www.instagram.com/p/CgNE9BhuwMB/ -D ./SDFADFASFASF/'"
      ]
     },
     "execution_count": 51,
     "metadata": {},
     "output_type": "execute_result"
    }
   ],
   "source": [
    "check = 'gallery-dl --cookies-from-browser firefox -c gallery-dl-post.conf -P metadata https://www.instagram.com/p/CgNE9BhuwMB/ -D ./SDFADFASFASF/'\n",
    "check"
   ]
  },
  {
   "cell_type": "code",
   "execution_count": 42,
   "id": "51c071c1",
   "metadata": {},
   "outputs": [
    {
     "data": {
      "text/plain": [
       "'-D ./GalDL/Nyc/h/'"
      ]
     },
     "execution_count": 42,
     "metadata": {},
     "output_type": "execute_result"
    }
   ],
   "source": [
    "save_dir"
   ]
  },
  {
   "cell_type": "code",
   "execution_count": 43,
   "id": "2bed4c1d",
   "metadata": {},
   "outputs": [
    {
     "data": {
      "text/plain": [
       "'Nyc/h'"
      ]
     },
     "execution_count": 43,
     "metadata": {},
     "output_type": "execute_result"
    }
   ],
   "source": [
    "link[:5]"
   ]
  },
  {
   "cell_type": "code",
   "execution_count": 44,
   "id": "2f1463c3",
   "metadata": {},
   "outputs": [
    {
     "data": {
      "text/plain": [
       "'Nyc/https://www.instagram.com/reel/Cr_IwAvAJtQ/'"
      ]
     },
     "execution_count": 44,
     "metadata": {},
     "output_type": "execute_result"
    }
   ],
   "source": [
    "link"
   ]
  },
  {
   "cell_type": "code",
   "execution_count": 45,
   "id": "bf4af0a1",
   "metadata": {},
   "outputs": [
    {
     "data": {
      "text/plain": [
       "3"
      ]
     },
     "execution_count": 45,
     "metadata": {},
     "output_type": "execute_result"
    }
   ],
   "source": [
    "import gallery_dl as _\n",
    "print(_.__file__)"
   ]
  },
  {
   "cell_type": "code",
   "execution_count": 9,
   "id": "b59eea9d",
   "metadata": {},
   "outputs": [
    {
     "name": "stdout",
     "output_type": "stream",
     "text": [
      "Downloading : 0/1811\n"
     ]
    }
   ],
   "source": [
    "link = allLinks[5]\n",
    "print(\"Downloading : \" + str(0) + \"/\" + str(len(allLinks)))\n",
    "parts = link.index(\"/\")"
   ]
  },
  {
   "cell_type": "code",
   "execution_count": 11,
   "id": "bcc8eaf8",
   "metadata": {},
   "outputs": [
    {
     "data": {
      "text/plain": [
       "'Dress'"
      ]
     },
     "execution_count": 11,
     "metadata": {},
     "output_type": "execute_result"
    }
   ],
   "source": [
    "link[:parts]"
   ]
  },
  {
   "cell_type": "code",
   "execution_count": 13,
   "id": "efde026f",
   "metadata": {},
   "outputs": [
    {
     "data": {
      "text/plain": [
       "'https://www.instagram.com/reel/C2uGjp4o5tP/'"
      ]
     },
     "execution_count": 13,
     "metadata": {},
     "output_type": "execute_result"
    }
   ],
   "source": [
    "link[parts+1:]"
   ]
  },
  {
   "cell_type": "code",
   "execution_count": 48,
   "id": "768ec94e",
   "metadata": {},
   "outputs": [
    {
     "name": "stdout",
     "output_type": "stream",
     "text": [
      "Nyc/https://www.instagram.com/reel/Csj5J9crvZp/\n",
      "Nyc/https://www.instagram.com/p/CgNE9BhuwMB/\n"
     ]
    }
   ],
   "source": [
    "counter = 906\n",
    "for link in allLinks[counter:counter+2]:\n",
    "    print(link)"
   ]
  },
  {
   "cell_type": "code",
   "execution_count": 33,
   "id": "86e5351b",
   "metadata": {},
   "outputs": [
    {
     "data": {
      "text/plain": [
       "907"
      ]
     },
     "execution_count": 33,
     "metadata": {},
     "output_type": "execute_result"
    }
   ],
   "source": [
    "allLinks.index( 'Nyc/https://www.instagram.com/p/CgNE9BhuwMB/')"
   ]
  },
  {
   "cell_type": "code",
   "execution_count": null,
   "id": "b3d1bff6",
   "metadata": {},
   "outputs": [],
   "source": [
    "# print(\"Easy Instagram Downloader for gallery-dl\")\n",
    "# print(\"Make sure you run this program in the directory where you'd like all content saved (e.g. \\\"Instagram Archives\\\" in your Downloads folder)\\n\\n\")\n",
    "\n",
    "# # while True:\n",
    "# #     browser_cookies = input(\"Will you be importing firefox browser cookies? (Y/N) \")\n",
    "# #     if browser_cookies == 'y' or browser_cookies == 'Y':\n",
    "# #         browser = \" --cookies-from-browser firefox \"\n",
    "# #         break\n",
    "# #     elif browser_cookies == 'n' or browser_cookies == 'N':\n",
    "# #         browser = \" \"\n",
    "# #         break\n",
    "# #     else:\n",
    "# #         print(\"ERROR! Invalid input.\")\n",
    "\n",
    "# ### BEGIN RAMBLE ###\n",
    "# ## I've decided that instead of sticking with the above, it makes it much more simple to just default to this.\n",
    "# ## If you'd like to revert to the previous method, comment out the line of code below and uncomment the while loop above.\n",
    "\n",
    "# ## Instead of Firefox, you can replace with your browser of choice.\n",
    "# ### END RAMBLE ###\n",
    "\n",
    "# print(\"\")\n",
    "# user = input(\"Enter the Instagram username: \")\n",
    "# os.system('clear')\n",
    "# print(\"Target selected: @\" + user + \"\\n\\n\")\n",
    "# print(\"What would you like to download? \\nAvailable: posts,reels,tagged,stories,highlights\")\n",
    "# print(\"Separate multiple options with a comma without spaces.\")\n",
    "# media_selection = \"all\"\n",
    "# print(\"Or, type \\\"all\\\" to download everything.\")\n",
    "# media_selection = input(\"(default is \\\"all\\\"): \")\n",
    "# if media_selection == \"all\" or media_selection == \"\":\n",
    "#     media_selection = \"posts,reels,tagged,stories,highlights\"\n",
    "# media_grab = media_selection.split(',')\n",
    "\n",
    "# o = \"-o include=\"\n",
    "# save_dir = \"-D ./\" + user + \"/\"\n",
    "# url = \"https://www.instagram.com/\" + user\n",
    "\n",
    "# os.system('clear')\n",
    "# for media in media_grab:\n",
    "#     print(\"Now gathering \" + media + \" from @\" + user)\n",
    "\n",
    "#     command = \"gallery-dl\" + browser + o + media + \" \" + save_dir + media + \" \" + url\n",
    "\n",
    "#     # Run the command in the terminal\n",
    "#     os.system(command)\n",
    "\n",
    "# print(\"Job complete.\\n\")"
   ]
  }
 ],
 "metadata": {
  "kernelspec": {
   "display_name": "Python 3 (ipykernel)",
   "language": "python",
   "name": "python3"
  },
  "language_info": {
   "codemirror_mode": {
    "name": "ipython",
    "version": 3
   },
   "file_extension": ".py",
   "mimetype": "text/x-python",
   "name": "python",
   "nbconvert_exporter": "python",
   "pygments_lexer": "ipython3",
   "version": "3.11.5"
  }
 },
 "nbformat": 4,
 "nbformat_minor": 5
}
